{
 "cells": [
  {
   "cell_type": "code",
   "execution_count": 2,
   "metadata": {
    "colab": {
     "base_uri": "https://localhost:8080/"
    },
    "id": "ZxtWgxOI0KAR",
    "outputId": "435ad2ac-48b3-4792-ace3-5b5bcef581ea",
    "tags": []
   },
   "outputs": [
    {
     "name": "stdout",
     "output_type": "stream",
     "text": [
      "/content\n"
     ]
    }
   ],
   "source": [
    "import os\n",
    "print(os.getcwd())"
   ]
  },
  {
   "cell_type": "code",
   "execution_count": 3,
   "metadata": {
    "id": "KkUdHuUa01OX",
    "tags": []
   },
   "outputs": [],
   "source": [
    "import pandas as pd\n",
    "df=pd.read_csv(\"POP.csv\")"
   ]
  },
  {
   "cell_type": "code",
   "execution_count": 4,
   "metadata": {
    "colab": {
     "base_uri": "https://localhost:8080/",
     "height": 363
    },
    "id": "woBw6EJY01Ua",
    "outputId": "5ed0cf46-2310-4f4b-df97-fa0177816d63",
    "tags": []
   },
   "outputs": [
    {
     "data": {
      "text/html": [
       "\n",
       "  <div id=\"df-27527c2f-0ebd-4e2b-9dce-21a0ff807390\" class=\"colab-df-container\">\n",
       "    <div>\n",
       "<style scoped>\n",
       "    .dataframe tbody tr th:only-of-type {\n",
       "        vertical-align: middle;\n",
       "    }\n",
       "\n",
       "    .dataframe tbody tr th {\n",
       "        vertical-align: top;\n",
       "    }\n",
       "\n",
       "    .dataframe thead th {\n",
       "        text-align: right;\n",
       "    }\n",
       "</style>\n",
       "<table border=\"1\" class=\"dataframe\">\n",
       "  <thead>\n",
       "    <tr style=\"text-align: right;\">\n",
       "      <th></th>\n",
       "      <th>realtime_start</th>\n",
       "      <th>value</th>\n",
       "      <th>date</th>\n",
       "      <th>realtime_end</th>\n",
       "    </tr>\n",
       "  </thead>\n",
       "  <tbody>\n",
       "    <tr>\n",
       "      <th>0</th>\n",
       "      <td>2019-12-06</td>\n",
       "      <td>156309.0</td>\n",
       "      <td>1952-01-01</td>\n",
       "      <td>2019-12-06</td>\n",
       "    </tr>\n",
       "    <tr>\n",
       "      <th>1</th>\n",
       "      <td>2019-12-06</td>\n",
       "      <td>156527.0</td>\n",
       "      <td>1952-02-01</td>\n",
       "      <td>2019-12-06</td>\n",
       "    </tr>\n",
       "    <tr>\n",
       "      <th>2</th>\n",
       "      <td>2019-12-06</td>\n",
       "      <td>156731.0</td>\n",
       "      <td>1952-03-01</td>\n",
       "      <td>2019-12-06</td>\n",
       "    </tr>\n",
       "    <tr>\n",
       "      <th>3</th>\n",
       "      <td>2019-12-06</td>\n",
       "      <td>156943.0</td>\n",
       "      <td>1952-04-01</td>\n",
       "      <td>2019-12-06</td>\n",
       "    </tr>\n",
       "    <tr>\n",
       "      <th>4</th>\n",
       "      <td>2019-12-06</td>\n",
       "      <td>157140.0</td>\n",
       "      <td>1952-05-01</td>\n",
       "      <td>2019-12-06</td>\n",
       "    </tr>\n",
       "    <tr>\n",
       "      <th>5</th>\n",
       "      <td>2019-12-06</td>\n",
       "      <td>157343.0</td>\n",
       "      <td>1952-06-01</td>\n",
       "      <td>2019-12-06</td>\n",
       "    </tr>\n",
       "    <tr>\n",
       "      <th>6</th>\n",
       "      <td>2019-12-06</td>\n",
       "      <td>157553.0</td>\n",
       "      <td>1952-07-01</td>\n",
       "      <td>2019-12-06</td>\n",
       "    </tr>\n",
       "    <tr>\n",
       "      <th>7</th>\n",
       "      <td>2019-12-06</td>\n",
       "      <td>157798.0</td>\n",
       "      <td>1952-08-01</td>\n",
       "      <td>2019-12-06</td>\n",
       "    </tr>\n",
       "    <tr>\n",
       "      <th>8</th>\n",
       "      <td>2019-12-06</td>\n",
       "      <td>158053.0</td>\n",
       "      <td>1952-09-01</td>\n",
       "      <td>2019-12-06</td>\n",
       "    </tr>\n",
       "    <tr>\n",
       "      <th>9</th>\n",
       "      <td>2019-12-06</td>\n",
       "      <td>158306.0</td>\n",
       "      <td>1952-10-01</td>\n",
       "      <td>2019-12-06</td>\n",
       "    </tr>\n",
       "  </tbody>\n",
       "</table>\n",
       "</div>\n",
       "    <div class=\"colab-df-buttons\">\n",
       "\n",
       "  <div class=\"colab-df-container\">\n",
       "    <button class=\"colab-df-convert\" onclick=\"convertToInteractive('df-27527c2f-0ebd-4e2b-9dce-21a0ff807390')\"\n",
       "            title=\"Convert this dataframe to an interactive table.\"\n",
       "            style=\"display:none;\">\n",
       "\n",
       "  <svg xmlns=\"http://www.w3.org/2000/svg\" height=\"24px\" viewBox=\"0 -960 960 960\">\n",
       "    <path d=\"M120-120v-720h720v720H120Zm60-500h600v-160H180v160Zm220 220h160v-160H400v160Zm0 220h160v-160H400v160ZM180-400h160v-160H180v160Zm440 0h160v-160H620v160ZM180-180h160v-160H180v160Zm440 0h160v-160H620v160Z\"/>\n",
       "  </svg>\n",
       "    </button>\n",
       "\n",
       "  <style>\n",
       "    .colab-df-container {\n",
       "      display:flex;\n",
       "      gap: 12px;\n",
       "    }\n",
       "\n",
       "    .colab-df-convert {\n",
       "      background-color: #E8F0FE;\n",
       "      border: none;\n",
       "      border-radius: 50%;\n",
       "      cursor: pointer;\n",
       "      display: none;\n",
       "      fill: #1967D2;\n",
       "      height: 32px;\n",
       "      padding: 0 0 0 0;\n",
       "      width: 32px;\n",
       "    }\n",
       "\n",
       "    .colab-df-convert:hover {\n",
       "      background-color: #E2EBFA;\n",
       "      box-shadow: 0px 1px 2px rgba(60, 64, 67, 0.3), 0px 1px 3px 1px rgba(60, 64, 67, 0.15);\n",
       "      fill: #174EA6;\n",
       "    }\n",
       "\n",
       "    .colab-df-buttons div {\n",
       "      margin-bottom: 4px;\n",
       "    }\n",
       "\n",
       "    [theme=dark] .colab-df-convert {\n",
       "      background-color: #3B4455;\n",
       "      fill: #D2E3FC;\n",
       "    }\n",
       "\n",
       "    [theme=dark] .colab-df-convert:hover {\n",
       "      background-color: #434B5C;\n",
       "      box-shadow: 0px 1px 3px 1px rgba(0, 0, 0, 0.15);\n",
       "      filter: drop-shadow(0px 1px 2px rgba(0, 0, 0, 0.3));\n",
       "      fill: #FFFFFF;\n",
       "    }\n",
       "  </style>\n",
       "\n",
       "    <script>\n",
       "      const buttonEl =\n",
       "        document.querySelector('#df-27527c2f-0ebd-4e2b-9dce-21a0ff807390 button.colab-df-convert');\n",
       "      buttonEl.style.display =\n",
       "        google.colab.kernel.accessAllowed ? 'block' : 'none';\n",
       "\n",
       "      async function convertToInteractive(key) {\n",
       "        const element = document.querySelector('#df-27527c2f-0ebd-4e2b-9dce-21a0ff807390');\n",
       "        const dataTable =\n",
       "          await google.colab.kernel.invokeFunction('convertToInteractive',\n",
       "                                                    [key], {});\n",
       "        if (!dataTable) return;\n",
       "\n",
       "        const docLinkHtml = 'Like what you see? Visit the ' +\n",
       "          '<a target=\"_blank\" href=https://colab.research.google.com/notebooks/data_table.ipynb>data table notebook</a>'\n",
       "          + ' to learn more about interactive tables.';\n",
       "        element.innerHTML = '';\n",
       "        dataTable['output_type'] = 'display_data';\n",
       "        await google.colab.output.renderOutput(dataTable, element);\n",
       "        const docLink = document.createElement('div');\n",
       "        docLink.innerHTML = docLinkHtml;\n",
       "        element.appendChild(docLink);\n",
       "      }\n",
       "    </script>\n",
       "  </div>\n",
       "\n",
       "\n",
       "<div id=\"df-9ee1b0a9-0eb7-4166-9925-9ebee2be614f\">\n",
       "  <button class=\"colab-df-quickchart\" onclick=\"quickchart('df-9ee1b0a9-0eb7-4166-9925-9ebee2be614f')\"\n",
       "            title=\"Suggest charts\"\n",
       "            style=\"display:none;\">\n",
       "\n",
       "<svg xmlns=\"http://www.w3.org/2000/svg\" height=\"24px\"viewBox=\"0 0 24 24\"\n",
       "     width=\"24px\">\n",
       "    <g>\n",
       "        <path d=\"M19 3H5c-1.1 0-2 .9-2 2v14c0 1.1.9 2 2 2h14c1.1 0 2-.9 2-2V5c0-1.1-.9-2-2-2zM9 17H7v-7h2v7zm4 0h-2V7h2v10zm4 0h-2v-4h2v4z\"/>\n",
       "    </g>\n",
       "</svg>\n",
       "  </button>\n",
       "\n",
       "<style>\n",
       "  .colab-df-quickchart {\n",
       "      --bg-color: #E8F0FE;\n",
       "      --fill-color: #1967D2;\n",
       "      --hover-bg-color: #E2EBFA;\n",
       "      --hover-fill-color: #174EA6;\n",
       "      --disabled-fill-color: #AAA;\n",
       "      --disabled-bg-color: #DDD;\n",
       "  }\n",
       "\n",
       "  [theme=dark] .colab-df-quickchart {\n",
       "      --bg-color: #3B4455;\n",
       "      --fill-color: #D2E3FC;\n",
       "      --hover-bg-color: #434B5C;\n",
       "      --hover-fill-color: #FFFFFF;\n",
       "      --disabled-bg-color: #3B4455;\n",
       "      --disabled-fill-color: #666;\n",
       "  }\n",
       "\n",
       "  .colab-df-quickchart {\n",
       "    background-color: var(--bg-color);\n",
       "    border: none;\n",
       "    border-radius: 50%;\n",
       "    cursor: pointer;\n",
       "    display: none;\n",
       "    fill: var(--fill-color);\n",
       "    height: 32px;\n",
       "    padding: 0;\n",
       "    width: 32px;\n",
       "  }\n",
       "\n",
       "  .colab-df-quickchart:hover {\n",
       "    background-color: var(--hover-bg-color);\n",
       "    box-shadow: 0 1px 2px rgba(60, 64, 67, 0.3), 0 1px 3px 1px rgba(60, 64, 67, 0.15);\n",
       "    fill: var(--button-hover-fill-color);\n",
       "  }\n",
       "\n",
       "  .colab-df-quickchart-complete:disabled,\n",
       "  .colab-df-quickchart-complete:disabled:hover {\n",
       "    background-color: var(--disabled-bg-color);\n",
       "    fill: var(--disabled-fill-color);\n",
       "    box-shadow: none;\n",
       "  }\n",
       "\n",
       "  .colab-df-spinner {\n",
       "    border: 2px solid var(--fill-color);\n",
       "    border-color: transparent;\n",
       "    border-bottom-color: var(--fill-color);\n",
       "    animation:\n",
       "      spin 1s steps(1) infinite;\n",
       "  }\n",
       "\n",
       "  @keyframes spin {\n",
       "    0% {\n",
       "      border-color: transparent;\n",
       "      border-bottom-color: var(--fill-color);\n",
       "      border-left-color: var(--fill-color);\n",
       "    }\n",
       "    20% {\n",
       "      border-color: transparent;\n",
       "      border-left-color: var(--fill-color);\n",
       "      border-top-color: var(--fill-color);\n",
       "    }\n",
       "    30% {\n",
       "      border-color: transparent;\n",
       "      border-left-color: var(--fill-color);\n",
       "      border-top-color: var(--fill-color);\n",
       "      border-right-color: var(--fill-color);\n",
       "    }\n",
       "    40% {\n",
       "      border-color: transparent;\n",
       "      border-right-color: var(--fill-color);\n",
       "      border-top-color: var(--fill-color);\n",
       "    }\n",
       "    60% {\n",
       "      border-color: transparent;\n",
       "      border-right-color: var(--fill-color);\n",
       "    }\n",
       "    80% {\n",
       "      border-color: transparent;\n",
       "      border-right-color: var(--fill-color);\n",
       "      border-bottom-color: var(--fill-color);\n",
       "    }\n",
       "    90% {\n",
       "      border-color: transparent;\n",
       "      border-bottom-color: var(--fill-color);\n",
       "    }\n",
       "  }\n",
       "</style>\n",
       "\n",
       "  <script>\n",
       "    async function quickchart(key) {\n",
       "      const quickchartButtonEl =\n",
       "        document.querySelector('#' + key + ' button');\n",
       "      quickchartButtonEl.disabled = true;  // To prevent multiple clicks.\n",
       "      quickchartButtonEl.classList.add('colab-df-spinner');\n",
       "      try {\n",
       "        const charts = await google.colab.kernel.invokeFunction(\n",
       "            'suggestCharts', [key], {});\n",
       "      } catch (error) {\n",
       "        console.error('Error during call to suggestCharts:', error);\n",
       "      }\n",
       "      quickchartButtonEl.classList.remove('colab-df-spinner');\n",
       "      quickchartButtonEl.classList.add('colab-df-quickchart-complete');\n",
       "    }\n",
       "    (() => {\n",
       "      let quickchartButtonEl =\n",
       "        document.querySelector('#df-9ee1b0a9-0eb7-4166-9925-9ebee2be614f button');\n",
       "      quickchartButtonEl.style.display =\n",
       "        google.colab.kernel.accessAllowed ? 'block' : 'none';\n",
       "    })();\n",
       "  </script>\n",
       "</div>\n",
       "\n",
       "    </div>\n",
       "  </div>\n"
      ],
      "text/plain": [
       "  realtime_start     value        date realtime_end\n",
       "0     2019-12-06  156309.0  1952-01-01   2019-12-06\n",
       "1     2019-12-06  156527.0  1952-02-01   2019-12-06\n",
       "2     2019-12-06  156731.0  1952-03-01   2019-12-06\n",
       "3     2019-12-06  156943.0  1952-04-01   2019-12-06\n",
       "4     2019-12-06  157140.0  1952-05-01   2019-12-06\n",
       "5     2019-12-06  157343.0  1952-06-01   2019-12-06\n",
       "6     2019-12-06  157553.0  1952-07-01   2019-12-06\n",
       "7     2019-12-06  157798.0  1952-08-01   2019-12-06\n",
       "8     2019-12-06  158053.0  1952-09-01   2019-12-06\n",
       "9     2019-12-06  158306.0  1952-10-01   2019-12-06"
      ]
     },
     "execution_count": 4,
     "metadata": {},
     "output_type": "execute_result"
    }
   ],
   "source": [
    "df.head(10)"
   ]
  },
  {
   "cell_type": "code",
   "execution_count": 5,
   "metadata": {
    "colab": {
     "base_uri": "https://localhost:8080/",
     "height": 81
    },
    "id": "4-C6IEQ1SrOo",
    "outputId": "cca83000-84cd-494a-dcac-fceef7f0c44b"
   },
   "outputs": [
    {
     "data": {
      "text/html": [
       "\n",
       "  <div id=\"df-e069d6dc-b069-46ef-96ef-f563a0e6bcd0\" class=\"colab-df-container\">\n",
       "    <div>\n",
       "<style scoped>\n",
       "    .dataframe tbody tr th:only-of-type {\n",
       "        vertical-align: middle;\n",
       "    }\n",
       "\n",
       "    .dataframe tbody tr th {\n",
       "        vertical-align: top;\n",
       "    }\n",
       "\n",
       "    .dataframe thead th {\n",
       "        text-align: right;\n",
       "    }\n",
       "</style>\n",
       "<table border=\"1\" class=\"dataframe\">\n",
       "  <thead>\n",
       "    <tr style=\"text-align: right;\">\n",
       "      <th></th>\n",
       "      <th>count</th>\n",
       "      <th>mean</th>\n",
       "      <th>std</th>\n",
       "      <th>min</th>\n",
       "      <th>25%</th>\n",
       "      <th>50%</th>\n",
       "      <th>75%</th>\n",
       "      <th>max</th>\n",
       "    </tr>\n",
       "  </thead>\n",
       "  <tbody>\n",
       "    <tr>\n",
       "      <th>value</th>\n",
       "      <td>816.0</td>\n",
       "      <td>243847.767826</td>\n",
       "      <td>50519.140567</td>\n",
       "      <td>156309.0</td>\n",
       "      <td>201725.25</td>\n",
       "      <td>239557.5</td>\n",
       "      <td>289364.25</td>\n",
       "      <td>330309.946</td>\n",
       "    </tr>\n",
       "  </tbody>\n",
       "</table>\n",
       "</div>\n",
       "    <div class=\"colab-df-buttons\">\n",
       "\n",
       "  <div class=\"colab-df-container\">\n",
       "    <button class=\"colab-df-convert\" onclick=\"convertToInteractive('df-e069d6dc-b069-46ef-96ef-f563a0e6bcd0')\"\n",
       "            title=\"Convert this dataframe to an interactive table.\"\n",
       "            style=\"display:none;\">\n",
       "\n",
       "  <svg xmlns=\"http://www.w3.org/2000/svg\" height=\"24px\" viewBox=\"0 -960 960 960\">\n",
       "    <path d=\"M120-120v-720h720v720H120Zm60-500h600v-160H180v160Zm220 220h160v-160H400v160Zm0 220h160v-160H400v160ZM180-400h160v-160H180v160Zm440 0h160v-160H620v160ZM180-180h160v-160H180v160Zm440 0h160v-160H620v160Z\"/>\n",
       "  </svg>\n",
       "    </button>\n",
       "\n",
       "  <style>\n",
       "    .colab-df-container {\n",
       "      display:flex;\n",
       "      gap: 12px;\n",
       "    }\n",
       "\n",
       "    .colab-df-convert {\n",
       "      background-color: #E8F0FE;\n",
       "      border: none;\n",
       "      border-radius: 50%;\n",
       "      cursor: pointer;\n",
       "      display: none;\n",
       "      fill: #1967D2;\n",
       "      height: 32px;\n",
       "      padding: 0 0 0 0;\n",
       "      width: 32px;\n",
       "    }\n",
       "\n",
       "    .colab-df-convert:hover {\n",
       "      background-color: #E2EBFA;\n",
       "      box-shadow: 0px 1px 2px rgba(60, 64, 67, 0.3), 0px 1px 3px 1px rgba(60, 64, 67, 0.15);\n",
       "      fill: #174EA6;\n",
       "    }\n",
       "\n",
       "    .colab-df-buttons div {\n",
       "      margin-bottom: 4px;\n",
       "    }\n",
       "\n",
       "    [theme=dark] .colab-df-convert {\n",
       "      background-color: #3B4455;\n",
       "      fill: #D2E3FC;\n",
       "    }\n",
       "\n",
       "    [theme=dark] .colab-df-convert:hover {\n",
       "      background-color: #434B5C;\n",
       "      box-shadow: 0px 1px 3px 1px rgba(0, 0, 0, 0.15);\n",
       "      filter: drop-shadow(0px 1px 2px rgba(0, 0, 0, 0.3));\n",
       "      fill: #FFFFFF;\n",
       "    }\n",
       "  </style>\n",
       "\n",
       "    <script>\n",
       "      const buttonEl =\n",
       "        document.querySelector('#df-e069d6dc-b069-46ef-96ef-f563a0e6bcd0 button.colab-df-convert');\n",
       "      buttonEl.style.display =\n",
       "        google.colab.kernel.accessAllowed ? 'block' : 'none';\n",
       "\n",
       "      async function convertToInteractive(key) {\n",
       "        const element = document.querySelector('#df-e069d6dc-b069-46ef-96ef-f563a0e6bcd0');\n",
       "        const dataTable =\n",
       "          await google.colab.kernel.invokeFunction('convertToInteractive',\n",
       "                                                    [key], {});\n",
       "        if (!dataTable) return;\n",
       "\n",
       "        const docLinkHtml = 'Like what you see? Visit the ' +\n",
       "          '<a target=\"_blank\" href=https://colab.research.google.com/notebooks/data_table.ipynb>data table notebook</a>'\n",
       "          + ' to learn more about interactive tables.';\n",
       "        element.innerHTML = '';\n",
       "        dataTable['output_type'] = 'display_data';\n",
       "        await google.colab.output.renderOutput(dataTable, element);\n",
       "        const docLink = document.createElement('div');\n",
       "        docLink.innerHTML = docLinkHtml;\n",
       "        element.appendChild(docLink);\n",
       "      }\n",
       "    </script>\n",
       "  </div>\n",
       "\n",
       "\n",
       "    </div>\n",
       "  </div>\n"
      ],
      "text/plain": [
       "       count           mean           std       min        25%       50%  \\\n",
       "value  816.0  243847.767826  50519.140567  156309.0  201725.25  239557.5   \n",
       "\n",
       "             75%         max  \n",
       "value  289364.25  330309.946  "
      ]
     },
     "execution_count": 5,
     "metadata": {},
     "output_type": "execute_result"
    }
   ],
   "source": [
    "df.describe().T"
   ]
  },
  {
   "cell_type": "code",
   "execution_count": 6,
   "metadata": {
    "colab": {
     "base_uri": "https://localhost:8080/"
    },
    "id": "zs4aV7TwSwR6",
    "outputId": "ce357254-7932-4d11-ade7-d03dc3475995"
   },
   "outputs": [
    {
     "data": {
      "text/plain": [
       "realtime_start    0\n",
       "value             0\n",
       "date              0\n",
       "realtime_end      0\n",
       "dtype: int64"
      ]
     },
     "execution_count": 6,
     "metadata": {},
     "output_type": "execute_result"
    }
   ],
   "source": [
    "df.isnull().sum()"
   ]
  },
  {
   "cell_type": "code",
   "execution_count": 8,
   "metadata": {
    "id": "FUZXyKvB1A84",
    "tags": []
   },
   "outputs": [],
   "source": [
    "import pandas as pd\n",
    "import numpy as np\n",
    "import matplotlib.pyplot as plt\n",
    "%matplotlib inline\n",
    "import statsmodels.api as sm\n",
    "from statsmodels.tsa.seasonal import seasonal_decompose\n",
    "from statsmodels.tsa.stattools import adfuller\n",
    "from statsmodels.tsa.stattools import acf, pacf\n",
    "from statsmodels.tsa.arima_model import ARIMA\n",
    "\n",
    "import warnings\n",
    "warnings.filterwarnings(action= \"ignore\")"
   ]
  },
  {
   "cell_type": "code",
   "execution_count": 7,
   "metadata": {
    "colab": {
     "base_uri": "https://localhost:8080/",
     "height": 206
    },
    "id": "rAOtbG-V1A-T",
    "outputId": "f44941f9-4717-408b-fb73-00b0bf5619c6",
    "tags": []
   },
   "outputs": [
    {
     "data": {
      "text/html": [
       "\n",
       "  <div id=\"df-1b8f7fb9-806e-47d6-9166-03e60d45eb67\" class=\"colab-df-container\">\n",
       "    <div>\n",
       "<style scoped>\n",
       "    .dataframe tbody tr th:only-of-type {\n",
       "        vertical-align: middle;\n",
       "    }\n",
       "\n",
       "    .dataframe tbody tr th {\n",
       "        vertical-align: top;\n",
       "    }\n",
       "\n",
       "    .dataframe thead th {\n",
       "        text-align: right;\n",
       "    }\n",
       "</style>\n",
       "<table border=\"1\" class=\"dataframe\">\n",
       "  <thead>\n",
       "    <tr style=\"text-align: right;\">\n",
       "      <th></th>\n",
       "      <th>value</th>\n",
       "      <th>date</th>\n",
       "    </tr>\n",
       "  </thead>\n",
       "  <tbody>\n",
       "    <tr>\n",
       "      <th>0</th>\n",
       "      <td>156309.0</td>\n",
       "      <td>1952-01-01</td>\n",
       "    </tr>\n",
       "    <tr>\n",
       "      <th>1</th>\n",
       "      <td>156527.0</td>\n",
       "      <td>1952-02-01</td>\n",
       "    </tr>\n",
       "    <tr>\n",
       "      <th>2</th>\n",
       "      <td>156731.0</td>\n",
       "      <td>1952-03-01</td>\n",
       "    </tr>\n",
       "    <tr>\n",
       "      <th>3</th>\n",
       "      <td>156943.0</td>\n",
       "      <td>1952-04-01</td>\n",
       "    </tr>\n",
       "    <tr>\n",
       "      <th>4</th>\n",
       "      <td>157140.0</td>\n",
       "      <td>1952-05-01</td>\n",
       "    </tr>\n",
       "  </tbody>\n",
       "</table>\n",
       "</div>\n",
       "    <div class=\"colab-df-buttons\">\n",
       "\n",
       "  <div class=\"colab-df-container\">\n",
       "    <button class=\"colab-df-convert\" onclick=\"convertToInteractive('df-1b8f7fb9-806e-47d6-9166-03e60d45eb67')\"\n",
       "            title=\"Convert this dataframe to an interactive table.\"\n",
       "            style=\"display:none;\">\n",
       "\n",
       "  <svg xmlns=\"http://www.w3.org/2000/svg\" height=\"24px\" viewBox=\"0 -960 960 960\">\n",
       "    <path d=\"M120-120v-720h720v720H120Zm60-500h600v-160H180v160Zm220 220h160v-160H400v160Zm0 220h160v-160H400v160ZM180-400h160v-160H180v160Zm440 0h160v-160H620v160ZM180-180h160v-160H180v160Zm440 0h160v-160H620v160Z\"/>\n",
       "  </svg>\n",
       "    </button>\n",
       "\n",
       "  <style>\n",
       "    .colab-df-container {\n",
       "      display:flex;\n",
       "      gap: 12px;\n",
       "    }\n",
       "\n",
       "    .colab-df-convert {\n",
       "      background-color: #E8F0FE;\n",
       "      border: none;\n",
       "      border-radius: 50%;\n",
       "      cursor: pointer;\n",
       "      display: none;\n",
       "      fill: #1967D2;\n",
       "      height: 32px;\n",
       "      padding: 0 0 0 0;\n",
       "      width: 32px;\n",
       "    }\n",
       "\n",
       "    .colab-df-convert:hover {\n",
       "      background-color: #E2EBFA;\n",
       "      box-shadow: 0px 1px 2px rgba(60, 64, 67, 0.3), 0px 1px 3px 1px rgba(60, 64, 67, 0.15);\n",
       "      fill: #174EA6;\n",
       "    }\n",
       "\n",
       "    .colab-df-buttons div {\n",
       "      margin-bottom: 4px;\n",
       "    }\n",
       "\n",
       "    [theme=dark] .colab-df-convert {\n",
       "      background-color: #3B4455;\n",
       "      fill: #D2E3FC;\n",
       "    }\n",
       "\n",
       "    [theme=dark] .colab-df-convert:hover {\n",
       "      background-color: #434B5C;\n",
       "      box-shadow: 0px 1px 3px 1px rgba(0, 0, 0, 0.15);\n",
       "      filter: drop-shadow(0px 1px 2px rgba(0, 0, 0, 0.3));\n",
       "      fill: #FFFFFF;\n",
       "    }\n",
       "  </style>\n",
       "\n",
       "    <script>\n",
       "      const buttonEl =\n",
       "        document.querySelector('#df-1b8f7fb9-806e-47d6-9166-03e60d45eb67 button.colab-df-convert');\n",
       "      buttonEl.style.display =\n",
       "        google.colab.kernel.accessAllowed ? 'block' : 'none';\n",
       "\n",
       "      async function convertToInteractive(key) {\n",
       "        const element = document.querySelector('#df-1b8f7fb9-806e-47d6-9166-03e60d45eb67');\n",
       "        const dataTable =\n",
       "          await google.colab.kernel.invokeFunction('convertToInteractive',\n",
       "                                                    [key], {});\n",
       "        if (!dataTable) return;\n",
       "\n",
       "        const docLinkHtml = 'Like what you see? Visit the ' +\n",
       "          '<a target=\"_blank\" href=https://colab.research.google.com/notebooks/data_table.ipynb>data table notebook</a>'\n",
       "          + ' to learn more about interactive tables.';\n",
       "        element.innerHTML = '';\n",
       "        dataTable['output_type'] = 'display_data';\n",
       "        await google.colab.output.renderOutput(dataTable, element);\n",
       "        const docLink = document.createElement('div');\n",
       "        docLink.innerHTML = docLinkHtml;\n",
       "        element.appendChild(docLink);\n",
       "      }\n",
       "    </script>\n",
       "  </div>\n",
       "\n",
       "\n",
       "<div id=\"df-94cf78a5-0624-410b-8c8b-de6d26685228\">\n",
       "  <button class=\"colab-df-quickchart\" onclick=\"quickchart('df-94cf78a5-0624-410b-8c8b-de6d26685228')\"\n",
       "            title=\"Suggest charts\"\n",
       "            style=\"display:none;\">\n",
       "\n",
       "<svg xmlns=\"http://www.w3.org/2000/svg\" height=\"24px\"viewBox=\"0 0 24 24\"\n",
       "     width=\"24px\">\n",
       "    <g>\n",
       "        <path d=\"M19 3H5c-1.1 0-2 .9-2 2v14c0 1.1.9 2 2 2h14c1.1 0 2-.9 2-2V5c0-1.1-.9-2-2-2zM9 17H7v-7h2v7zm4 0h-2V7h2v10zm4 0h-2v-4h2v4z\"/>\n",
       "    </g>\n",
       "</svg>\n",
       "  </button>\n",
       "\n",
       "<style>\n",
       "  .colab-df-quickchart {\n",
       "      --bg-color: #E8F0FE;\n",
       "      --fill-color: #1967D2;\n",
       "      --hover-bg-color: #E2EBFA;\n",
       "      --hover-fill-color: #174EA6;\n",
       "      --disabled-fill-color: #AAA;\n",
       "      --disabled-bg-color: #DDD;\n",
       "  }\n",
       "\n",
       "  [theme=dark] .colab-df-quickchart {\n",
       "      --bg-color: #3B4455;\n",
       "      --fill-color: #D2E3FC;\n",
       "      --hover-bg-color: #434B5C;\n",
       "      --hover-fill-color: #FFFFFF;\n",
       "      --disabled-bg-color: #3B4455;\n",
       "      --disabled-fill-color: #666;\n",
       "  }\n",
       "\n",
       "  .colab-df-quickchart {\n",
       "    background-color: var(--bg-color);\n",
       "    border: none;\n",
       "    border-radius: 50%;\n",
       "    cursor: pointer;\n",
       "    display: none;\n",
       "    fill: var(--fill-color);\n",
       "    height: 32px;\n",
       "    padding: 0;\n",
       "    width: 32px;\n",
       "  }\n",
       "\n",
       "  .colab-df-quickchart:hover {\n",
       "    background-color: var(--hover-bg-color);\n",
       "    box-shadow: 0 1px 2px rgba(60, 64, 67, 0.3), 0 1px 3px 1px rgba(60, 64, 67, 0.15);\n",
       "    fill: var(--button-hover-fill-color);\n",
       "  }\n",
       "\n",
       "  .colab-df-quickchart-complete:disabled,\n",
       "  .colab-df-quickchart-complete:disabled:hover {\n",
       "    background-color: var(--disabled-bg-color);\n",
       "    fill: var(--disabled-fill-color);\n",
       "    box-shadow: none;\n",
       "  }\n",
       "\n",
       "  .colab-df-spinner {\n",
       "    border: 2px solid var(--fill-color);\n",
       "    border-color: transparent;\n",
       "    border-bottom-color: var(--fill-color);\n",
       "    animation:\n",
       "      spin 1s steps(1) infinite;\n",
       "  }\n",
       "\n",
       "  @keyframes spin {\n",
       "    0% {\n",
       "      border-color: transparent;\n",
       "      border-bottom-color: var(--fill-color);\n",
       "      border-left-color: var(--fill-color);\n",
       "    }\n",
       "    20% {\n",
       "      border-color: transparent;\n",
       "      border-left-color: var(--fill-color);\n",
       "      border-top-color: var(--fill-color);\n",
       "    }\n",
       "    30% {\n",
       "      border-color: transparent;\n",
       "      border-left-color: var(--fill-color);\n",
       "      border-top-color: var(--fill-color);\n",
       "      border-right-color: var(--fill-color);\n",
       "    }\n",
       "    40% {\n",
       "      border-color: transparent;\n",
       "      border-right-color: var(--fill-color);\n",
       "      border-top-color: var(--fill-color);\n",
       "    }\n",
       "    60% {\n",
       "      border-color: transparent;\n",
       "      border-right-color: var(--fill-color);\n",
       "    }\n",
       "    80% {\n",
       "      border-color: transparent;\n",
       "      border-right-color: var(--fill-color);\n",
       "      border-bottom-color: var(--fill-color);\n",
       "    }\n",
       "    90% {\n",
       "      border-color: transparent;\n",
       "      border-bottom-color: var(--fill-color);\n",
       "    }\n",
       "  }\n",
       "</style>\n",
       "\n",
       "  <script>\n",
       "    async function quickchart(key) {\n",
       "      const quickchartButtonEl =\n",
       "        document.querySelector('#' + key + ' button');\n",
       "      quickchartButtonEl.disabled = true;  // To prevent multiple clicks.\n",
       "      quickchartButtonEl.classList.add('colab-df-spinner');\n",
       "      try {\n",
       "        const charts = await google.colab.kernel.invokeFunction(\n",
       "            'suggestCharts', [key], {});\n",
       "      } catch (error) {\n",
       "        console.error('Error during call to suggestCharts:', error);\n",
       "      }\n",
       "      quickchartButtonEl.classList.remove('colab-df-spinner');\n",
       "      quickchartButtonEl.classList.add('colab-df-quickchart-complete');\n",
       "    }\n",
       "    (() => {\n",
       "      let quickchartButtonEl =\n",
       "        document.querySelector('#df-94cf78a5-0624-410b-8c8b-de6d26685228 button');\n",
       "      quickchartButtonEl.style.display =\n",
       "        google.colab.kernel.accessAllowed ? 'block' : 'none';\n",
       "    })();\n",
       "  </script>\n",
       "</div>\n",
       "\n",
       "    </div>\n",
       "  </div>\n"
      ],
      "text/plain": [
       "      value        date\n",
       "0  156309.0  1952-01-01\n",
       "1  156527.0  1952-02-01\n",
       "2  156731.0  1952-03-01\n",
       "3  156943.0  1952-04-01\n",
       "4  157140.0  1952-05-01"
      ]
     },
     "execution_count": 7,
     "metadata": {},
     "output_type": "execute_result"
    }
   ],
   "source": [
    "df.drop(['realtime_start','realtime_end'],axis=1,inplace=True)\n",
    "df.head()"
   ]
  },
  {
   "cell_type": "code",
   "execution_count": 9,
   "metadata": {
    "colab": {
     "base_uri": "https://localhost:8080/"
    },
    "id": "tgZFkhgL1BBQ",
    "outputId": "ea95bac9-44c6-467a-a793-157afc524a51",
    "tags": []
   },
   "outputs": [
    {
     "data": {
      "text/plain": [
       "value    float64\n",
       "date      object\n",
       "dtype: object"
      ]
     },
     "execution_count": 9,
     "metadata": {},
     "output_type": "execute_result"
    }
   ],
   "source": [
    "df.dtypes\n"
   ]
  },
  {
   "cell_type": "code",
   "execution_count": 10,
   "metadata": {
    "colab": {
     "base_uri": "https://localhost:8080/",
     "height": 112
    },
    "id": "OqxLp2s-4QdY",
    "outputId": "6e85300b-d515-49e4-aa6d-93596b06a14b",
    "tags": []
   },
   "outputs": [
    {
     "data": {
      "text/html": [
       "\n",
       "  <div id=\"df-6d6a819b-db64-4820-b89c-3196dcd106e8\" class=\"colab-df-container\">\n",
       "    <div>\n",
       "<style scoped>\n",
       "    .dataframe tbody tr th:only-of-type {\n",
       "        vertical-align: middle;\n",
       "    }\n",
       "\n",
       "    .dataframe tbody tr th {\n",
       "        vertical-align: top;\n",
       "    }\n",
       "\n",
       "    .dataframe thead th {\n",
       "        text-align: right;\n",
       "    }\n",
       "</style>\n",
       "<table border=\"1\" class=\"dataframe\">\n",
       "  <thead>\n",
       "    <tr style=\"text-align: right;\">\n",
       "      <th></th>\n",
       "      <th>y</th>\n",
       "      <th>ds</th>\n",
       "    </tr>\n",
       "  </thead>\n",
       "  <tbody>\n",
       "    <tr>\n",
       "      <th>0</th>\n",
       "      <td>156309.0</td>\n",
       "      <td>1952-01-01</td>\n",
       "    </tr>\n",
       "    <tr>\n",
       "      <th>1</th>\n",
       "      <td>156527.0</td>\n",
       "      <td>1952-02-01</td>\n",
       "    </tr>\n",
       "  </tbody>\n",
       "</table>\n",
       "</div>\n",
       "    <div class=\"colab-df-buttons\">\n",
       "\n",
       "  <div class=\"colab-df-container\">\n",
       "    <button class=\"colab-df-convert\" onclick=\"convertToInteractive('df-6d6a819b-db64-4820-b89c-3196dcd106e8')\"\n",
       "            title=\"Convert this dataframe to an interactive table.\"\n",
       "            style=\"display:none;\">\n",
       "\n",
       "  <svg xmlns=\"http://www.w3.org/2000/svg\" height=\"24px\" viewBox=\"0 -960 960 960\">\n",
       "    <path d=\"M120-120v-720h720v720H120Zm60-500h600v-160H180v160Zm220 220h160v-160H400v160Zm0 220h160v-160H400v160ZM180-400h160v-160H180v160Zm440 0h160v-160H620v160ZM180-180h160v-160H180v160Zm440 0h160v-160H620v160Z\"/>\n",
       "  </svg>\n",
       "    </button>\n",
       "\n",
       "  <style>\n",
       "    .colab-df-container {\n",
       "      display:flex;\n",
       "      gap: 12px;\n",
       "    }\n",
       "\n",
       "    .colab-df-convert {\n",
       "      background-color: #E8F0FE;\n",
       "      border: none;\n",
       "      border-radius: 50%;\n",
       "      cursor: pointer;\n",
       "      display: none;\n",
       "      fill: #1967D2;\n",
       "      height: 32px;\n",
       "      padding: 0 0 0 0;\n",
       "      width: 32px;\n",
       "    }\n",
       "\n",
       "    .colab-df-convert:hover {\n",
       "      background-color: #E2EBFA;\n",
       "      box-shadow: 0px 1px 2px rgba(60, 64, 67, 0.3), 0px 1px 3px 1px rgba(60, 64, 67, 0.15);\n",
       "      fill: #174EA6;\n",
       "    }\n",
       "\n",
       "    .colab-df-buttons div {\n",
       "      margin-bottom: 4px;\n",
       "    }\n",
       "\n",
       "    [theme=dark] .colab-df-convert {\n",
       "      background-color: #3B4455;\n",
       "      fill: #D2E3FC;\n",
       "    }\n",
       "\n",
       "    [theme=dark] .colab-df-convert:hover {\n",
       "      background-color: #434B5C;\n",
       "      box-shadow: 0px 1px 3px 1px rgba(0, 0, 0, 0.15);\n",
       "      filter: drop-shadow(0px 1px 2px rgba(0, 0, 0, 0.3));\n",
       "      fill: #FFFFFF;\n",
       "    }\n",
       "  </style>\n",
       "\n",
       "    <script>\n",
       "      const buttonEl =\n",
       "        document.querySelector('#df-6d6a819b-db64-4820-b89c-3196dcd106e8 button.colab-df-convert');\n",
       "      buttonEl.style.display =\n",
       "        google.colab.kernel.accessAllowed ? 'block' : 'none';\n",
       "\n",
       "      async function convertToInteractive(key) {\n",
       "        const element = document.querySelector('#df-6d6a819b-db64-4820-b89c-3196dcd106e8');\n",
       "        const dataTable =\n",
       "          await google.colab.kernel.invokeFunction('convertToInteractive',\n",
       "                                                    [key], {});\n",
       "        if (!dataTable) return;\n",
       "\n",
       "        const docLinkHtml = 'Like what you see? Visit the ' +\n",
       "          '<a target=\"_blank\" href=https://colab.research.google.com/notebooks/data_table.ipynb>data table notebook</a>'\n",
       "          + ' to learn more about interactive tables.';\n",
       "        element.innerHTML = '';\n",
       "        dataTable['output_type'] = 'display_data';\n",
       "        await google.colab.output.renderOutput(dataTable, element);\n",
       "        const docLink = document.createElement('div');\n",
       "        docLink.innerHTML = docLinkHtml;\n",
       "        element.appendChild(docLink);\n",
       "      }\n",
       "    </script>\n",
       "  </div>\n",
       "\n",
       "\n",
       "<div id=\"df-d06173b5-d946-48ef-aa59-2353a5d9907d\">\n",
       "  <button class=\"colab-df-quickchart\" onclick=\"quickchart('df-d06173b5-d946-48ef-aa59-2353a5d9907d')\"\n",
       "            title=\"Suggest charts\"\n",
       "            style=\"display:none;\">\n",
       "\n",
       "<svg xmlns=\"http://www.w3.org/2000/svg\" height=\"24px\"viewBox=\"0 0 24 24\"\n",
       "     width=\"24px\">\n",
       "    <g>\n",
       "        <path d=\"M19 3H5c-1.1 0-2 .9-2 2v14c0 1.1.9 2 2 2h14c1.1 0 2-.9 2-2V5c0-1.1-.9-2-2-2zM9 17H7v-7h2v7zm4 0h-2V7h2v10zm4 0h-2v-4h2v4z\"/>\n",
       "    </g>\n",
       "</svg>\n",
       "  </button>\n",
       "\n",
       "<style>\n",
       "  .colab-df-quickchart {\n",
       "      --bg-color: #E8F0FE;\n",
       "      --fill-color: #1967D2;\n",
       "      --hover-bg-color: #E2EBFA;\n",
       "      --hover-fill-color: #174EA6;\n",
       "      --disabled-fill-color: #AAA;\n",
       "      --disabled-bg-color: #DDD;\n",
       "  }\n",
       "\n",
       "  [theme=dark] .colab-df-quickchart {\n",
       "      --bg-color: #3B4455;\n",
       "      --fill-color: #D2E3FC;\n",
       "      --hover-bg-color: #434B5C;\n",
       "      --hover-fill-color: #FFFFFF;\n",
       "      --disabled-bg-color: #3B4455;\n",
       "      --disabled-fill-color: #666;\n",
       "  }\n",
       "\n",
       "  .colab-df-quickchart {\n",
       "    background-color: var(--bg-color);\n",
       "    border: none;\n",
       "    border-radius: 50%;\n",
       "    cursor: pointer;\n",
       "    display: none;\n",
       "    fill: var(--fill-color);\n",
       "    height: 32px;\n",
       "    padding: 0;\n",
       "    width: 32px;\n",
       "  }\n",
       "\n",
       "  .colab-df-quickchart:hover {\n",
       "    background-color: var(--hover-bg-color);\n",
       "    box-shadow: 0 1px 2px rgba(60, 64, 67, 0.3), 0 1px 3px 1px rgba(60, 64, 67, 0.15);\n",
       "    fill: var(--button-hover-fill-color);\n",
       "  }\n",
       "\n",
       "  .colab-df-quickchart-complete:disabled,\n",
       "  .colab-df-quickchart-complete:disabled:hover {\n",
       "    background-color: var(--disabled-bg-color);\n",
       "    fill: var(--disabled-fill-color);\n",
       "    box-shadow: none;\n",
       "  }\n",
       "\n",
       "  .colab-df-spinner {\n",
       "    border: 2px solid var(--fill-color);\n",
       "    border-color: transparent;\n",
       "    border-bottom-color: var(--fill-color);\n",
       "    animation:\n",
       "      spin 1s steps(1) infinite;\n",
       "  }\n",
       "\n",
       "  @keyframes spin {\n",
       "    0% {\n",
       "      border-color: transparent;\n",
       "      border-bottom-color: var(--fill-color);\n",
       "      border-left-color: var(--fill-color);\n",
       "    }\n",
       "    20% {\n",
       "      border-color: transparent;\n",
       "      border-left-color: var(--fill-color);\n",
       "      border-top-color: var(--fill-color);\n",
       "    }\n",
       "    30% {\n",
       "      border-color: transparent;\n",
       "      border-left-color: var(--fill-color);\n",
       "      border-top-color: var(--fill-color);\n",
       "      border-right-color: var(--fill-color);\n",
       "    }\n",
       "    40% {\n",
       "      border-color: transparent;\n",
       "      border-right-color: var(--fill-color);\n",
       "      border-top-color: var(--fill-color);\n",
       "    }\n",
       "    60% {\n",
       "      border-color: transparent;\n",
       "      border-right-color: var(--fill-color);\n",
       "    }\n",
       "    80% {\n",
       "      border-color: transparent;\n",
       "      border-right-color: var(--fill-color);\n",
       "      border-bottom-color: var(--fill-color);\n",
       "    }\n",
       "    90% {\n",
       "      border-color: transparent;\n",
       "      border-bottom-color: var(--fill-color);\n",
       "    }\n",
       "  }\n",
       "</style>\n",
       "\n",
       "  <script>\n",
       "    async function quickchart(key) {\n",
       "      const quickchartButtonEl =\n",
       "        document.querySelector('#' + key + ' button');\n",
       "      quickchartButtonEl.disabled = true;  // To prevent multiple clicks.\n",
       "      quickchartButtonEl.classList.add('colab-df-spinner');\n",
       "      try {\n",
       "        const charts = await google.colab.kernel.invokeFunction(\n",
       "            'suggestCharts', [key], {});\n",
       "      } catch (error) {\n",
       "        console.error('Error during call to suggestCharts:', error);\n",
       "      }\n",
       "      quickchartButtonEl.classList.remove('colab-df-spinner');\n",
       "      quickchartButtonEl.classList.add('colab-df-quickchart-complete');\n",
       "    }\n",
       "    (() => {\n",
       "      let quickchartButtonEl =\n",
       "        document.querySelector('#df-d06173b5-d946-48ef-aa59-2353a5d9907d button');\n",
       "      quickchartButtonEl.style.display =\n",
       "        google.colab.kernel.accessAllowed ? 'block' : 'none';\n",
       "    })();\n",
       "  </script>\n",
       "</div>\n",
       "\n",
       "    </div>\n",
       "  </div>\n"
      ],
      "text/plain": [
       "          y          ds\n",
       "0  156309.0  1952-01-01\n",
       "1  156527.0  1952-02-01"
      ]
     },
     "execution_count": 10,
     "metadata": {},
     "output_type": "execute_result"
    }
   ],
   "source": [
    "df.rename(columns={'date': 'ds', 'value': 'y'}, inplace=True)\n",
    "df.head(2)"
   ]
  },
  {
   "cell_type": "code",
   "execution_count": 11,
   "metadata": {
    "id": "cQXDjVo51u-8",
    "tags": []
   },
   "outputs": [],
   "source": [
    "\n",
    "df['ds'] = pd.to_datetime(df['ds'], format='%Y-%m-%d')\n",
    "\n"
   ]
  },
  {
   "cell_type": "code",
   "execution_count": 12,
   "metadata": {
    "colab": {
     "base_uri": "https://localhost:8080/"
    },
    "id": "Qu25v3RK7HT-",
    "outputId": "27f4de1c-11bd-4cdc-e1f9-e5e5a9e6586f",
    "tags": []
   },
   "outputs": [
    {
     "data": {
      "text/plain": [
       "0"
      ]
     },
     "execution_count": 12,
     "metadata": {},
     "output_type": "execute_result"
    }
   ],
   "source": [
    "df.duplicated().sum()"
   ]
  },
  {
   "cell_type": "code",
   "execution_count": 13,
   "metadata": {
    "colab": {
     "base_uri": "https://localhost:8080/"
    },
    "id": "OrXS19Vd7Hd9",
    "outputId": "25660514-9205-4470-ee4f-6fd0832511f0",
    "tags": []
   },
   "outputs": [
    {
     "data": {
      "text/plain": [
       "y     0\n",
       "ds    0\n",
       "dtype: int64"
      ]
     },
     "execution_count": 13,
     "metadata": {},
     "output_type": "execute_result"
    }
   ],
   "source": [
    "df.isnull().sum()"
   ]
  },
  {
   "cell_type": "code",
   "execution_count": 16,
   "metadata": {
    "colab": {
     "base_uri": "https://localhost:8080/"
    },
    "id": "OPke5B89TQe_",
    "outputId": "b6c68577-def0-4812-8ffd-0accc61cd00b"
   },
   "outputs": [
    {
     "data": {
      "text/plain": [
       "y            float64\n",
       "ds    datetime64[ns]\n",
       "dtype: object"
      ]
     },
     "execution_count": 16,
     "metadata": {},
     "output_type": "execute_result"
    }
   ],
   "source": [
    "df.dtypes"
   ]
  },
  {
   "cell_type": "code",
   "execution_count": 14,
   "metadata": {
    "colab": {
     "base_uri": "https://localhost:8080/"
    },
    "id": "r-9NC7to78WW",
    "outputId": "c01bf2b4-5188-446c-b4e5-8d82bf248abb",
    "tags": []
   },
   "outputs": [
    {
     "data": {
      "text/plain": [
       "Index(['y', 'ds'], dtype='object')"
      ]
     },
     "execution_count": 14,
     "metadata": {},
     "output_type": "execute_result"
    }
   ],
   "source": [
    "df.columns"
   ]
  },
  {
   "cell_type": "code",
   "execution_count": null,
   "metadata": {
    "id": "ocVHHAzT7HhE"
   },
   "outputs": [],
   "source": [
    "df['year']=df['ds'].dt.year\n",
    "df['month']=df['ds'].dt.month\n",
    "df['day']=df['ds'].dt.day"
   ]
  },
  {
   "cell_type": "code",
   "execution_count": 18,
   "metadata": {
    "colab": {
     "base_uri": "https://localhost:8080/",
     "height": 1000
    },
    "id": "DRhHGjHeTg4N",
    "outputId": "063fabda-5127-4356-fff0-ece22ca4e36b"
   },
   "outputs": [
    {
     "data": {
      "image/png": "[encoded data removed]",
      "text/plain": [
       "<Figure size 1000x600 with 1 Axes>"
      ]
     },
     "metadata": {},
     "output_type": "display_data"
    },
    {
     "name": "stdout",
     "output_type": "stream",
     "text": [
      "Correlation between 'y' and time: 0.9987722226457298\n"
     ]
    },
    {
     "data": {
      "image/png": "[encoded data removed]",
      "text/plain": [
       "<Figure size 800x600 with 2 Axes>"
      ]
     },
     "metadata": {},
     "output_type": "display_data"
    }
   ],
   "source": [
    "import pandas as pd\n",
    "import matplotlib.pyplot as plt\n",
    "import seaborn as sns\n",
    "\n",
    "\n",
    "\n",
    "plt.figure(figsize=(10, 6))\n",
    "plt.plot(df['ds'], df['y'], marker='o', linestyle='-')\n",
    "plt.title('Visualization of \"y\" over Time')\n",
    "plt.xlabel('Time')\n",
    "plt.ylabel('Value (y)')\n",
    "plt.show()\n",
    "\n",
    "correlation = df['y'].corr(df['ds'].astype(int))\n",
    "print(f\"Correlation between 'y' and time: {correlation}\")\n",
    "\n",
    "correlation_matrix = df.corr()\n",
    "plt.figure(figsize=(8, 6))\n",
    "sns.heatmap(correlation_matrix, annot=True, cmap='coolwarm', fmt=\".2f\")\n",
    "plt.title('Correlation Heatmap')\n",
    "plt.show()\n"
   ]
  },
  {
   "cell_type": "code",
   "execution_count": 19,
   "metadata": {
    "colab": {
     "base_uri": "https://localhost:8080/"
    },
    "id": "-O2mxe-48auQ",
    "outputId": "299c06fe-e48f-48aa-a0a6-fb88f802af7c"
   },
   "outputs": [
    {
     "name": "stdout",
     "output_type": "stream",
     "text": [
      "{'changepoint_prior_scale': 0.1, 'holidays_prior_scale': 0.1, 'n_changepoints': 1, 'seasonality_mode': 'multiplicative', 'yearly_seasonality': 'auto'}\n"
     ]
    },
    {
     "name": "stderr",
     "output_type": "stream",
     "text": [
      "INFO:prophet:Disabling weekly seasonality. Run prophet with weekly_seasonality=True to override this.\n",
      "INFO:prophet:Disabling daily seasonality. Run prophet with daily_seasonality=True to override this.\n",
      "DEBUG:cmdstanpy:input tempfile: /tmp/tmp9z4f2c6p/foov_z0s.json\n",
      "DEBUG:cmdstanpy:input tempfile: /tmp/tmp9z4f2c6p/vt2kuisq.json\n",
      "DEBUG:cmdstanpy:idx 0\n",
      "DEBUG:cmdstanpy:running CmdStan, num_threads: None\n",
      "DEBUG:cmdstanpy:CmdStan args: ['/usr/local/lib/python3.10/dist-packages/prophet/stan_model/prophet_model.bin', 'random', 'seed=51415', 'data', 'file=/tmp/tmp9z4f2c6p/foov_z0s.json', 'init=/tmp/tmp9z4f2c6p/vt2kuisq.json', 'output', 'file=/tmp/tmp9z4f2c6p/prophet_modelfyezdoam/prophet_model-20231125070838.csv', 'method=optimize', 'algorithm=lbfgs', 'iter=10000']\n",
      "07:08:38 - cmdstanpy - INFO - Chain [1] start processing\n",
      "INFO:cmdstanpy:Chain [1] start processing\n",
      "07:08:38 - cmdstanpy - INFO - Chain [1] done processing\n",
      "INFO:cmdstanpy:Chain [1] done processing\n",
      "INFO:prophet:Disabling weekly seasonality. Run prophet with weekly_seasonality=True to override this.\n",
      "INFO:prophet:Disabling daily seasonality. Run prophet with daily_seasonality=True to override this.\n",
      "DEBUG:cmdstanpy:input tempfile: /tmp/tmp9z4f2c6p/rn8yu6br.json\n",
      "DEBUG:cmdstanpy:input tempfile: /tmp/tmp9z4f2c6p/b_d59cly.json\n",
      "DEBUG:cmdstanpy:idx 0\n",
      "DEBUG:cmdstanpy:running CmdStan, num_threads: None\n",
      "DEBUG:cmdstanpy:CmdStan args: ['/usr/local/lib/python3.10/dist-packages/prophet/stan_model/prophet_model.bin', 'random', 'seed=6522', 'data', 'file=/tmp/tmp9z4f2c6p/rn8yu6br.json', 'init=/tmp/tmp9z4f2c6p/b_d59cly.json', 'output', 'file=/tmp/tmp9z4f2c6p/prophet_modelfuwrdiyt/prophet_model-20231125070838.csv', 'method=optimize', 'algorithm=lbfgs', 'iter=10000']\n",
      "07:08:38 - cmdstanpy - INFO - Chain [1] start processing\n",
      "INFO:cmdstanpy:Chain [1] start processing\n",
      "07:08:39 - cmdstanpy - INFO - Chain [1] done processing\n",
      "INFO:cmdstanpy:Chain [1] done processing\n"
     ]
    },
    {
     "name": "stdout",
     "output_type": "stream",
     "text": [
      "MPE: -5.7174307163500085e-05\n",
      "{'changepoint_prior_scale': 0.1, 'holidays_prior_scale': 0.1, 'n_changepoints': 1, 'seasonality_mode': 'multiplicative', 'yearly_seasonality': True}\n"
     ]
    },
    {
     "name": "stderr",
     "output_type": "stream",
     "text": [
      "INFO:prophet:Disabling weekly seasonality. Run prophet with weekly_seasonality=True to override this.\n",
      "INFO:prophet:Disabling daily seasonality. Run prophet with daily_seasonality=True to override this.\n",
      "DEBUG:cmdstanpy:input tempfile: /tmp/tmp9z4f2c6p/2mvixnv0.json\n",
      "DEBUG:cmdstanpy:input tempfile: /tmp/tmp9z4f2c6p/uh97grs3.json\n",
      "DEBUG:cmdstanpy:idx 0\n",
      "DEBUG:cmdstanpy:running CmdStan, num_threads: None\n",
      "DEBUG:cmdstanpy:CmdStan args: ['/usr/local/lib/python3.10/dist-packages/prophet/stan_model/prophet_model.bin', 'random', 'seed=25685', 'data', 'file=/tmp/tmp9z4f2c6p/2mvixnv0.json', 'init=/tmp/tmp9z4f2c6p/uh97grs3.json', 'output', 'file=/tmp/tmp9z4f2c6p/prophet_model7nt1_f5n/prophet_model-20231125070839.csv', 'method=optimize', 'algorithm=lbfgs', 'iter=10000']\n",
      "07:08:39 - cmdstanpy - INFO - Chain [1] start processing\n",
      "INFO:cmdstanpy:Chain [1] start processing\n",
      "07:08:39 - cmdstanpy - INFO - Chain [1] done processing\n",
      "INFO:cmdstanpy:Chain [1] done processing\n"
     ]
    },
    {
     "name": "stdout",
     "output_type": "stream",
     "text": [
      "MPE: -5.7174307163500085e-05\n",
      "{'changepoint_prior_scale': 0.1, 'holidays_prior_scale': 0.1, 'n_changepoints': 1, 'seasonality_mode': 'multiplicative', 'yearly_seasonality': False}\n"
     ]
    },
    {
     "name": "stderr",
     "output_type": "stream",
     "text": [
      "INFO:prophet:Disabling weekly seasonality. Run prophet with weekly_seasonality=True to override this.\n",
      "INFO:prophet:Disabling daily seasonality. Run prophet with daily_seasonality=True to override this.\n",
      "DEBUG:cmdstanpy:input tempfile: /tmp/tmp9z4f2c6p/r33e3e_s.json\n",
      "DEBUG:cmdstanpy:input tempfile: /tmp/tmp9z4f2c6p/6cdzhxvd.json\n",
      "DEBUG:cmdstanpy:idx 0\n",
      "DEBUG:cmdstanpy:running CmdStan, num_threads: None\n",
      "DEBUG:cmdstanpy:CmdStan args: ['/usr/local/lib/python3.10/dist-packages/prophet/stan_model/prophet_model.bin', 'random', 'seed=92040', 'data', 'file=/tmp/tmp9z4f2c6p/r33e3e_s.json', 'init=/tmp/tmp9z4f2c6p/6cdzhxvd.json', 'output', 'file=/tmp/tmp9z4f2c6p/prophet_modeluqdgrbaw/prophet_model-20231125070839.csv', 'method=optimize', 'algorithm=lbfgs', 'iter=10000']\n",
      "07:08:39 - cmdstanpy - INFO - Chain [1] start processing\n",
      "INFO:cmdstanpy:Chain [1] start processing\n",
      "07:08:39 - cmdstanpy - INFO - Chain [1] done processing\n",
      "INFO:cmdstanpy:Chain [1] done processing\n"
     ]
    },
    {
     "name": "stdout",
     "output_type": "stream",
     "text": [
      "MPE: -5.545864711806262e-05\n",
      "{'changepoint_prior_scale': 0.1, 'holidays_prior_scale': 0.1, 'n_changepoints': 1, 'seasonality_mode': 'additive', 'yearly_seasonality': 'auto'}\n"
     ]
    },
    {
     "name": "stderr",
     "output_type": "stream",
     "text": [
      "INFO:prophet:Disabling weekly seasonality. Run prophet with weekly_seasonality=True to override this.\n",
      "INFO:prophet:Disabling daily seasonality. Run prophet with daily_seasonality=True to override this.\n",
      "DEBUG:cmdstanpy:input tempfile: /tmp/tmp9z4f2c6p/spq44twg.json\n",
      "DEBUG:cmdstanpy:input tempfile: /tmp/tmp9z4f2c6p/4c2qkvos.json\n",
      "DEBUG:cmdstanpy:idx 0\n",
      "DEBUG:cmdstanpy:running CmdStan, num_threads: None\n",
      "DEBUG:cmdstanpy:CmdStan args: ['/usr/local/lib/python3.10/dist-packages/prophet/stan_model/prophet_model.bin', 'random', 'seed=46156', 'data', 'file=/tmp/tmp9z4f2c6p/spq44twg.json', 'init=/tmp/tmp9z4f2c6p/4c2qkvos.json', 'output', 'file=/tmp/tmp9z4f2c6p/prophet_model011r9oh6/prophet_model-20231125070840.csv', 'method=optimize', 'algorithm=lbfgs', 'iter=10000']\n",
      "07:08:40 - cmdstanpy - INFO - Chain [1] start processing\n",
      "INFO:cmdstanpy:Chain [1] start processing\n"
     ]
    },
    {
     "name": "stdout",
     "output_type": "stream",
     "text": [
      "MPE: -5.581752065574069e-05\n",
      "{'changepoint_prior_scale': 0.1, 'holidays_prior_scale': 0.1, 'n_changepoints': 1, 'seasonality_mode': 'additive', 'yearly_seasonality': True}\n"
     ]
    },
    {
     "name": "stderr",
     "output_type": "stream",
     "text": [
      "07:08:40 - cmdstanpy - INFO - Chain [1] done processing\n",
      "INFO:cmdstanpy:Chain [1] done processing\n",
      "INFO:prophet:Disabling weekly seasonality. Run prophet with weekly_seasonality=True to override this.\n",
      "INFO:prophet:Disabling daily seasonality. Run prophet with daily_seasonality=True to override this.\n",
      "DEBUG:cmdstanpy:input tempfile: /tmp/tmp9z4f2c6p/qqgv787t.json\n",
      "DEBUG:cmdstanpy:input tempfile: /tmp/tmp9z4f2c6p/8kcta9kn.json\n",
      "DEBUG:cmdstanpy:idx 0\n",
      "DEBUG:cmdstanpy:running CmdStan, num_threads: None\n",
      "DEBUG:cmdstanpy:CmdStan args: ['/usr/local/lib/python3.10/dist-packages/prophet/stan_model/prophet_model.bin', 'random', 'seed=17309', 'data', 'file=/tmp/tmp9z4f2c6p/qqgv787t.json', 'init=/tmp/tmp9z4f2c6p/8kcta9kn.json', 'output', 'file=/tmp/tmp9z4f2c6p/prophet_modeldsrl6t8j/prophet_model-20231125070840.csv', 'method=optimize', 'algorithm=lbfgs', 'iter=10000']\n",
      "07:08:41 - cmdstanpy - INFO - Chain [1] start processing\n",
      "INFO:cmdstanpy:Chain [1] start processing\n",
      "07:08:41 - cmdstanpy - INFO - Chain [1] done processing\n",
      "INFO:cmdstanpy:Chain [1] done processing\n"
     ]
    },
    {
     "name": "stdout",
     "output_type": "stream",
     "text": [
      "MPE: -5.581752065574069e-05\n",
      "{'changepoint_prior_scale': 0.1, 'holidays_prior_scale': 0.1, 'n_changepoints': 1, 'seasonality_mode': 'additive', 'yearly_seasonality': False}\n"
     ]
    },
    {
     "name": "stderr",
     "output_type": "stream",
     "text": [
      "INFO:prophet:Disabling weekly seasonality. Run prophet with weekly_seasonality=True to override this.\n",
      "INFO:prophet:Disabling daily seasonality. Run prophet with daily_seasonality=True to override this.\n",
      "DEBUG:cmdstanpy:input tempfile: /tmp/tmp9z4f2c6p/25oipzrr.json\n",
      "DEBUG:cmdstanpy:input tempfile: /tmp/tmp9z4f2c6p/8ej86nst.json\n",
      "DEBUG:cmdstanpy:idx 0\n",
      "DEBUG:cmdstanpy:running CmdStan, num_threads: None\n",
      "DEBUG:cmdstanpy:CmdStan args: ['/usr/local/lib/python3.10/dist-packages/prophet/stan_model/prophet_model.bin', 'random', 'seed=52587', 'data', 'file=/tmp/tmp9z4f2c6p/25oipzrr.json', 'init=/tmp/tmp9z4f2c6p/8ej86nst.json', 'output', 'file=/tmp/tmp9z4f2c6p/prophet_modelhj6va1fo/prophet_model-20231125070841.csv', 'method=optimize', 'algorithm=lbfgs', 'iter=10000']\n",
      "07:08:41 - cmdstanpy - INFO - Chain [1] start processing\n",
      "INFO:cmdstanpy:Chain [1] start processing\n"
     ]
    },
    {
     "name": "stdout",
     "output_type": "stream",
     "text": [
      "MPE: -5.545864711806262e-05\n",
      "{'changepoint_prior_scale': 0.1, 'holidays_prior_scale': 0.1, 'n_changepoints': 5, 'seasonality_mode': 'multiplicative', 'yearly_seasonality': 'auto'}\n"
     ]
    },
    {
     "name": "stderr",
     "output_type": "stream",
     "text": [
      "07:08:41 - cmdstanpy - INFO - Chain [1] done processing\n",
      "INFO:cmdstanpy:Chain [1] done processing\n",
      "INFO:prophet:Disabling weekly seasonality. Run prophet with weekly_seasonality=True to override this.\n",
      "INFO:prophet:Disabling daily seasonality. Run prophet with daily_seasonality=True to override this.\n",
      "DEBUG:cmdstanpy:input tempfile: /tmp/tmp9z4f2c6p/mlc5m_vr.json\n",
      "DEBUG:cmdstanpy:input tempfile: /tmp/tmp9z4f2c6p/marc58u2.json\n",
      "DEBUG:cmdstanpy:idx 0\n",
      "DEBUG:cmdstanpy:running CmdStan, num_threads: None\n",
      "DEBUG:cmdstanpy:CmdStan args: ['/usr/local/lib/python3.10/dist-packages/prophet/stan_model/prophet_model.bin', 'random', 'seed=10735', 'data', 'file=/tmp/tmp9z4f2c6p/mlc5m_vr.json', 'init=/tmp/tmp9z4f2c6p/marc58u2.json', 'output', 'file=/tmp/tmp9z4f2c6p/prophet_modeli6lsj3yg/prophet_model-20231125070842.csv', 'method=optimize', 'algorithm=lbfgs', 'iter=10000']\n",
      "07:08:42 - cmdstanpy - INFO - Chain [1] start processing\n",
      "INFO:cmdstanpy:Chain [1] start processing\n"
     ]
    },
    {
     "name": "stdout",
     "output_type": "stream",
     "text": [
      "MPE: 4.877786187687451e-06\n",
      "{'changepoint_prior_scale': 0.1, 'holidays_prior_scale': 0.1, 'n_changepoints': 5, 'seasonality_mode': 'multiplicative', 'yearly_seasonality': True}\n"
     ]
    },
    {
     "name": "stderr",
     "output_type": "stream",
     "text": [
      "07:08:42 - cmdstanpy - INFO - Chain [1] done processing\n",
      "INFO:cmdstanpy:Chain [1] done processing\n",
      "INFO:prophet:Disabling weekly seasonality. Run prophet with weekly_seasonality=True to override this.\n",
      "INFO:prophet:Disabling daily seasonality. Run prophet with daily_seasonality=True to override this.\n",
      "DEBUG:cmdstanpy:input tempfile: /tmp/tmp9z4f2c6p/yg_k8vkc.json\n",
      "DEBUG:cmdstanpy:input tempfile: /tmp/tmp9z4f2c6p/o8xn9azb.json\n",
      "DEBUG:cmdstanpy:idx 0\n",
      "DEBUG:cmdstanpy:running CmdStan, num_threads: None\n",
      "DEBUG:cmdstanpy:CmdStan args: ['/usr/local/lib/python3.10/dist-packages/prophet/stan_model/prophet_model.bin', 'random', 'seed=64951', 'data', 'file=/tmp/tmp9z4f2c6p/yg_k8vkc.json', 'init=/tmp/tmp9z4f2c6p/o8xn9azb.json', 'output', 'file=/tmp/tmp9z4f2c6p/prophet_model59082dj2/prophet_model-20231125070842.csv', 'method=optimize', 'algorithm=lbfgs', 'iter=10000']\n",
      "07:08:42 - cmdstanpy - INFO - Chain [1] start processing\n",
      "INFO:cmdstanpy:Chain [1] start processing\n",
      "07:08:43 - cmdstanpy - INFO - Chain [1] done processing\n",
      "INFO:cmdstanpy:Chain [1] done processing\n"
     ]
    },
    {
     "name": "stdout",
     "output_type": "stream",
     "text": [
      "MPE: 4.877786187687451e-06\n",
      "{'changepoint_prior_scale': 0.1, 'holidays_prior_scale': 0.1, 'n_changepoints': 5, 'seasonality_mode': 'multiplicative', 'yearly_seasonality': False}\n"
     ]
    },
    {
     "name": "stderr",
     "output_type": "stream",
     "text": [
      "INFO:prophet:Disabling weekly seasonality. Run prophet with weekly_seasonality=True to override this.\n",
      "INFO:prophet:Disabling daily seasonality. Run prophet with daily_seasonality=True to override this.\n",
      "DEBUG:cmdstanpy:input tempfile: /tmp/tmp9z4f2c6p/xuu3oldq.json\n",
      "DEBUG:cmdstanpy:input tempfile: /tmp/tmp9z4f2c6p/7ng07sw7.json\n",
      "DEBUG:cmdstanpy:idx 0\n",
      "DEBUG:cmdstanpy:running CmdStan, num_threads: None\n",
      "DEBUG:cmdstanpy:CmdStan args: ['/usr/local/lib/python3.10/dist-packages/prophet/stan_model/prophet_model.bin', 'random', 'seed=26234', 'data', 'file=/tmp/tmp9z4f2c6p/xuu3oldq.json', 'init=/tmp/tmp9z4f2c6p/7ng07sw7.json', 'output', 'file=/tmp/tmp9z4f2c6p/prophet_modeljow1vfdr/prophet_model-20231125070843.csv', 'method=optimize', 'algorithm=lbfgs', 'iter=10000']\n",
      "07:08:43 - cmdstanpy - INFO - Chain [1] start processing\n",
      "INFO:cmdstanpy:Chain [1] start processing\n"
     ]
    },
    {
     "name": "stdout",
     "output_type": "stream",
     "text": [
      "MPE: 5.434221317446052e-06\n",
      "{'changepoint_prior_scale': 0.1, 'holidays_prior_scale': 0.1, 'n_changepoints': 5, 'seasonality_mode': 'additive', 'yearly_seasonality': 'auto'}\n"
     ]
    },
    {
     "name": "stderr",
     "output_type": "stream",
     "text": [
      "07:08:43 - cmdstanpy - INFO - Chain [1] done processing\n",
      "INFO:cmdstanpy:Chain [1] done processing\n",
      "INFO:prophet:Disabling weekly seasonality. Run prophet with weekly_seasonality=True to override this.\n",
      "INFO:prophet:Disabling daily seasonality. Run prophet with daily_seasonality=True to override this.\n",
      "DEBUG:cmdstanpy:input tempfile: /tmp/tmp9z4f2c6p/mslbucv7.json\n",
      "DEBUG:cmdstanpy:input tempfile: /tmp/tmp9z4f2c6p/bawwh3hh.json\n",
      "DEBUG:cmdstanpy:idx 0\n",
      "DEBUG:cmdstanpy:running CmdStan, num_threads: None\n",
      "DEBUG:cmdstanpy:CmdStan args: ['/usr/local/lib/python3.10/dist-packages/prophet/stan_model/prophet_model.bin', 'random', 'seed=35661', 'data', 'file=/tmp/tmp9z4f2c6p/mslbucv7.json', 'init=/tmp/tmp9z4f2c6p/bawwh3hh.json', 'output', 'file=/tmp/tmp9z4f2c6p/prophet_model0mj827ex/prophet_model-20231125070844.csv', 'method=optimize', 'algorithm=lbfgs', 'iter=10000']\n",
      "07:08:44 - cmdstanpy - INFO - Chain [1] start processing\n",
      "INFO:cmdstanpy:Chain [1] start processing\n"
     ]
    },
    {
     "name": "stdout",
     "output_type": "stream",
     "text": [
      "MPE: 6.0287118284004896e-06\n",
      "{'changepoint_prior_scale': 0.1, 'holidays_prior_scale': 0.1, 'n_changepoints': 5, 'seasonality_mode': 'additive', 'yearly_seasonality': True}\n"
     ]
    },
    {
     "name": "stderr",
     "output_type": "stream",
     "text": [
      "07:08:44 - cmdstanpy - INFO - Chain [1] done processing\n",
      "INFO:cmdstanpy:Chain [1] done processing\n",
      "INFO:prophet:Disabling weekly seasonality. Run prophet with weekly_seasonality=True to override this.\n",
      "INFO:prophet:Disabling daily seasonality. Run prophet with daily_seasonality=True to override this.\n",
      "DEBUG:cmdstanpy:input tempfile: /tmp/tmp9z4f2c6p/h2o7ha6a.json\n",
      "DEBUG:cmdstanpy:input tempfile: /tmp/tmp9z4f2c6p/9cevsjq9.json\n",
      "DEBUG:cmdstanpy:idx 0\n",
      "DEBUG:cmdstanpy:running CmdStan, num_threads: None\n",
      "DEBUG:cmdstanpy:CmdStan args: ['/usr/local/lib/python3.10/dist-packages/prophet/stan_model/prophet_model.bin', 'random', 'seed=95920', 'data', 'file=/tmp/tmp9z4f2c6p/h2o7ha6a.json', 'init=/tmp/tmp9z4f2c6p/9cevsjq9.json', 'output', 'file=/tmp/tmp9z4f2c6p/prophet_modelbjaeay1m/prophet_model-20231125070844.csv', 'method=optimize', 'algorithm=lbfgs', 'iter=10000']\n",
      "07:08:44 - cmdstanpy - INFO - Chain [1] start processing\n",
      "INFO:cmdstanpy:Chain [1] start processing\n",
      "07:08:44 - cmdstanpy - INFO - Chain [1] done processing\n",
      "INFO:cmdstanpy:Chain [1] done processing\n"
     ]
    },
    {
     "name": "stdout",
     "output_type": "stream",
     "text": [
      "MPE: 6.0287118284004896e-06\n",
      "{'changepoint_prior_scale': 0.1, 'holidays_prior_scale': 0.1, 'n_changepoints': 5, 'seasonality_mode': 'additive', 'yearly_seasonality': False}\n"
     ]
    },
    {
     "name": "stderr",
     "output_type": "stream",
     "text": [
      "INFO:prophet:Disabling weekly seasonality. Run prophet with weekly_seasonality=True to override this.\n",
      "INFO:prophet:Disabling daily seasonality. Run prophet with daily_seasonality=True to override this.\n",
      "DEBUG:cmdstanpy:input tempfile: /tmp/tmp9z4f2c6p/zuw_73cd.json\n",
      "DEBUG:cmdstanpy:input tempfile: /tmp/tmp9z4f2c6p/e2p54a2v.json\n",
      "DEBUG:cmdstanpy:idx 0\n",
      "DEBUG:cmdstanpy:running CmdStan, num_threads: None\n",
      "DEBUG:cmdstanpy:CmdStan args: ['/usr/local/lib/python3.10/dist-packages/prophet/stan_model/prophet_model.bin', 'random', 'seed=86329', 'data', 'file=/tmp/tmp9z4f2c6p/zuw_73cd.json', 'init=/tmp/tmp9z4f2c6p/e2p54a2v.json', 'output', 'file=/tmp/tmp9z4f2c6p/prophet_modelexjgc6jy/prophet_model-20231125070845.csv', 'method=optimize', 'algorithm=lbfgs', 'iter=10000']\n",
      "07:08:45 - cmdstanpy - INFO - Chain [1] start processing\n",
      "INFO:cmdstanpy:Chain [1] start processing\n"
     ]
    },
    {
     "name": "stdout",
     "output_type": "stream",
     "text": [
      "MPE: 5.434221317446052e-06\n",
      "{'changepoint_prior_scale': 0.1, 'holidays_prior_scale': 0.2, 'n_changepoints': 1, 'seasonality_mode': 'multiplicative', 'yearly_seasonality': 'auto'}\n"
     ]
    },
    {
     "name": "stderr",
     "output_type": "stream",
     "text": [
      "07:08:45 - cmdstanpy - INFO - Chain [1] done processing\n",
      "INFO:cmdstanpy:Chain [1] done processing\n",
      "INFO:prophet:Disabling weekly seasonality. Run prophet with weekly_seasonality=True to override this.\n",
      "INFO:prophet:Disabling daily seasonality. Run prophet with daily_seasonality=True to override this.\n",
      "DEBUG:cmdstanpy:input tempfile: /tmp/tmp9z4f2c6p/96lu8rs4.json\n",
      "DEBUG:cmdstanpy:input tempfile: /tmp/tmp9z4f2c6p/puso_1d9.json\n",
      "DEBUG:cmdstanpy:idx 0\n",
      "DEBUG:cmdstanpy:running CmdStan, num_threads: None\n",
      "DEBUG:cmdstanpy:CmdStan args: ['/usr/local/lib/python3.10/dist-packages/prophet/stan_model/prophet_model.bin', 'random', 'seed=36283', 'data', 'file=/tmp/tmp9z4f2c6p/96lu8rs4.json', 'init=/tmp/tmp9z4f2c6p/puso_1d9.json', 'output', 'file=/tmp/tmp9z4f2c6p/prophet_modelc4trx4qt/prophet_model-20231125070846.csv', 'method=optimize', 'algorithm=lbfgs', 'iter=10000']\n",
      "07:08:46 - cmdstanpy - INFO - Chain [1] start processing\n",
      "INFO:cmdstanpy:Chain [1] start processing\n"
     ]
    },
    {
     "name": "stdout",
     "output_type": "stream",
     "text": [
      "MPE: -5.7174307163500085e-05\n",
      "{'changepoint_prior_scale': 0.1, 'holidays_prior_scale': 0.2, 'n_changepoints': 1, 'seasonality_mode': 'multiplicative', 'yearly_seasonality': True}\n"
     ]
    },
    {
     "name": "stderr",
     "output_type": "stream",
     "text": [
      "07:08:46 - cmdstanpy - INFO - Chain [1] done processing\n",
      "INFO:cmdstanpy:Chain [1] done processing\n",
      "INFO:prophet:Disabling weekly seasonality. Run prophet with weekly_seasonality=True to override this.\n",
      "INFO:prophet:Disabling daily seasonality. Run prophet with daily_seasonality=True to override this.\n",
      "DEBUG:cmdstanpy:input tempfile: /tmp/tmp9z4f2c6p/mjny45yk.json\n",
      "DEBUG:cmdstanpy:input tempfile: /tmp/tmp9z4f2c6p/6unz2jre.json\n",
      "DEBUG:cmdstanpy:idx 0\n",
      "DEBUG:cmdstanpy:running CmdStan, num_threads: None\n",
      "DEBUG:cmdstanpy:CmdStan args: ['/usr/local/lib/python3.10/dist-packages/prophet/stan_model/prophet_model.bin', 'random', 'seed=54785', 'data', 'file=/tmp/tmp9z4f2c6p/mjny45yk.json', 'init=/tmp/tmp9z4f2c6p/6unz2jre.json', 'output', 'file=/tmp/tmp9z4f2c6p/prophet_modelpa2c6lzb/prophet_model-20231125070846.csv', 'method=optimize', 'algorithm=lbfgs', 'iter=10000']\n",
      "07:08:46 - cmdstanpy - INFO - Chain [1] start processing\n",
      "INFO:cmdstanpy:Chain [1] start processing\n",
      "07:08:46 - cmdstanpy - INFO - Chain [1] done processing\n",
      "INFO:cmdstanpy:Chain [1] done processing\n"
     ]
    },
    {
     "name": "stdout",
     "output_type": "stream",
     "text": [
      "MPE: -5.7174307163500085e-05\n",
      "{'changepoint_prior_scale': 0.1, 'holidays_prior_scale': 0.2, 'n_changepoints': 1, 'seasonality_mode': 'multiplicative', 'yearly_seasonality': False}\n"
     ]
    },
    {
     "name": "stderr",
     "output_type": "stream",
     "text": [
      "INFO:prophet:Disabling weekly seasonality. Run prophet with weekly_seasonality=True to override this.\n",
      "INFO:prophet:Disabling daily seasonality. Run prophet with daily_seasonality=True to override this.\n",
      "DEBUG:cmdstanpy:input tempfile: /tmp/tmp9z4f2c6p/0t3x8u73.json\n",
      "DEBUG:cmdstanpy:input tempfile: /tmp/tmp9z4f2c6p/uy_ucncq.json\n",
      "DEBUG:cmdstanpy:idx 0\n",
      "DEBUG:cmdstanpy:running CmdStan, num_threads: None\n",
      "DEBUG:cmdstanpy:CmdStan args: ['/usr/local/lib/python3.10/dist-packages/prophet/stan_model/prophet_model.bin', 'random', 'seed=72984', 'data', 'file=/tmp/tmp9z4f2c6p/0t3x8u73.json', 'init=/tmp/tmp9z4f2c6p/uy_ucncq.json', 'output', 'file=/tmp/tmp9z4f2c6p/prophet_modelyc0txbfn/prophet_model-20231125070847.csv', 'method=optimize', 'algorithm=lbfgs', 'iter=10000']\n",
      "07:08:47 - cmdstanpy - INFO - Chain [1] start processing\n",
      "INFO:cmdstanpy:Chain [1] start processing\n"
     ]
    },
    {
     "name": "stdout",
     "output_type": "stream",
     "text": [
      "MPE: -5.545864711806262e-05\n",
      "{'changepoint_prior_scale': 0.1, 'holidays_prior_scale': 0.2, 'n_changepoints': 1, 'seasonality_mode': 'additive', 'yearly_seasonality': 'auto'}\n"
     ]
    },
    {
     "name": "stderr",
     "output_type": "stream",
     "text": [
      "07:08:47 - cmdstanpy - INFO - Chain [1] done processing\n",
      "INFO:cmdstanpy:Chain [1] done processing\n",
      "INFO:prophet:Disabling weekly seasonality. Run prophet with weekly_seasonality=True to override this.\n",
      "INFO:prophet:Disabling daily seasonality. Run prophet with daily_seasonality=True to override this.\n",
      "DEBUG:cmdstanpy:input tempfile: /tmp/tmp9z4f2c6p/ht5zatg9.json\n",
      "DEBUG:cmdstanpy:input tempfile: /tmp/tmp9z4f2c6p/xoo6lpd9.json\n",
      "DEBUG:cmdstanpy:idx 0\n",
      "DEBUG:cmdstanpy:running CmdStan, num_threads: None\n",
      "DEBUG:cmdstanpy:CmdStan args: ['/usr/local/lib/python3.10/dist-packages/prophet/stan_model/prophet_model.bin', 'random', 'seed=79224', 'data', 'file=/tmp/tmp9z4f2c6p/ht5zatg9.json', 'init=/tmp/tmp9z4f2c6p/xoo6lpd9.json', 'output', 'file=/tmp/tmp9z4f2c6p/prophet_modelrg17fqzg/prophet_model-20231125070847.csv', 'method=optimize', 'algorithm=lbfgs', 'iter=10000']\n",
      "07:08:47 - cmdstanpy - INFO - Chain [1] start processing\n",
      "INFO:cmdstanpy:Chain [1] start processing\n"
     ]
    },
    {
     "name": "stdout",
     "output_type": "stream",
     "text": [
      "MPE: -5.581752065574069e-05\n",
      "{'changepoint_prior_scale': 0.1, 'holidays_prior_scale': 0.2, 'n_changepoints': 1, 'seasonality_mode': 'additive', 'yearly_seasonality': True}\n"
     ]
    },
    {
     "name": "stderr",
     "output_type": "stream",
     "text": [
      "07:08:47 - cmdstanpy - INFO - Chain [1] done processing\n",
      "INFO:cmdstanpy:Chain [1] done processing\n",
      "INFO:prophet:Disabling weekly seasonality. Run prophet with weekly_seasonality=True to override this.\n",
      "INFO:prophet:Disabling daily seasonality. Run prophet with daily_seasonality=True to override this.\n",
      "DEBUG:cmdstanpy:input tempfile: /tmp/tmp9z4f2c6p/uz_zdh5r.json\n",
      "DEBUG:cmdstanpy:input tempfile: /tmp/tmp9z4f2c6p/2nssyzrk.json\n",
      "DEBUG:cmdstanpy:idx 0\n",
      "DEBUG:cmdstanpy:running CmdStan, num_threads: None\n",
      "DEBUG:cmdstanpy:CmdStan args: ['/usr/local/lib/python3.10/dist-packages/prophet/stan_model/prophet_model.bin', 'random', 'seed=35258', 'data', 'file=/tmp/tmp9z4f2c6p/uz_zdh5r.json', 'init=/tmp/tmp9z4f2c6p/2nssyzrk.json', 'output', 'file=/tmp/tmp9z4f2c6p/prophet_modelfwq3yvmu/prophet_model-20231125070848.csv', 'method=optimize', 'algorithm=lbfgs', 'iter=10000']\n",
      "07:08:48 - cmdstanpy - INFO - Chain [1] start processing\n",
      "INFO:cmdstanpy:Chain [1] start processing\n",
      "07:08:48 - cmdstanpy - INFO - Chain [1] done processing\n",
      "INFO:cmdstanpy:Chain [1] done processing\n"
     ]
    },
    {
     "name": "stdout",
     "output_type": "stream",
     "text": [
      "MPE: -5.581752065574069e-05\n",
      "{'changepoint_prior_scale': 0.1, 'holidays_prior_scale': 0.2, 'n_changepoints': 1, 'seasonality_mode': 'additive', 'yearly_seasonality': False}\n"
     ]
    },
    {
     "name": "stderr",
     "output_type": "stream",
     "text": [
      "INFO:prophet:Disabling weekly seasonality. Run prophet with weekly_seasonality=True to override this.\n",
      "INFO:prophet:Disabling daily seasonality. Run prophet with daily_seasonality=True to override this.\n",
      "DEBUG:cmdstanpy:input tempfile: /tmp/tmp9z4f2c6p/0uc6xgla.json\n",
      "DEBUG:cmdstanpy:input tempfile: /tmp/tmp9z4f2c6p/zmvnh58l.json\n",
      "DEBUG:cmdstanpy:idx 0\n",
      "DEBUG:cmdstanpy:running CmdStan, num_threads: None\n",
      "DEBUG:cmdstanpy:CmdStan args: ['/usr/local/lib/python3.10/dist-packages/prophet/stan_model/prophet_model.bin', 'random', 'seed=77811', 'data', 'file=/tmp/tmp9z4f2c6p/0uc6xgla.json', 'init=/tmp/tmp9z4f2c6p/zmvnh58l.json', 'output', 'file=/tmp/tmp9z4f2c6p/prophet_modellt4n1qy7/prophet_model-20231125070848.csv', 'method=optimize', 'algorithm=lbfgs', 'iter=10000']\n",
      "07:08:48 - cmdstanpy - INFO - Chain [1] start processing\n",
      "INFO:cmdstanpy:Chain [1] start processing\n"
     ]
    },
    {
     "name": "stdout",
     "output_type": "stream",
     "text": [
      "MPE: -5.545864711806262e-05\n",
      "{'changepoint_prior_scale': 0.1, 'holidays_prior_scale': 0.2, 'n_changepoints': 5, 'seasonality_mode': 'multiplicative', 'yearly_seasonality': 'auto'}\n"
     ]
    },
    {
     "name": "stderr",
     "output_type": "stream",
     "text": [
      "07:08:48 - cmdstanpy - INFO - Chain [1] done processing\n",
      "INFO:cmdstanpy:Chain [1] done processing\n",
      "INFO:prophet:Disabling weekly seasonality. Run prophet with weekly_seasonality=True to override this.\n",
      "INFO:prophet:Disabling daily seasonality. Run prophet with daily_seasonality=True to override this.\n",
      "DEBUG:cmdstanpy:input tempfile: /tmp/tmp9z4f2c6p/d7uf5ogi.json\n",
      "DEBUG:cmdstanpy:input tempfile: /tmp/tmp9z4f2c6p/jgveq7pf.json\n",
      "DEBUG:cmdstanpy:idx 0\n",
      "DEBUG:cmdstanpy:running CmdStan, num_threads: None\n",
      "DEBUG:cmdstanpy:CmdStan args: ['/usr/local/lib/python3.10/dist-packages/prophet/stan_model/prophet_model.bin', 'random', 'seed=19537', 'data', 'file=/tmp/tmp9z4f2c6p/d7uf5ogi.json', 'init=/tmp/tmp9z4f2c6p/jgveq7pf.json', 'output', 'file=/tmp/tmp9z4f2c6p/prophet_model8qkwotxz/prophet_model-20231125070849.csv', 'method=optimize', 'algorithm=lbfgs', 'iter=10000']\n",
      "07:08:49 - cmdstanpy - INFO - Chain [1] start processing\n",
      "INFO:cmdstanpy:Chain [1] start processing\n"
     ]
    },
    {
     "name": "stdout",
     "output_type": "stream",
     "text": [
      "MPE: 4.877786187687451e-06\n",
      "{'changepoint_prior_scale': 0.1, 'holidays_prior_scale': 0.2, 'n_changepoints': 5, 'seasonality_mode': 'multiplicative', 'yearly_seasonality': True}\n"
     ]
    },
    {
     "name": "stderr",
     "output_type": "stream",
     "text": [
      "07:08:49 - cmdstanpy - INFO - Chain [1] done processing\n",
      "INFO:cmdstanpy:Chain [1] done processing\n",
      "INFO:prophet:Disabling weekly seasonality. Run prophet with weekly_seasonality=True to override this.\n",
      "INFO:prophet:Disabling daily seasonality. Run prophet with daily_seasonality=True to override this.\n",
      "DEBUG:cmdstanpy:input tempfile: /tmp/tmp9z4f2c6p/a8xadsv9.json\n",
      "DEBUG:cmdstanpy:input tempfile: /tmp/tmp9z4f2c6p/plxfs3hr.json\n",
      "DEBUG:cmdstanpy:idx 0\n",
      "DEBUG:cmdstanpy:running CmdStan, num_threads: None\n",
      "DEBUG:cmdstanpy:CmdStan args: ['/usr/local/lib/python3.10/dist-packages/prophet/stan_model/prophet_model.bin', 'random', 'seed=77632', 'data', 'file=/tmp/tmp9z4f2c6p/a8xadsv9.json', 'init=/tmp/tmp9z4f2c6p/plxfs3hr.json', 'output', 'file=/tmp/tmp9z4f2c6p/prophet_modeln5cg41mf/prophet_model-20231125070849.csv', 'method=optimize', 'algorithm=lbfgs', 'iter=10000']\n",
      "07:08:50 - cmdstanpy - INFO - Chain [1] start processing\n",
      "INFO:cmdstanpy:Chain [1] start processing\n",
      "07:08:50 - cmdstanpy - INFO - Chain [1] done processing\n",
      "INFO:cmdstanpy:Chain [1] done processing\n"
     ]
    },
    {
     "name": "stdout",
     "output_type": "stream",
     "text": [
      "MPE: 4.877786187687451e-06\n",
      "{'changepoint_prior_scale': 0.1, 'holidays_prior_scale': 0.2, 'n_changepoints': 5, 'seasonality_mode': 'multiplicative', 'yearly_seasonality': False}\n"
     ]
    },
    {
     "name": "stderr",
     "output_type": "stream",
     "text": [
      "INFO:prophet:Disabling weekly seasonality. Run prophet with weekly_seasonality=True to override this.\n",
      "INFO:prophet:Disabling daily seasonality. Run prophet with daily_seasonality=True to override this.\n",
      "DEBUG:cmdstanpy:input tempfile: /tmp/tmp9z4f2c6p/kzlrniax.json\n",
      "DEBUG:cmdstanpy:input tempfile: /tmp/tmp9z4f2c6p/ska2nn_p.json\n",
      "DEBUG:cmdstanpy:idx 0\n",
      "DEBUG:cmdstanpy:running CmdStan, num_threads: None\n",
      "DEBUG:cmdstanpy:CmdStan args: ['/usr/local/lib/python3.10/dist-packages/prophet/stan_model/prophet_model.bin', 'random', 'seed=21870', 'data', 'file=/tmp/tmp9z4f2c6p/kzlrniax.json', 'init=/tmp/tmp9z4f2c6p/ska2nn_p.json', 'output', 'file=/tmp/tmp9z4f2c6p/prophet_model5__kj408/prophet_model-20231125070850.csv', 'method=optimize', 'algorithm=lbfgs', 'iter=10000']\n",
      "07:08:50 - cmdstanpy - INFO - Chain [1] start processing\n",
      "INFO:cmdstanpy:Chain [1] start processing\n",
      "07:08:50 - cmdstanpy - INFO - Chain [1] done processing\n",
      "INFO:cmdstanpy:Chain [1] done processing\n"
     ]
    },
    {
     "name": "stdout",
     "output_type": "stream",
     "text": [
      "MPE: 5.434221317446052e-06\n",
      "{'changepoint_prior_scale': 0.1, 'holidays_prior_scale': 0.2, 'n_changepoints': 5, 'seasonality_mode': 'additive', 'yearly_seasonality': 'auto'}\n"
     ]
    },
    {
     "name": "stderr",
     "output_type": "stream",
     "text": [
      "INFO:prophet:Disabling weekly seasonality. Run prophet with weekly_seasonality=True to override this.\n",
      "INFO:prophet:Disabling daily seasonality. Run prophet with daily_seasonality=True to override this.\n",
      "DEBUG:cmdstanpy:input tempfile: /tmp/tmp9z4f2c6p/_keqohkd.json\n",
      "DEBUG:cmdstanpy:input tempfile: /tmp/tmp9z4f2c6p/4zg40__e.json\n",
      "DEBUG:cmdstanpy:idx 0\n",
      "DEBUG:cmdstanpy:running CmdStan, num_threads: None\n",
      "DEBUG:cmdstanpy:CmdStan args: ['/usr/local/lib/python3.10/dist-packages/prophet/stan_model/prophet_model.bin', 'random', 'seed=29200', 'data', 'file=/tmp/tmp9z4f2c6p/_keqohkd.json', 'init=/tmp/tmp9z4f2c6p/4zg40__e.json', 'output', 'file=/tmp/tmp9z4f2c6p/prophet_model7m3op2ui/prophet_model-20231125070850.csv', 'method=optimize', 'algorithm=lbfgs', 'iter=10000']\n",
      "07:08:50 - cmdstanpy - INFO - Chain [1] start processing\n",
      "INFO:cmdstanpy:Chain [1] start processing\n",
      "07:08:50 - cmdstanpy - INFO - Chain [1] done processing\n",
      "INFO:cmdstanpy:Chain [1] done processing\n"
     ]
    },
    {
     "name": "stdout",
     "output_type": "stream",
     "text": [
      "MPE: 6.0287118284004896e-06\n",
      "{'changepoint_prior_scale': 0.1, 'holidays_prior_scale': 0.2, 'n_changepoints': 5, 'seasonality_mode': 'additive', 'yearly_seasonality': True}\n"
     ]
    },
    {
     "name": "stderr",
     "output_type": "stream",
     "text": [
      "INFO:prophet:Disabling weekly seasonality. Run prophet with weekly_seasonality=True to override this.\n",
      "INFO:prophet:Disabling daily seasonality. Run prophet with daily_seasonality=True to override this.\n",
      "DEBUG:cmdstanpy:input tempfile: /tmp/tmp9z4f2c6p/rwu30evs.json\n",
      "DEBUG:cmdstanpy:input tempfile: /tmp/tmp9z4f2c6p/chhawmah.json\n",
      "DEBUG:cmdstanpy:idx 0\n",
      "DEBUG:cmdstanpy:running CmdStan, num_threads: None\n",
      "DEBUG:cmdstanpy:CmdStan args: ['/usr/local/lib/python3.10/dist-packages/prophet/stan_model/prophet_model.bin', 'random', 'seed=93948', 'data', 'file=/tmp/tmp9z4f2c6p/rwu30evs.json', 'init=/tmp/tmp9z4f2c6p/chhawmah.json', 'output', 'file=/tmp/tmp9z4f2c6p/prophet_modellnbyv014/prophet_model-20231125070851.csv', 'method=optimize', 'algorithm=lbfgs', 'iter=10000']\n",
      "07:08:51 - cmdstanpy - INFO - Chain [1] start processing\n",
      "INFO:cmdstanpy:Chain [1] start processing\n",
      "07:08:51 - cmdstanpy - INFO - Chain [1] done processing\n",
      "INFO:cmdstanpy:Chain [1] done processing\n"
     ]
    },
    {
     "name": "stdout",
     "output_type": "stream",
     "text": [
      "MPE: 6.0287118284004896e-06\n",
      "{'changepoint_prior_scale': 0.1, 'holidays_prior_scale': 0.2, 'n_changepoints': 5, 'seasonality_mode': 'additive', 'yearly_seasonality': False}\n"
     ]
    },
    {
     "name": "stderr",
     "output_type": "stream",
     "text": [
      "INFO:prophet:Disabling weekly seasonality. Run prophet with weekly_seasonality=True to override this.\n",
      "INFO:prophet:Disabling daily seasonality. Run prophet with daily_seasonality=True to override this.\n",
      "DEBUG:cmdstanpy:input tempfile: /tmp/tmp9z4f2c6p/r2nzwpj0.json\n",
      "DEBUG:cmdstanpy:input tempfile: /tmp/tmp9z4f2c6p/q1a38bzo.json\n",
      "DEBUG:cmdstanpy:idx 0\n",
      "DEBUG:cmdstanpy:running CmdStan, num_threads: None\n",
      "DEBUG:cmdstanpy:CmdStan args: ['/usr/local/lib/python3.10/dist-packages/prophet/stan_model/prophet_model.bin', 'random', 'seed=71870', 'data', 'file=/tmp/tmp9z4f2c6p/r2nzwpj0.json', 'init=/tmp/tmp9z4f2c6p/q1a38bzo.json', 'output', 'file=/tmp/tmp9z4f2c6p/prophet_modelrvvopcdq/prophet_model-20231125070851.csv', 'method=optimize', 'algorithm=lbfgs', 'iter=10000']\n",
      "07:08:51 - cmdstanpy - INFO - Chain [1] start processing\n",
      "INFO:cmdstanpy:Chain [1] start processing\n",
      "07:08:51 - cmdstanpy - INFO - Chain [1] done processing\n",
      "INFO:cmdstanpy:Chain [1] done processing\n"
     ]
    },
    {
     "name": "stdout",
     "output_type": "stream",
     "text": [
      "MPE: 5.434221317446052e-06\n",
      "{'changepoint_prior_scale': 0.2, 'holidays_prior_scale': 0.1, 'n_changepoints': 1, 'seasonality_mode': 'multiplicative', 'yearly_seasonality': 'auto'}\n"
     ]
    },
    {
     "name": "stderr",
     "output_type": "stream",
     "text": [
      "INFO:prophet:Disabling weekly seasonality. Run prophet with weekly_seasonality=True to override this.\n",
      "INFO:prophet:Disabling daily seasonality. Run prophet with daily_seasonality=True to override this.\n",
      "DEBUG:cmdstanpy:input tempfile: /tmp/tmp9z4f2c6p/qy4mdfs6.json\n",
      "DEBUG:cmdstanpy:input tempfile: /tmp/tmp9z4f2c6p/tbwicoa8.json\n",
      "DEBUG:cmdstanpy:idx 0\n",
      "DEBUG:cmdstanpy:running CmdStan, num_threads: None\n",
      "DEBUG:cmdstanpy:CmdStan args: ['/usr/local/lib/python3.10/dist-packages/prophet/stan_model/prophet_model.bin', 'random', 'seed=20575', 'data', 'file=/tmp/tmp9z4f2c6p/qy4mdfs6.json', 'init=/tmp/tmp9z4f2c6p/tbwicoa8.json', 'output', 'file=/tmp/tmp9z4f2c6p/prophet_modelpk4ckoxy/prophet_model-20231125070852.csv', 'method=optimize', 'algorithm=lbfgs', 'iter=10000']\n",
      "07:08:52 - cmdstanpy - INFO - Chain [1] start processing\n",
      "INFO:cmdstanpy:Chain [1] start processing\n",
      "07:08:52 - cmdstanpy - INFO - Chain [1] done processing\n",
      "INFO:cmdstanpy:Chain [1] done processing\n"
     ]
    },
    {
     "name": "stdout",
     "output_type": "stream",
     "text": [
      "MPE: -5.6072099092356744e-05\n",
      "{'changepoint_prior_scale': 0.2, 'holidays_prior_scale': 0.1, 'n_changepoints': 1, 'seasonality_mode': 'multiplicative', 'yearly_seasonality': True}\n"
     ]
    },
    {
     "name": "stderr",
     "output_type": "stream",
     "text": [
      "INFO:prophet:Disabling weekly seasonality. Run prophet with weekly_seasonality=True to override this.\n",
      "INFO:prophet:Disabling daily seasonality. Run prophet with daily_seasonality=True to override this.\n",
      "DEBUG:cmdstanpy:input tempfile: /tmp/tmp9z4f2c6p/90zeyu12.json\n",
      "DEBUG:cmdstanpy:input tempfile: /tmp/tmp9z4f2c6p/u1lr5hul.json\n",
      "DEBUG:cmdstanpy:idx 0\n",
      "DEBUG:cmdstanpy:running CmdStan, num_threads: None\n",
      "DEBUG:cmdstanpy:CmdStan args: ['/usr/local/lib/python3.10/dist-packages/prophet/stan_model/prophet_model.bin', 'random', 'seed=15876', 'data', 'file=/tmp/tmp9z4f2c6p/90zeyu12.json', 'init=/tmp/tmp9z4f2c6p/u1lr5hul.json', 'output', 'file=/tmp/tmp9z4f2c6p/prophet_model_wp1p4ro/prophet_model-20231125070852.csv', 'method=optimize', 'algorithm=lbfgs', 'iter=10000']\n",
      "07:08:52 - cmdstanpy - INFO - Chain [1] start processing\n",
      "INFO:cmdstanpy:Chain [1] start processing\n",
      "07:08:52 - cmdstanpy - INFO - Chain [1] done processing\n",
      "INFO:cmdstanpy:Chain [1] done processing\n"
     ]
    },
    {
     "name": "stdout",
     "output_type": "stream",
     "text": [
      "MPE: -5.6072099092356744e-05\n",
      "{'changepoint_prior_scale': 0.2, 'holidays_prior_scale': 0.1, 'n_changepoints': 1, 'seasonality_mode': 'multiplicative', 'yearly_seasonality': False}\n"
     ]
    },
    {
     "name": "stderr",
     "output_type": "stream",
     "text": [
      "INFO:prophet:Disabling weekly seasonality. Run prophet with weekly_seasonality=True to override this.\n",
      "INFO:prophet:Disabling daily seasonality. Run prophet with daily_seasonality=True to override this.\n",
      "DEBUG:cmdstanpy:input tempfile: /tmp/tmp9z4f2c6p/lr2cjzpt.json\n",
      "DEBUG:cmdstanpy:input tempfile: /tmp/tmp9z4f2c6p/thyrbht3.json\n",
      "DEBUG:cmdstanpy:idx 0\n",
      "DEBUG:cmdstanpy:running CmdStan, num_threads: None\n",
      "DEBUG:cmdstanpy:CmdStan args: ['/usr/local/lib/python3.10/dist-packages/prophet/stan_model/prophet_model.bin', 'random', 'seed=5001', 'data', 'file=/tmp/tmp9z4f2c6p/lr2cjzpt.json', 'init=/tmp/tmp9z4f2c6p/thyrbht3.json', 'output', 'file=/tmp/tmp9z4f2c6p/prophet_modelvyzvsbgj/prophet_model-20231125070853.csv', 'method=optimize', 'algorithm=lbfgs', 'iter=10000']\n",
      "07:08:53 - cmdstanpy - INFO - Chain [1] start processing\n",
      "INFO:cmdstanpy:Chain [1] start processing\n",
      "07:08:53 - cmdstanpy - INFO - Chain [1] done processing\n",
      "INFO:cmdstanpy:Chain [1] done processing\n"
     ]
    },
    {
     "name": "stdout",
     "output_type": "stream",
     "text": [
      "MPE: -5.571104134668121e-05\n",
      "{'changepoint_prior_scale': 0.2, 'holidays_prior_scale': 0.1, 'n_changepoints': 1, 'seasonality_mode': 'additive', 'yearly_seasonality': 'auto'}\n"
     ]
    },
    {
     "name": "stderr",
     "output_type": "stream",
     "text": [
      "INFO:prophet:Disabling weekly seasonality. Run prophet with weekly_seasonality=True to override this.\n",
      "INFO:prophet:Disabling daily seasonality. Run prophet with daily_seasonality=True to override this.\n",
      "DEBUG:cmdstanpy:input tempfile: /tmp/tmp9z4f2c6p/2rlh93gb.json\n",
      "DEBUG:cmdstanpy:input tempfile: /tmp/tmp9z4f2c6p/jnz25sf_.json\n",
      "DEBUG:cmdstanpy:idx 0\n",
      "DEBUG:cmdstanpy:running CmdStan, num_threads: None\n",
      "DEBUG:cmdstanpy:CmdStan args: ['/usr/local/lib/python3.10/dist-packages/prophet/stan_model/prophet_model.bin', 'random', 'seed=78450', 'data', 'file=/tmp/tmp9z4f2c6p/2rlh93gb.json', 'init=/tmp/tmp9z4f2c6p/jnz25sf_.json', 'output', 'file=/tmp/tmp9z4f2c6p/prophet_modelt14wzc4p/prophet_model-20231125070853.csv', 'method=optimize', 'algorithm=lbfgs', 'iter=10000']\n",
      "07:08:53 - cmdstanpy - INFO - Chain [1] start processing\n",
      "INFO:cmdstanpy:Chain [1] start processing\n",
      "07:08:53 - cmdstanpy - INFO - Chain [1] done processing\n",
      "INFO:cmdstanpy:Chain [1] done processing\n"
     ]
    },
    {
     "name": "stdout",
     "output_type": "stream",
     "text": [
      "MPE: -5.525417566676213e-05\n",
      "{'changepoint_prior_scale': 0.2, 'holidays_prior_scale': 0.1, 'n_changepoints': 1, 'seasonality_mode': 'additive', 'yearly_seasonality': True}\n"
     ]
    },
    {
     "name": "stderr",
     "output_type": "stream",
     "text": [
      "INFO:prophet:Disabling weekly seasonality. Run prophet with weekly_seasonality=True to override this.\n",
      "INFO:prophet:Disabling daily seasonality. Run prophet with daily_seasonality=True to override this.\n",
      "DEBUG:cmdstanpy:input tempfile: /tmp/tmp9z4f2c6p/osh0edbs.json\n",
      "DEBUG:cmdstanpy:input tempfile: /tmp/tmp9z4f2c6p/wt_chgs3.json\n",
      "DEBUG:cmdstanpy:idx 0\n",
      "DEBUG:cmdstanpy:running CmdStan, num_threads: None\n",
      "DEBUG:cmdstanpy:CmdStan args: ['/usr/local/lib/python3.10/dist-packages/prophet/stan_model/prophet_model.bin', 'random', 'seed=86818', 'data', 'file=/tmp/tmp9z4f2c6p/osh0edbs.json', 'init=/tmp/tmp9z4f2c6p/wt_chgs3.json', 'output', 'file=/tmp/tmp9z4f2c6p/prophet_modelfot95izx/prophet_model-20231125070853.csv', 'method=optimize', 'algorithm=lbfgs', 'iter=10000']\n",
      "07:08:53 - cmdstanpy - INFO - Chain [1] start processing\n",
      "INFO:cmdstanpy:Chain [1] start processing\n",
      "07:08:53 - cmdstanpy - INFO - Chain [1] done processing\n",
      "INFO:cmdstanpy:Chain [1] done processing\n"
     ]
    },
    {
     "name": "stdout",
     "output_type": "stream",
     "text": [
      "MPE: -5.525417566676213e-05\n",
      "{'changepoint_prior_scale': 0.2, 'holidays_prior_scale': 0.1, 'n_changepoints': 1, 'seasonality_mode': 'additive', 'yearly_seasonality': False}\n"
     ]
    },
    {
     "name": "stderr",
     "output_type": "stream",
     "text": [
      "INFO:prophet:Disabling weekly seasonality. Run prophet with weekly_seasonality=True to override this.\n",
      "INFO:prophet:Disabling daily seasonality. Run prophet with daily_seasonality=True to override this.\n",
      "DEBUG:cmdstanpy:input tempfile: /tmp/tmp9z4f2c6p/dxvcwu0c.json\n",
      "DEBUG:cmdstanpy:input tempfile: /tmp/tmp9z4f2c6p/0qe3rh7q.json\n",
      "DEBUG:cmdstanpy:idx 0\n",
      "DEBUG:cmdstanpy:running CmdStan, num_threads: None\n",
      "DEBUG:cmdstanpy:CmdStan args: ['/usr/local/lib/python3.10/dist-packages/prophet/stan_model/prophet_model.bin', 'random', 'seed=50852', 'data', 'file=/tmp/tmp9z4f2c6p/dxvcwu0c.json', 'init=/tmp/tmp9z4f2c6p/0qe3rh7q.json', 'output', 'file=/tmp/tmp9z4f2c6p/prophet_modelnp10qrvu/prophet_model-20231125070854.csv', 'method=optimize', 'algorithm=lbfgs', 'iter=10000']\n",
      "07:08:54 - cmdstanpy - INFO - Chain [1] start processing\n",
      "INFO:cmdstanpy:Chain [1] start processing\n",
      "07:08:54 - cmdstanpy - INFO - Chain [1] done processing\n",
      "INFO:cmdstanpy:Chain [1] done processing\n"
     ]
    },
    {
     "name": "stdout",
     "output_type": "stream",
     "text": [
      "MPE: -5.571104134668121e-05\n",
      "{'changepoint_prior_scale': 0.2, 'holidays_prior_scale': 0.1, 'n_changepoints': 5, 'seasonality_mode': 'multiplicative', 'yearly_seasonality': 'auto'}\n"
     ]
    },
    {
     "name": "stderr",
     "output_type": "stream",
     "text": [
      "INFO:prophet:Disabling weekly seasonality. Run prophet with weekly_seasonality=True to override this.\n",
      "INFO:prophet:Disabling daily seasonality. Run prophet with daily_seasonality=True to override this.\n",
      "DEBUG:cmdstanpy:input tempfile: /tmp/tmp9z4f2c6p/6xd520b8.json\n",
      "DEBUG:cmdstanpy:input tempfile: /tmp/tmp9z4f2c6p/wh6sjphr.json\n",
      "DEBUG:cmdstanpy:idx 0\n",
      "DEBUG:cmdstanpy:running CmdStan, num_threads: None\n",
      "DEBUG:cmdstanpy:CmdStan args: ['/usr/local/lib/python3.10/dist-packages/prophet/stan_model/prophet_model.bin', 'random', 'seed=34670', 'data', 'file=/tmp/tmp9z4f2c6p/6xd520b8.json', 'init=/tmp/tmp9z4f2c6p/wh6sjphr.json', 'output', 'file=/tmp/tmp9z4f2c6p/prophet_model_qeq5min/prophet_model-20231125070854.csv', 'method=optimize', 'algorithm=lbfgs', 'iter=10000']\n",
      "07:08:54 - cmdstanpy - INFO - Chain [1] start processing\n",
      "INFO:cmdstanpy:Chain [1] start processing\n",
      "07:08:54 - cmdstanpy - INFO - Chain [1] done processing\n",
      "INFO:cmdstanpy:Chain [1] done processing\n"
     ]
    },
    {
     "name": "stdout",
     "output_type": "stream",
     "text": [
      "MPE: 5.481082852918557e-06\n",
      "{'changepoint_prior_scale': 0.2, 'holidays_prior_scale': 0.1, 'n_changepoints': 5, 'seasonality_mode': 'multiplicative', 'yearly_seasonality': True}\n"
     ]
    },
    {
     "name": "stderr",
     "output_type": "stream",
     "text": [
      "INFO:prophet:Disabling weekly seasonality. Run prophet with weekly_seasonality=True to override this.\n",
      "INFO:prophet:Disabling daily seasonality. Run prophet with daily_seasonality=True to override this.\n",
      "DEBUG:cmdstanpy:input tempfile: /tmp/tmp9z4f2c6p/03bedntu.json\n",
      "DEBUG:cmdstanpy:input tempfile: /tmp/tmp9z4f2c6p/66sh5ux6.json\n",
      "DEBUG:cmdstanpy:idx 0\n",
      "DEBUG:cmdstanpy:running CmdStan, num_threads: None\n",
      "DEBUG:cmdstanpy:CmdStan args: ['/usr/local/lib/python3.10/dist-packages/prophet/stan_model/prophet_model.bin', 'random', 'seed=50486', 'data', 'file=/tmp/tmp9z4f2c6p/03bedntu.json', 'init=/tmp/tmp9z4f2c6p/66sh5ux6.json', 'output', 'file=/tmp/tmp9z4f2c6p/prophet_modelep92i82l/prophet_model-20231125070855.csv', 'method=optimize', 'algorithm=lbfgs', 'iter=10000']\n",
      "07:08:55 - cmdstanpy - INFO - Chain [1] start processing\n",
      "INFO:cmdstanpy:Chain [1] start processing\n",
      "07:08:55 - cmdstanpy - INFO - Chain [1] done processing\n",
      "INFO:cmdstanpy:Chain [1] done processing\n"
     ]
    },
    {
     "name": "stdout",
     "output_type": "stream",
     "text": [
      "MPE: 5.481082852918557e-06\n",
      "{'changepoint_prior_scale': 0.2, 'holidays_prior_scale': 0.1, 'n_changepoints': 5, 'seasonality_mode': 'multiplicative', 'yearly_seasonality': False}\n"
     ]
    },
    {
     "name": "stderr",
     "output_type": "stream",
     "text": [
      "INFO:prophet:Disabling weekly seasonality. Run prophet with weekly_seasonality=True to override this.\n",
      "INFO:prophet:Disabling daily seasonality. Run prophet with daily_seasonality=True to override this.\n",
      "DEBUG:cmdstanpy:input tempfile: /tmp/tmp9z4f2c6p/u0y96yyk.json\n",
      "DEBUG:cmdstanpy:input tempfile: /tmp/tmp9z4f2c6p/ilg7a1_o.json\n",
      "DEBUG:cmdstanpy:idx 0\n",
      "DEBUG:cmdstanpy:running CmdStan, num_threads: None\n",
      "DEBUG:cmdstanpy:CmdStan args: ['/usr/local/lib/python3.10/dist-packages/prophet/stan_model/prophet_model.bin', 'random', 'seed=95918', 'data', 'file=/tmp/tmp9z4f2c6p/u0y96yyk.json', 'init=/tmp/tmp9z4f2c6p/ilg7a1_o.json', 'output', 'file=/tmp/tmp9z4f2c6p/prophet_modelq8wefjda/prophet_model-20231125070855.csv', 'method=optimize', 'algorithm=lbfgs', 'iter=10000']\n",
      "07:08:55 - cmdstanpy - INFO - Chain [1] start processing\n",
      "INFO:cmdstanpy:Chain [1] start processing\n"
     ]
    },
    {
     "name": "stdout",
     "output_type": "stream",
     "text": [
      "MPE: 5.612231300286949e-06\n",
      "{'changepoint_prior_scale': 0.2, 'holidays_prior_scale': 0.1, 'n_changepoints': 5, 'seasonality_mode': 'additive', 'yearly_seasonality': 'auto'}\n"
     ]
    },
    {
     "name": "stderr",
     "output_type": "stream",
     "text": [
      "07:08:55 - cmdstanpy - INFO - Chain [1] done processing\n",
      "INFO:cmdstanpy:Chain [1] done processing\n",
      "INFO:prophet:Disabling weekly seasonality. Run prophet with weekly_seasonality=True to override this.\n",
      "INFO:prophet:Disabling daily seasonality. Run prophet with daily_seasonality=True to override this.\n",
      "DEBUG:cmdstanpy:input tempfile: /tmp/tmp9z4f2c6p/lv6b8h6n.json\n",
      "DEBUG:cmdstanpy:input tempfile: /tmp/tmp9z4f2c6p/f2sq62lr.json\n",
      "DEBUG:cmdstanpy:idx 0\n",
      "DEBUG:cmdstanpy:running CmdStan, num_threads: None\n",
      "DEBUG:cmdstanpy:CmdStan args: ['/usr/local/lib/python3.10/dist-packages/prophet/stan_model/prophet_model.bin', 'random', 'seed=68764', 'data', 'file=/tmp/tmp9z4f2c6p/lv6b8h6n.json', 'init=/tmp/tmp9z4f2c6p/f2sq62lr.json', 'output', 'file=/tmp/tmp9z4f2c6p/prophet_modelito3zakk/prophet_model-20231125070856.csv', 'method=optimize', 'algorithm=lbfgs', 'iter=10000']\n",
      "07:08:56 - cmdstanpy - INFO - Chain [1] start processing\n",
      "INFO:cmdstanpy:Chain [1] start processing\n"
     ]
    },
    {
     "name": "stdout",
     "output_type": "stream",
     "text": [
      "MPE: 4.845691422396693e-06\n",
      "{'changepoint_prior_scale': 0.2, 'holidays_prior_scale': 0.1, 'n_changepoints': 5, 'seasonality_mode': 'additive', 'yearly_seasonality': True}\n"
     ]
    },
    {
     "name": "stderr",
     "output_type": "stream",
     "text": [
      "07:08:56 - cmdstanpy - INFO - Chain [1] done processing\n",
      "INFO:cmdstanpy:Chain [1] done processing\n",
      "INFO:prophet:Disabling weekly seasonality. Run prophet with weekly_seasonality=True to override this.\n",
      "INFO:prophet:Disabling daily seasonality. Run prophet with daily_seasonality=True to override this.\n",
      "DEBUG:cmdstanpy:input tempfile: /tmp/tmp9z4f2c6p/7a2z6kso.json\n",
      "DEBUG:cmdstanpy:input tempfile: /tmp/tmp9z4f2c6p/ujthtoh5.json\n",
      "DEBUG:cmdstanpy:idx 0\n",
      "DEBUG:cmdstanpy:running CmdStan, num_threads: None\n",
      "DEBUG:cmdstanpy:CmdStan args: ['/usr/local/lib/python3.10/dist-packages/prophet/stan_model/prophet_model.bin', 'random', 'seed=31161', 'data', 'file=/tmp/tmp9z4f2c6p/7a2z6kso.json', 'init=/tmp/tmp9z4f2c6p/ujthtoh5.json', 'output', 'file=/tmp/tmp9z4f2c6p/prophet_model7qiwy6mo/prophet_model-20231125070856.csv', 'method=optimize', 'algorithm=lbfgs', 'iter=10000']\n",
      "07:08:56 - cmdstanpy - INFO - Chain [1] start processing\n",
      "INFO:cmdstanpy:Chain [1] start processing\n",
      "07:08:56 - cmdstanpy - INFO - Chain [1] done processing\n",
      "INFO:cmdstanpy:Chain [1] done processing\n"
     ]
    },
    {
     "name": "stdout",
     "output_type": "stream",
     "text": [
      "MPE: 4.845691422396693e-06\n",
      "{'changepoint_prior_scale': 0.2, 'holidays_prior_scale': 0.1, 'n_changepoints': 5, 'seasonality_mode': 'additive', 'yearly_seasonality': False}\n"
     ]
    },
    {
     "name": "stderr",
     "output_type": "stream",
     "text": [
      "INFO:prophet:Disabling weekly seasonality. Run prophet with weekly_seasonality=True to override this.\n",
      "INFO:prophet:Disabling daily seasonality. Run prophet with daily_seasonality=True to override this.\n",
      "DEBUG:cmdstanpy:input tempfile: /tmp/tmp9z4f2c6p/eouu8xnf.json\n",
      "DEBUG:cmdstanpy:input tempfile: /tmp/tmp9z4f2c6p/p_khl1ox.json\n",
      "DEBUG:cmdstanpy:idx 0\n",
      "DEBUG:cmdstanpy:running CmdStan, num_threads: None\n",
      "DEBUG:cmdstanpy:CmdStan args: ['/usr/local/lib/python3.10/dist-packages/prophet/stan_model/prophet_model.bin', 'random', 'seed=81365', 'data', 'file=/tmp/tmp9z4f2c6p/eouu8xnf.json', 'init=/tmp/tmp9z4f2c6p/p_khl1ox.json', 'output', 'file=/tmp/tmp9z4f2c6p/prophet_modelz9tdcb_c/prophet_model-20231125070857.csv', 'method=optimize', 'algorithm=lbfgs', 'iter=10000']\n",
      "07:08:57 - cmdstanpy - INFO - Chain [1] start processing\n",
      "INFO:cmdstanpy:Chain [1] start processing\n",
      "07:08:57 - cmdstanpy - INFO - Chain [1] done processing\n",
      "INFO:cmdstanpy:Chain [1] done processing\n"
     ]
    },
    {
     "name": "stdout",
     "output_type": "stream",
     "text": [
      "MPE: 5.612231300286949e-06\n",
      "{'changepoint_prior_scale': 0.2, 'holidays_prior_scale': 0.2, 'n_changepoints': 1, 'seasonality_mode': 'multiplicative', 'yearly_seasonality': 'auto'}\n"
     ]
    },
    {
     "name": "stderr",
     "output_type": "stream",
     "text": [
      "INFO:prophet:Disabling weekly seasonality. Run prophet with weekly_seasonality=True to override this.\n",
      "INFO:prophet:Disabling daily seasonality. Run prophet with daily_seasonality=True to override this.\n",
      "DEBUG:cmdstanpy:input tempfile: /tmp/tmp9z4f2c6p/n4g5i0ng.json\n",
      "DEBUG:cmdstanpy:input tempfile: /tmp/tmp9z4f2c6p/fx13p59m.json\n",
      "DEBUG:cmdstanpy:idx 0\n",
      "DEBUG:cmdstanpy:running CmdStan, num_threads: None\n",
      "DEBUG:cmdstanpy:CmdStan args: ['/usr/local/lib/python3.10/dist-packages/prophet/stan_model/prophet_model.bin', 'random', 'seed=40200', 'data', 'file=/tmp/tmp9z4f2c6p/n4g5i0ng.json', 'init=/tmp/tmp9z4f2c6p/fx13p59m.json', 'output', 'file=/tmp/tmp9z4f2c6p/prophet_modeluib2ixxe/prophet_model-20231125070857.csv', 'method=optimize', 'algorithm=lbfgs', 'iter=10000']\n",
      "07:08:57 - cmdstanpy - INFO - Chain [1] start processing\n",
      "INFO:cmdstanpy:Chain [1] start processing\n",
      "07:08:57 - cmdstanpy - INFO - Chain [1] done processing\n",
      "INFO:cmdstanpy:Chain [1] done processing\n"
     ]
    },
    {
     "name": "stdout",
     "output_type": "stream",
     "text": [
      "MPE: -5.6072099092356744e-05\n",
      "{'changepoint_prior_scale': 0.2, 'holidays_prior_scale': 0.2, 'n_changepoints': 1, 'seasonality_mode': 'multiplicative', 'yearly_seasonality': True}\n"
     ]
    },
    {
     "name": "stderr",
     "output_type": "stream",
     "text": [
      "INFO:prophet:Disabling weekly seasonality. Run prophet with weekly_seasonality=True to override this.\n",
      "INFO:prophet:Disabling daily seasonality. Run prophet with daily_seasonality=True to override this.\n",
      "DEBUG:cmdstanpy:input tempfile: /tmp/tmp9z4f2c6p/qatczcxd.json\n",
      "DEBUG:cmdstanpy:input tempfile: /tmp/tmp9z4f2c6p/gjhwm8cw.json\n",
      "DEBUG:cmdstanpy:idx 0\n",
      "DEBUG:cmdstanpy:running CmdStan, num_threads: None\n",
      "DEBUG:cmdstanpy:CmdStan args: ['/usr/local/lib/python3.10/dist-packages/prophet/stan_model/prophet_model.bin', 'random', 'seed=24837', 'data', 'file=/tmp/tmp9z4f2c6p/qatczcxd.json', 'init=/tmp/tmp9z4f2c6p/gjhwm8cw.json', 'output', 'file=/tmp/tmp9z4f2c6p/prophet_models122lu8s/prophet_model-20231125070857.csv', 'method=optimize', 'algorithm=lbfgs', 'iter=10000']\n",
      "07:08:57 - cmdstanpy - INFO - Chain [1] start processing\n",
      "INFO:cmdstanpy:Chain [1] start processing\n",
      "07:08:57 - cmdstanpy - INFO - Chain [1] done processing\n",
      "INFO:cmdstanpy:Chain [1] done processing\n"
     ]
    },
    {
     "name": "stdout",
     "output_type": "stream",
     "text": [
      "MPE: -5.6072099092356744e-05\n",
      "{'changepoint_prior_scale': 0.2, 'holidays_prior_scale': 0.2, 'n_changepoints': 1, 'seasonality_mode': 'multiplicative', 'yearly_seasonality': False}\n"
     ]
    },
    {
     "name": "stderr",
     "output_type": "stream",
     "text": [
      "INFO:prophet:Disabling weekly seasonality. Run prophet with weekly_seasonality=True to override this.\n",
      "INFO:prophet:Disabling daily seasonality. Run prophet with daily_seasonality=True to override this.\n",
      "DEBUG:cmdstanpy:input tempfile: /tmp/tmp9z4f2c6p/nzv5mm55.json\n",
      "DEBUG:cmdstanpy:input tempfile: /tmp/tmp9z4f2c6p/v63ugep6.json\n",
      "DEBUG:cmdstanpy:idx 0\n",
      "DEBUG:cmdstanpy:running CmdStan, num_threads: None\n",
      "DEBUG:cmdstanpy:CmdStan args: ['/usr/local/lib/python3.10/dist-packages/prophet/stan_model/prophet_model.bin', 'random', 'seed=68221', 'data', 'file=/tmp/tmp9z4f2c6p/nzv5mm55.json', 'init=/tmp/tmp9z4f2c6p/v63ugep6.json', 'output', 'file=/tmp/tmp9z4f2c6p/prophet_modelwpgf3uxa/prophet_model-20231125070858.csv', 'method=optimize', 'algorithm=lbfgs', 'iter=10000']\n",
      "07:08:58 - cmdstanpy - INFO - Chain [1] start processing\n",
      "INFO:cmdstanpy:Chain [1] start processing\n",
      "07:08:58 - cmdstanpy - INFO - Chain [1] done processing\n",
      "INFO:cmdstanpy:Chain [1] done processing\n"
     ]
    },
    {
     "name": "stdout",
     "output_type": "stream",
     "text": [
      "MPE: -5.571104134668121e-05\n",
      "{'changepoint_prior_scale': 0.2, 'holidays_prior_scale': 0.2, 'n_changepoints': 1, 'seasonality_mode': 'additive', 'yearly_seasonality': 'auto'}\n"
     ]
    },
    {
     "name": "stderr",
     "output_type": "stream",
     "text": [
      "INFO:prophet:Disabling weekly seasonality. Run prophet with weekly_seasonality=True to override this.\n",
      "INFO:prophet:Disabling daily seasonality. Run prophet with daily_seasonality=True to override this.\n",
      "DEBUG:cmdstanpy:input tempfile: /tmp/tmp9z4f2c6p/q0pl3co4.json\n",
      "DEBUG:cmdstanpy:input tempfile: /tmp/tmp9z4f2c6p/n5yo10ao.json\n",
      "DEBUG:cmdstanpy:idx 0\n",
      "DEBUG:cmdstanpy:running CmdStan, num_threads: None\n",
      "DEBUG:cmdstanpy:CmdStan args: ['/usr/local/lib/python3.10/dist-packages/prophet/stan_model/prophet_model.bin', 'random', 'seed=83613', 'data', 'file=/tmp/tmp9z4f2c6p/q0pl3co4.json', 'init=/tmp/tmp9z4f2c6p/n5yo10ao.json', 'output', 'file=/tmp/tmp9z4f2c6p/prophet_modela6nz_khp/prophet_model-20231125070858.csv', 'method=optimize', 'algorithm=lbfgs', 'iter=10000']\n",
      "07:08:58 - cmdstanpy - INFO - Chain [1] start processing\n",
      "INFO:cmdstanpy:Chain [1] start processing\n",
      "07:08:58 - cmdstanpy - INFO - Chain [1] done processing\n",
      "INFO:cmdstanpy:Chain [1] done processing\n"
     ]
    },
    {
     "name": "stdout",
     "output_type": "stream",
     "text": [
      "MPE: -5.525417566676213e-05\n",
      "{'changepoint_prior_scale': 0.2, 'holidays_prior_scale': 0.2, 'n_changepoints': 1, 'seasonality_mode': 'additive', 'yearly_seasonality': True}\n"
     ]
    },
    {
     "name": "stderr",
     "output_type": "stream",
     "text": [
      "INFO:prophet:Disabling weekly seasonality. Run prophet with weekly_seasonality=True to override this.\n",
      "INFO:prophet:Disabling daily seasonality. Run prophet with daily_seasonality=True to override this.\n",
      "DEBUG:cmdstanpy:input tempfile: /tmp/tmp9z4f2c6p/uie1uj_5.json\n",
      "DEBUG:cmdstanpy:input tempfile: /tmp/tmp9z4f2c6p/qnsmnxgf.json\n",
      "DEBUG:cmdstanpy:idx 0\n",
      "DEBUG:cmdstanpy:running CmdStan, num_threads: None\n",
      "DEBUG:cmdstanpy:CmdStan args: ['/usr/local/lib/python3.10/dist-packages/prophet/stan_model/prophet_model.bin', 'random', 'seed=33500', 'data', 'file=/tmp/tmp9z4f2c6p/uie1uj_5.json', 'init=/tmp/tmp9z4f2c6p/qnsmnxgf.json', 'output', 'file=/tmp/tmp9z4f2c6p/prophet_model3ehe27u1/prophet_model-20231125070859.csv', 'method=optimize', 'algorithm=lbfgs', 'iter=10000']\n",
      "07:08:59 - cmdstanpy - INFO - Chain [1] start processing\n",
      "INFO:cmdstanpy:Chain [1] start processing\n",
      "07:08:59 - cmdstanpy - INFO - Chain [1] done processing\n",
      "INFO:cmdstanpy:Chain [1] done processing\n"
     ]
    },
    {
     "name": "stdout",
     "output_type": "stream",
     "text": [
      "MPE: -5.525417566676213e-05\n",
      "{'changepoint_prior_scale': 0.2, 'holidays_prior_scale': 0.2, 'n_changepoints': 1, 'seasonality_mode': 'additive', 'yearly_seasonality': False}\n"
     ]
    },
    {
     "name": "stderr",
     "output_type": "stream",
     "text": [
      "INFO:prophet:Disabling weekly seasonality. Run prophet with weekly_seasonality=True to override this.\n",
      "INFO:prophet:Disabling daily seasonality. Run prophet with daily_seasonality=True to override this.\n",
      "DEBUG:cmdstanpy:input tempfile: /tmp/tmp9z4f2c6p/soy26ty2.json\n",
      "DEBUG:cmdstanpy:input tempfile: /tmp/tmp9z4f2c6p/pytc9f5x.json\n",
      "DEBUG:cmdstanpy:idx 0\n",
      "DEBUG:cmdstanpy:running CmdStan, num_threads: None\n",
      "DEBUG:cmdstanpy:CmdStan args: ['/usr/local/lib/python3.10/dist-packages/prophet/stan_model/prophet_model.bin', 'random', 'seed=25835', 'data', 'file=/tmp/tmp9z4f2c6p/soy26ty2.json', 'init=/tmp/tmp9z4f2c6p/pytc9f5x.json', 'output', 'file=/tmp/tmp9z4f2c6p/prophet_modelo_bldsu_/prophet_model-20231125070859.csv', 'method=optimize', 'algorithm=lbfgs', 'iter=10000']\n",
      "07:08:59 - cmdstanpy - INFO - Chain [1] start processing\n",
      "INFO:cmdstanpy:Chain [1] start processing\n",
      "07:08:59 - cmdstanpy - INFO - Chain [1] done processing\n",
      "INFO:cmdstanpy:Chain [1] done processing\n"
     ]
    },
    {
     "name": "stdout",
     "output_type": "stream",
     "text": [
      "MPE: -5.571104134668121e-05\n",
      "{'changepoint_prior_scale': 0.2, 'holidays_prior_scale': 0.2, 'n_changepoints': 5, 'seasonality_mode': 'multiplicative', 'yearly_seasonality': 'auto'}\n"
     ]
    },
    {
     "name": "stderr",
     "output_type": "stream",
     "text": [
      "INFO:prophet:Disabling weekly seasonality. Run prophet with weekly_seasonality=True to override this.\n",
      "INFO:prophet:Disabling daily seasonality. Run prophet with daily_seasonality=True to override this.\n",
      "DEBUG:cmdstanpy:input tempfile: /tmp/tmp9z4f2c6p/axi_idhc.json\n",
      "DEBUG:cmdstanpy:input tempfile: /tmp/tmp9z4f2c6p/sk8l05q3.json\n",
      "DEBUG:cmdstanpy:idx 0\n",
      "DEBUG:cmdstanpy:running CmdStan, num_threads: None\n",
      "DEBUG:cmdstanpy:CmdStan args: ['/usr/local/lib/python3.10/dist-packages/prophet/stan_model/prophet_model.bin', 'random', 'seed=24768', 'data', 'file=/tmp/tmp9z4f2c6p/axi_idhc.json', 'init=/tmp/tmp9z4f2c6p/sk8l05q3.json', 'output', 'file=/tmp/tmp9z4f2c6p/prophet_modeljuuy9edg/prophet_model-20231125070900.csv', 'method=optimize', 'algorithm=lbfgs', 'iter=10000']\n",
      "07:09:00 - cmdstanpy - INFO - Chain [1] start processing\n",
      "INFO:cmdstanpy:Chain [1] start processing\n"
     ]
    },
    {
     "name": "stdout",
     "output_type": "stream",
     "text": [
      "MPE: 5.481082852918557e-06\n",
      "{'changepoint_prior_scale': 0.2, 'holidays_prior_scale': 0.2, 'n_changepoints': 5, 'seasonality_mode': 'multiplicative', 'yearly_seasonality': True}\n"
     ]
    },
    {
     "name": "stderr",
     "output_type": "stream",
     "text": [
      "07:09:00 - cmdstanpy - INFO - Chain [1] done processing\n",
      "INFO:cmdstanpy:Chain [1] done processing\n",
      "INFO:prophet:Disabling weekly seasonality. Run prophet with weekly_seasonality=True to override this.\n",
      "INFO:prophet:Disabling daily seasonality. Run prophet with daily_seasonality=True to override this.\n",
      "DEBUG:cmdstanpy:input tempfile: /tmp/tmp9z4f2c6p/syzgdth9.json\n",
      "DEBUG:cmdstanpy:input tempfile: /tmp/tmp9z4f2c6p/xqlg106v.json\n",
      "DEBUG:cmdstanpy:idx 0\n",
      "DEBUG:cmdstanpy:running CmdStan, num_threads: None\n",
      "DEBUG:cmdstanpy:CmdStan args: ['/usr/local/lib/python3.10/dist-packages/prophet/stan_model/prophet_model.bin', 'random', 'seed=56624', 'data', 'file=/tmp/tmp9z4f2c6p/syzgdth9.json', 'init=/tmp/tmp9z4f2c6p/xqlg106v.json', 'output', 'file=/tmp/tmp9z4f2c6p/prophet_modelhnefv1jj/prophet_model-20231125070900.csv', 'method=optimize', 'algorithm=lbfgs', 'iter=10000']\n",
      "07:09:00 - cmdstanpy - INFO - Chain [1] start processing\n",
      "INFO:cmdstanpy:Chain [1] start processing\n",
      "07:09:00 - cmdstanpy - INFO - Chain [1] done processing\n",
      "INFO:cmdstanpy:Chain [1] done processing\n"
     ]
    },
    {
     "name": "stdout",
     "output_type": "stream",
     "text": [
      "MPE: 5.481082852918557e-06\n",
      "{'changepoint_prior_scale': 0.2, 'holidays_prior_scale': 0.2, 'n_changepoints': 5, 'seasonality_mode': 'multiplicative', 'yearly_seasonality': False}\n"
     ]
    },
    {
     "name": "stderr",
     "output_type": "stream",
     "text": [
      "INFO:prophet:Disabling weekly seasonality. Run prophet with weekly_seasonality=True to override this.\n",
      "INFO:prophet:Disabling daily seasonality. Run prophet with daily_seasonality=True to override this.\n",
      "DEBUG:cmdstanpy:input tempfile: /tmp/tmp9z4f2c6p/y_6g46ip.json\n",
      "DEBUG:cmdstanpy:input tempfile: /tmp/tmp9z4f2c6p/48btje3s.json\n",
      "DEBUG:cmdstanpy:idx 0\n",
      "DEBUG:cmdstanpy:running CmdStan, num_threads: None\n",
      "DEBUG:cmdstanpy:CmdStan args: ['/usr/local/lib/python3.10/dist-packages/prophet/stan_model/prophet_model.bin', 'random', 'seed=20532', 'data', 'file=/tmp/tmp9z4f2c6p/y_6g46ip.json', 'init=/tmp/tmp9z4f2c6p/48btje3s.json', 'output', 'file=/tmp/tmp9z4f2c6p/prophet_modeldvstc2b6/prophet_model-20231125070901.csv', 'method=optimize', 'algorithm=lbfgs', 'iter=10000']\n",
      "07:09:01 - cmdstanpy - INFO - Chain [1] start processing\n",
      "INFO:cmdstanpy:Chain [1] start processing\n"
     ]
    },
    {
     "name": "stdout",
     "output_type": "stream",
     "text": [
      "MPE: 5.612231300286949e-06\n",
      "{'changepoint_prior_scale': 0.2, 'holidays_prior_scale': 0.2, 'n_changepoints': 5, 'seasonality_mode': 'additive', 'yearly_seasonality': 'auto'}\n"
     ]
    },
    {
     "name": "stderr",
     "output_type": "stream",
     "text": [
      "07:09:01 - cmdstanpy - INFO - Chain [1] done processing\n",
      "INFO:cmdstanpy:Chain [1] done processing\n",
      "INFO:prophet:Disabling weekly seasonality. Run prophet with weekly_seasonality=True to override this.\n",
      "INFO:prophet:Disabling daily seasonality. Run prophet with daily_seasonality=True to override this.\n",
      "DEBUG:cmdstanpy:input tempfile: /tmp/tmp9z4f2c6p/iy81crms.json\n",
      "DEBUG:cmdstanpy:input tempfile: /tmp/tmp9z4f2c6p/6mv8lvyf.json\n",
      "DEBUG:cmdstanpy:idx 0\n",
      "DEBUG:cmdstanpy:running CmdStan, num_threads: None\n",
      "DEBUG:cmdstanpy:CmdStan args: ['/usr/local/lib/python3.10/dist-packages/prophet/stan_model/prophet_model.bin', 'random', 'seed=19109', 'data', 'file=/tmp/tmp9z4f2c6p/iy81crms.json', 'init=/tmp/tmp9z4f2c6p/6mv8lvyf.json', 'output', 'file=/tmp/tmp9z4f2c6p/prophet_modelc_6r594f/prophet_model-20231125070902.csv', 'method=optimize', 'algorithm=lbfgs', 'iter=10000']\n",
      "07:09:02 - cmdstanpy - INFO - Chain [1] start processing\n",
      "INFO:cmdstanpy:Chain [1] start processing\n"
     ]
    },
    {
     "name": "stdout",
     "output_type": "stream",
     "text": [
      "MPE: 4.845691422396693e-06\n",
      "{'changepoint_prior_scale': 0.2, 'holidays_prior_scale': 0.2, 'n_changepoints': 5, 'seasonality_mode': 'additive', 'yearly_seasonality': True}\n"
     ]
    },
    {
     "name": "stderr",
     "output_type": "stream",
     "text": [
      "07:09:02 - cmdstanpy - INFO - Chain [1] done processing\n",
      "INFO:cmdstanpy:Chain [1] done processing\n",
      "INFO:prophet:Disabling weekly seasonality. Run prophet with weekly_seasonality=True to override this.\n",
      "INFO:prophet:Disabling daily seasonality. Run prophet with daily_seasonality=True to override this.\n",
      "DEBUG:cmdstanpy:input tempfile: /tmp/tmp9z4f2c6p/wfkmzmbn.json\n",
      "DEBUG:cmdstanpy:input tempfile: /tmp/tmp9z4f2c6p/i0t9rmp8.json\n",
      "DEBUG:cmdstanpy:idx 0\n",
      "DEBUG:cmdstanpy:running CmdStan, num_threads: None\n",
      "DEBUG:cmdstanpy:CmdStan args: ['/usr/local/lib/python3.10/dist-packages/prophet/stan_model/prophet_model.bin', 'random', 'seed=70816', 'data', 'file=/tmp/tmp9z4f2c6p/wfkmzmbn.json', 'init=/tmp/tmp9z4f2c6p/i0t9rmp8.json', 'output', 'file=/tmp/tmp9z4f2c6p/prophet_modelqksf1eed/prophet_model-20231125070902.csv', 'method=optimize', 'algorithm=lbfgs', 'iter=10000']\n",
      "07:09:02 - cmdstanpy - INFO - Chain [1] start processing\n",
      "INFO:cmdstanpy:Chain [1] start processing\n",
      "07:09:02 - cmdstanpy - INFO - Chain [1] done processing\n",
      "INFO:cmdstanpy:Chain [1] done processing\n"
     ]
    },
    {
     "name": "stdout",
     "output_type": "stream",
     "text": [
      "MPE: 4.845691422396693e-06\n",
      "{'changepoint_prior_scale': 0.2, 'holidays_prior_scale': 0.2, 'n_changepoints': 5, 'seasonality_mode': 'additive', 'yearly_seasonality': False}\n",
      "MPE: 5.612231300286949e-06\n"
     ]
    }
   ],
   "source": [
    "from prophet import Prophet\n",
    "from sklearn.model_selection import ParameterGrid\n",
    "import numpy as np\n",
    "parameters = {\n",
    "    \"changepoint_prior_scale\": [0.1, 0.2],\n",
    "    \"n_changepoints\": [1, 5],\n",
    "    \"holidays_prior_scale\": [0.1, 0.2],\n",
    "    \"seasonality_mode\": [\"multiplicative\", \"additive\"],\n",
    "    \"yearly_seasonality\": [\"auto\", True, False]\n",
    "}\n",
    "\n",
    "parameter_grid = ParameterGrid(parameters)\n",
    "\n",
    "parameter_list = []\n",
    "for p in parameter_grid:\n",
    "    print(p)\n",
    "    model = Prophet(\n",
    "        changepoint_prior_scale=p[\"changepoint_prior_scale\"],\n",
    "        n_changepoints=p[\"n_changepoints\"],\n",
    "        holidays_prior_scale=p[\"holidays_prior_scale\"],\n",
    "        seasonality_mode=p[\"seasonality_mode\"],\n",
    "        yearly_seasonality=p[\"yearly_seasonality\"],\n",
    "        interval_width=0.95 )\n",
    "\n",
    "    model.fit(df)\n",
    "    future = model.make_future_dataframe(periods=100, freq=\"D\")\n",
    "    forecast = model.predict(future)\n",
    "\n",
    "    predicted = forecast[[\"ds\", \"yhat\"]]\n",
    "    actual = df\n",
    "\n",
    "    mpe = np.mean((predicted[\"yhat\"] - actual[\"y\"]) / actual[\"y\"])\n",
    "    print(\"MPE:\", mpe)\n",
    "    parameter_list.append([mpe, p])"
   ]
  },
  {
   "cell_type": "code",
   "execution_count": 20,
   "metadata": {
    "id": "Og9v9wB88awP"
   },
   "outputs": [],
   "source": [
    "parameters_df=pd.DataFrame(parameter_list,columns=[\"MPE\",\"P\"])\n",
    "parameters_df=parameters_df.sort_values(by=\"MPE\")"
   ]
  },
  {
   "cell_type": "code",
   "execution_count": 21,
   "metadata": {
    "colab": {
     "base_uri": "https://localhost:8080/"
    },
    "id": "XMcGHOyU8ayf",
    "outputId": "81889428-e352-4e9e-d7dc-189e930f36a1"
   },
   "outputs": [
    {
     "name": "stdout",
     "output_type": "stream",
     "text": [
      "Lowest MPE: -5.7174307163500085e-05\n",
      "Parameetrs: {'changepoint_prior_scale': 0.1, 'holidays_prior_scale': 0.1, 'n_changepoints': 1, 'seasonality_mode': 'multiplicative', 'yearly_seasonality': 'auto'}\n"
     ]
    }
   ],
   "source": [
    "print(\"Lowest MPE:\",parameters_df.iloc[0,:][0])\n",
    "print(\"Parameetrs:\",parameters_df.iloc[0,:][1])"
   ]
  },
  {
   "cell_type": "code",
   "execution_count": 22,
   "metadata": {
    "colab": {
     "base_uri": "https://localhost:8080/"
    },
    "id": "wVGFL70M8a01",
    "outputId": "845e1ed1-5141-45e3-9d20-a1e164aa4052"
   },
   "outputs": [
    {
     "name": "stdout",
     "output_type": "stream",
     "text": [
      "            ds          trend     yhat_lower     yhat_upper    trend_lower  \\\n",
      "816 2019-12-02  331022.375130  329767.359214  332254.010336  331022.375130   \n",
      "817 2019-12-03  331028.673179  329850.934826  332212.023912  331028.673179   \n",
      "818 2019-12-04  331034.971228  329776.271255  332253.924904  331034.971228   \n",
      "819 2019-12-05  331041.269277  329881.593462  332336.884712  331041.269277   \n",
      "820 2019-12-06  331047.567326  329818.898443  332227.713182  331047.567326   \n",
      "..         ...            ...            ...            ...            ...   \n",
      "911 2020-03-06  331620.689785  330458.988752  332804.557524  331620.689785   \n",
      "912 2020-03-07  331626.987834  330471.472339  332836.521006  331626.987834   \n",
      "913 2020-03-08  331633.285883  330475.401927  332864.005735  331633.285883   \n",
      "914 2020-03-09  331639.583932  330413.900413  332807.088906  331639.583932   \n",
      "915 2020-03-10  331645.881981  330312.436764  332951.718533  331645.881981   \n",
      "\n",
      "       trend_upper  additive_terms  additive_terms_lower  \\\n",
      "816  331022.375130             0.0                   0.0   \n",
      "817  331028.673179             0.0                   0.0   \n",
      "818  331034.971228             0.0                   0.0   \n",
      "819  331041.269277             0.0                   0.0   \n",
      "820  331047.567326             0.0                   0.0   \n",
      "..             ...             ...                   ...   \n",
      "911  331620.689785             0.0                   0.0   \n",
      "912  331626.987834             0.0                   0.0   \n",
      "913  331633.285883             0.0                   0.0   \n",
      "914  331639.583932             0.0                   0.0   \n",
      "915  331645.881981             0.0                   0.0   \n",
      "\n",
      "     additive_terms_upper  multiplicative_terms  multiplicative_terms_lower  \\\n",
      "816                   0.0                   0.0                         0.0   \n",
      "817                   0.0                   0.0                         0.0   \n",
      "818                   0.0                   0.0                         0.0   \n",
      "819                   0.0                   0.0                         0.0   \n",
      "820                   0.0                   0.0                         0.0   \n",
      "..                    ...                   ...                         ...   \n",
      "911                   0.0                   0.0                         0.0   \n",
      "912                   0.0                   0.0                         0.0   \n",
      "913                   0.0                   0.0                         0.0   \n",
      "914                   0.0                   0.0                         0.0   \n",
      "915                   0.0                   0.0                         0.0   \n",
      "\n",
      "     multiplicative_terms_upper           yhat  \n",
      "816                         0.0  331022.375130  \n",
      "817                         0.0  331028.673179  \n",
      "818                         0.0  331034.971228  \n",
      "819                         0.0  331041.269277  \n",
      "820                         0.0  331047.567326  \n",
      "..                          ...            ...  \n",
      "911                         0.0  331620.689785  \n",
      "912                         0.0  331626.987834  \n",
      "913                         0.0  331633.285883  \n",
      "914                         0.0  331639.583932  \n",
      "915                         0.0  331645.881981  \n",
      "\n",
      "[100 rows x 13 columns]\n"
     ]
    }
   ],
   "source": [
    "forecast_100_days = forecast.tail(100)\n",
    "print(forecast_100_days)"
   ]
  },
  {
   "cell_type": "code",
   "execution_count": 23,
   "metadata": {
    "colab": {
     "base_uri": "https://localhost:8080/"
    },
    "id": "rKBheeTzJ27O",
    "outputId": "341bd9e2-7837-4b2a-e782-f8391c379ddd"
   },
   "outputs": [
    {
     "name": "stderr",
     "output_type": "stream",
     "text": [
      "INFO:prophet:Disabling weekly seasonality. Run prophet with weekly_seasonality=True to override this.\n",
      "INFO:prophet:Disabling daily seasonality. Run prophet with daily_seasonality=True to override this.\n",
      "DEBUG:cmdstanpy:input tempfile: /tmp/tmp9z4f2c6p/74cbvy3j.json\n",
      "DEBUG:cmdstanpy:input tempfile: /tmp/tmp9z4f2c6p/i4or3e21.json\n",
      "DEBUG:cmdstanpy:idx 0\n",
      "DEBUG:cmdstanpy:running CmdStan, num_threads: None\n",
      "DEBUG:cmdstanpy:CmdStan args: ['/usr/local/lib/python3.10/dist-packages/prophet/stan_model/prophet_model.bin', 'random', 'seed=13419', 'data', 'file=/tmp/tmp9z4f2c6p/74cbvy3j.json', 'init=/tmp/tmp9z4f2c6p/i4or3e21.json', 'output', 'file=/tmp/tmp9z4f2c6p/prophet_modelfmqq9h_5/prophet_model-20231125071011.csv', 'method=optimize', 'algorithm=lbfgs', 'iter=10000']\n",
      "07:10:11 - cmdstanpy - INFO - Chain [1] start processing\n",
      "INFO:cmdstanpy:Chain [1] start processing\n",
      "07:10:11 - cmdstanpy - INFO - Chain [1] done processing\n",
      "INFO:cmdstanpy:Chain [1] done processing\n"
     ]
    },
    {
     "data": {
      "text/plain": [
       "<prophet.forecaster.Prophet at 0x7948b428edd0>"
      ]
     },
     "execution_count": 23,
     "metadata": {},
     "output_type": "execute_result"
    }
   ],
   "source": [
    "best_params = parameters_df.iloc[0,:][1]\n",
    "model = Prophet(changepoint_prior_scale=best_params[\"changepoint_prior_scale\"],\n",
    "                n_changepoints=best_params[\"n_changepoints\"],\n",
    "                holidays_prior_scale=best_params[\"holidays_prior_scale\"],\n",
    "                seasonality_mode=best_params[\"seasonality_mode\"],\n",
    "                yearly_seasonality=best_params[\"yearly_seasonality\"],\n",
    "                interval_width=0.95)\n",
    "model.fit(df)"
   ]
  },
  {
   "cell_type": "code",
   "execution_count": 24,
   "metadata": {
    "id": "2_gMSLCXJ9Bo"
   },
   "outputs": [],
   "source": [
    "future = model.make_future_dataframe(periods=100, freq='D')\n",
    "forecast = model.predict(future)\n",
    "forecast_100_days = forecast.tail(100)"
   ]
  },
  {
   "cell_type": "code",
   "execution_count": 25,
   "metadata": {
    "colab": {
     "base_uri": "https://localhost:8080/"
    },
    "id": "6UXGPhR1KAUP",
    "outputId": "c630179f-c9b4-482d-e80d-9f877f41f9f6"
   },
   "outputs": [
    {
     "name": "stdout",
     "output_type": "stream",
     "text": [
      "            ds          trend     yhat_lower     yhat_upper    trend_lower  \\\n",
      "816 2019-12-02  333259.609123  328761.951855  338272.491356  333259.609123   \n",
      "817 2019-12-03  333267.244571  328688.728916  337766.760356  333267.244571   \n",
      "818 2019-12-04  333274.880020  328771.948655  338298.228273  333274.880020   \n",
      "819 2019-12-05  333282.515469  329490.511861  339052.472297  333282.515469   \n",
      "820 2019-12-06  333290.150918  329439.528789  338844.399471  333290.150918   \n",
      "..         ...            ...            ...            ...            ...   \n",
      "911 2020-03-06  333984.976755  329555.865772  339045.537774  333984.976755   \n",
      "912 2020-03-07  333992.612204  329662.533302  338787.696427  333992.612204   \n",
      "913 2020-03-08  334000.247652  329734.170052  338895.883470  334000.247652   \n",
      "914 2020-03-09  334007.883101  329609.744508  339175.927778  334007.883101   \n",
      "915 2020-03-10  334015.518550  329810.805146  338977.509862  334015.518550   \n",
      "\n",
      "       trend_upper  multiplicative_terms  multiplicative_terms_lower  \\\n",
      "816  333259.609123              0.000288                    0.000288   \n",
      "817  333267.244571              0.000778                    0.000778   \n",
      "818  333274.880020              0.001310                    0.001310   \n",
      "819  333282.515469              0.001875                    0.001875   \n",
      "820  333290.150918              0.002461                    0.002461   \n",
      "..             ...                   ...                         ...   \n",
      "911  333984.976755              0.001129                    0.001129   \n",
      "912  333992.612204              0.001161                    0.001161   \n",
      "913  334000.247652              0.001132                    0.001132   \n",
      "914  334007.883101              0.001048                    0.001048   \n",
      "915  334015.518550              0.000913                    0.000913   \n",
      "\n",
      "     multiplicative_terms_upper    yearly  yearly_lower  yearly_upper  \\\n",
      "816                    0.000288  0.000288      0.000288      0.000288   \n",
      "817                    0.000778  0.000778      0.000778      0.000778   \n",
      "818                    0.001310  0.001310      0.001310      0.001310   \n",
      "819                    0.001875  0.001875      0.001875      0.001875   \n",
      "820                    0.002461  0.002461      0.002461      0.002461   \n",
      "..                          ...       ...           ...           ...   \n",
      "911                    0.001129  0.001129      0.001129      0.001129   \n",
      "912                    0.001161  0.001161      0.001161      0.001161   \n",
      "913                    0.001132  0.001132      0.001132      0.001132   \n",
      "914                    0.001048  0.001048      0.001048      0.001048   \n",
      "915                    0.000913  0.000913      0.000913      0.000913   \n",
      "\n",
      "     additive_terms  additive_terms_lower  additive_terms_upper           yhat  \n",
      "816             0.0                   0.0                   0.0  333355.551743  \n",
      "817             0.0                   0.0                   0.0  333526.571925  \n",
      "818             0.0                   0.0                   0.0  333711.609700  \n",
      "819             0.0                   0.0                   0.0  333907.386821  \n",
      "820             0.0                   0.0                   0.0  334110.250473  \n",
      "..              ...                   ...                   ...            ...  \n",
      "911             0.0                   0.0                   0.0  334361.992415  \n",
      "912             0.0                   0.0                   0.0  334380.279832  \n",
      "913             0.0                   0.0                   0.0  334378.367244  \n",
      "914             0.0                   0.0                   0.0  334357.796829  \n",
      "915             0.0                   0.0                   0.0  334320.574934  \n",
      "\n",
      "[100 rows x 16 columns]\n"
     ]
    }
   ],
   "source": [
    "print(forecast_100_days)"
   ]
  },
  {
   "cell_type": "code",
   "execution_count": 29,
   "metadata": {
    "colab": {
     "base_uri": "https://localhost:8080/",
     "height": 1000
    },
    "id": "dM7T_zaMUZRg",
    "outputId": "081941f8-8c3e-4018-cfe1-ab0cf7b0d6d8"
   },
   "outputs": [
    {
     "name": "stderr",
     "output_type": "stream",
     "text": [
      "INFO:prophet:Disabling weekly seasonality. Run prophet with weekly_seasonality=True to override this.\n",
      "INFO:prophet:Disabling daily seasonality. Run prophet with daily_seasonality=True to override this.\n",
      "DEBUG:cmdstanpy:input tempfile: /tmp/tmp9z4f2c6p/7_j21v25.json\n",
      "DEBUG:cmdstanpy:input tempfile: /tmp/tmp9z4f2c6p/oh8q9ywl.json\n",
      "DEBUG:cmdstanpy:idx 0\n",
      "DEBUG:cmdstanpy:running CmdStan, num_threads: None\n",
      "DEBUG:cmdstanpy:CmdStan args: ['/usr/local/lib/python3.10/dist-packages/prophet/stan_model/prophet_model.bin', 'random', 'seed=69892', 'data', 'file=/tmp/tmp9z4f2c6p/7_j21v25.json', 'init=/tmp/tmp9z4f2c6p/oh8q9ywl.json', 'output', 'file=/tmp/tmp9z4f2c6p/prophet_modelwn4xu5u2/prophet_model-20231125071947.csv', 'method=optimize', 'algorithm=lbfgs', 'iter=10000']\n",
      "07:19:47 - cmdstanpy - INFO - Chain [1] start processing\n",
      "INFO:cmdstanpy:Chain [1] start processing\n",
      "07:19:47 - cmdstanpy - INFO - Chain [1] done processing\n",
      "INFO:cmdstanpy:Chain [1] done processing\n"
     ]
    },
    {
     "name": "stdout",
     "output_type": "stream",
     "text": [
      "{'changepoint_prior_scale': 0.1, 'holidays_prior_scale': 0.1, 'n_changepoints': 1, 'seasonality_mode': 'multiplicative', 'yearly_seasonality': 'auto'}\n"
     ]
    },
    {
     "name": "stderr",
     "output_type": "stream",
     "text": [
      "INFO:prophet:Disabling weekly seasonality. Run prophet with weekly_seasonality=True to override this.\n",
      "INFO:prophet:Disabling daily seasonality. Run prophet with daily_seasonality=True to override this.\n",
      "DEBUG:cmdstanpy:input tempfile: /tmp/tmp9z4f2c6p/j9gcbv2t.json\n",
      "DEBUG:cmdstanpy:input tempfile: /tmp/tmp9z4f2c6p/3lu40u9v.json\n",
      "DEBUG:cmdstanpy:idx 0\n",
      "DEBUG:cmdstanpy:running CmdStan, num_threads: None\n",
      "DEBUG:cmdstanpy:CmdStan args: ['/usr/local/lib/python3.10/dist-packages/prophet/stan_model/prophet_model.bin', 'random', 'seed=40831', 'data', 'file=/tmp/tmp9z4f2c6p/j9gcbv2t.json', 'init=/tmp/tmp9z4f2c6p/3lu40u9v.json', 'output', 'file=/tmp/tmp9z4f2c6p/prophet_modelxuvg0nz_/prophet_model-20231125071948.csv', 'method=optimize', 'algorithm=lbfgs', 'iter=10000']\n",
      "07:19:48 - cmdstanpy - INFO - Chain [1] start processing\n",
      "INFO:cmdstanpy:Chain [1] start processing\n",
      "07:19:48 - cmdstanpy - INFO - Chain [1] done processing\n",
      "INFO:cmdstanpy:Chain [1] done processing\n"
     ]
    },
    {
     "name": "stdout",
     "output_type": "stream",
     "text": [
      "MPE: -5.7174307163500085e-05\n",
      "{'changepoint_prior_scale': 0.1, 'holidays_prior_scale': 0.1, 'n_changepoints': 1, 'seasonality_mode': 'multiplicative', 'yearly_seasonality': True}\n"
     ]
    },
    {
     "name": "stderr",
     "output_type": "stream",
     "text": [
      "INFO:prophet:Disabling weekly seasonality. Run prophet with weekly_seasonality=True to override this.\n",
      "INFO:prophet:Disabling daily seasonality. Run prophet with daily_seasonality=True to override this.\n",
      "DEBUG:cmdstanpy:input tempfile: /tmp/tmp9z4f2c6p/2gylj1ti.json\n",
      "DEBUG:cmdstanpy:input tempfile: /tmp/tmp9z4f2c6p/5cpj2bhy.json\n",
      "DEBUG:cmdstanpy:idx 0\n",
      "DEBUG:cmdstanpy:running CmdStan, num_threads: None\n",
      "DEBUG:cmdstanpy:CmdStan args: ['/usr/local/lib/python3.10/dist-packages/prophet/stan_model/prophet_model.bin', 'random', 'seed=87921', 'data', 'file=/tmp/tmp9z4f2c6p/2gylj1ti.json', 'init=/tmp/tmp9z4f2c6p/5cpj2bhy.json', 'output', 'file=/tmp/tmp9z4f2c6p/prophet_modelcz4_zww2/prophet_model-20231125071949.csv', 'method=optimize', 'algorithm=lbfgs', 'iter=10000']\n",
      "07:19:49 - cmdstanpy - INFO - Chain [1] start processing\n",
      "INFO:cmdstanpy:Chain [1] start processing\n",
      "07:19:49 - cmdstanpy - INFO - Chain [1] done processing\n",
      "INFO:cmdstanpy:Chain [1] done processing\n"
     ]
    },
    {
     "name": "stdout",
     "output_type": "stream",
     "text": [
      "MPE: -5.7174307163500085e-05\n",
      "{'changepoint_prior_scale': 0.1, 'holidays_prior_scale': 0.1, 'n_changepoints': 1, 'seasonality_mode': 'multiplicative', 'yearly_seasonality': False}\n"
     ]
    },
    {
     "name": "stderr",
     "output_type": "stream",
     "text": [
      "INFO:prophet:Disabling weekly seasonality. Run prophet with weekly_seasonality=True to override this.\n",
      "INFO:prophet:Disabling daily seasonality. Run prophet with daily_seasonality=True to override this.\n",
      "DEBUG:cmdstanpy:input tempfile: /tmp/tmp9z4f2c6p/oai86f3t.json\n",
      "DEBUG:cmdstanpy:input tempfile: /tmp/tmp9z4f2c6p/fjs82zx4.json\n",
      "DEBUG:cmdstanpy:idx 0\n",
      "DEBUG:cmdstanpy:running CmdStan, num_threads: None\n",
      "DEBUG:cmdstanpy:CmdStan args: ['/usr/local/lib/python3.10/dist-packages/prophet/stan_model/prophet_model.bin', 'random', 'seed=96407', 'data', 'file=/tmp/tmp9z4f2c6p/oai86f3t.json', 'init=/tmp/tmp9z4f2c6p/fjs82zx4.json', 'output', 'file=/tmp/tmp9z4f2c6p/prophet_modelboqsdtbr/prophet_model-20231125071949.csv', 'method=optimize', 'algorithm=lbfgs', 'iter=10000']\n",
      "07:19:49 - cmdstanpy - INFO - Chain [1] start processing\n",
      "INFO:cmdstanpy:Chain [1] start processing\n"
     ]
    },
    {
     "name": "stdout",
     "output_type": "stream",
     "text": [
      "MPE: -5.545864711806262e-05\n",
      "{'changepoint_prior_scale': 0.1, 'holidays_prior_scale': 0.1, 'n_changepoints': 1, 'seasonality_mode': 'additive', 'yearly_seasonality': 'auto'}\n"
     ]
    },
    {
     "name": "stderr",
     "output_type": "stream",
     "text": [
      "07:19:49 - cmdstanpy - INFO - Chain [1] done processing\n",
      "INFO:cmdstanpy:Chain [1] done processing\n",
      "INFO:prophet:Disabling weekly seasonality. Run prophet with weekly_seasonality=True to override this.\n",
      "INFO:prophet:Disabling daily seasonality. Run prophet with daily_seasonality=True to override this.\n",
      "DEBUG:cmdstanpy:input tempfile: /tmp/tmp9z4f2c6p/r9_yxee8.json\n",
      "DEBUG:cmdstanpy:input tempfile: /tmp/tmp9z4f2c6p/wr3pd0bo.json\n",
      "DEBUG:cmdstanpy:idx 0\n",
      "DEBUG:cmdstanpy:running CmdStan, num_threads: None\n",
      "DEBUG:cmdstanpy:CmdStan args: ['/usr/local/lib/python3.10/dist-packages/prophet/stan_model/prophet_model.bin', 'random', 'seed=1241', 'data', 'file=/tmp/tmp9z4f2c6p/r9_yxee8.json', 'init=/tmp/tmp9z4f2c6p/wr3pd0bo.json', 'output', 'file=/tmp/tmp9z4f2c6p/prophet_model7urc4vnh/prophet_model-20231125071950.csv', 'method=optimize', 'algorithm=lbfgs', 'iter=10000']\n",
      "07:19:50 - cmdstanpy - INFO - Chain [1] start processing\n",
      "INFO:cmdstanpy:Chain [1] start processing\n"
     ]
    },
    {
     "name": "stdout",
     "output_type": "stream",
     "text": [
      "MPE: -5.581752065574069e-05\n",
      "{'changepoint_prior_scale': 0.1, 'holidays_prior_scale': 0.1, 'n_changepoints': 1, 'seasonality_mode': 'additive', 'yearly_seasonality': True}\n"
     ]
    },
    {
     "name": "stderr",
     "output_type": "stream",
     "text": [
      "07:19:50 - cmdstanpy - INFO - Chain [1] done processing\n",
      "INFO:cmdstanpy:Chain [1] done processing\n",
      "INFO:prophet:Disabling weekly seasonality. Run prophet with weekly_seasonality=True to override this.\n",
      "INFO:prophet:Disabling daily seasonality. Run prophet with daily_seasonality=True to override this.\n",
      "DEBUG:cmdstanpy:input tempfile: /tmp/tmp9z4f2c6p/y0bznucp.json\n",
      "DEBUG:cmdstanpy:input tempfile: /tmp/tmp9z4f2c6p/q38sxg5_.json\n",
      "DEBUG:cmdstanpy:idx 0\n",
      "DEBUG:cmdstanpy:running CmdStan, num_threads: None\n",
      "DEBUG:cmdstanpy:CmdStan args: ['/usr/local/lib/python3.10/dist-packages/prophet/stan_model/prophet_model.bin', 'random', 'seed=72032', 'data', 'file=/tmp/tmp9z4f2c6p/y0bznucp.json', 'init=/tmp/tmp9z4f2c6p/q38sxg5_.json', 'output', 'file=/tmp/tmp9z4f2c6p/prophet_modelhjni0tog/prophet_model-20231125071950.csv', 'method=optimize', 'algorithm=lbfgs', 'iter=10000']\n",
      "07:19:50 - cmdstanpy - INFO - Chain [1] start processing\n",
      "INFO:cmdstanpy:Chain [1] start processing\n",
      "07:19:50 - cmdstanpy - INFO - Chain [1] done processing\n",
      "INFO:cmdstanpy:Chain [1] done processing\n"
     ]
    },
    {
     "name": "stdout",
     "output_type": "stream",
     "text": [
      "MPE: -5.581752065574069e-05\n",
      "{'changepoint_prior_scale': 0.1, 'holidays_prior_scale': 0.1, 'n_changepoints': 1, 'seasonality_mode': 'additive', 'yearly_seasonality': False}\n"
     ]
    },
    {
     "name": "stderr",
     "output_type": "stream",
     "text": [
      "INFO:prophet:Disabling weekly seasonality. Run prophet with weekly_seasonality=True to override this.\n",
      "INFO:prophet:Disabling daily seasonality. Run prophet with daily_seasonality=True to override this.\n",
      "DEBUG:cmdstanpy:input tempfile: /tmp/tmp9z4f2c6p/8hn46hde.json\n",
      "DEBUG:cmdstanpy:input tempfile: /tmp/tmp9z4f2c6p/s5fy9_9i.json\n",
      "DEBUG:cmdstanpy:idx 0\n",
      "DEBUG:cmdstanpy:running CmdStan, num_threads: None\n",
      "DEBUG:cmdstanpy:CmdStan args: ['/usr/local/lib/python3.10/dist-packages/prophet/stan_model/prophet_model.bin', 'random', 'seed=19627', 'data', 'file=/tmp/tmp9z4f2c6p/8hn46hde.json', 'init=/tmp/tmp9z4f2c6p/s5fy9_9i.json', 'output', 'file=/tmp/tmp9z4f2c6p/prophet_modelz88cy51b/prophet_model-20231125071951.csv', 'method=optimize', 'algorithm=lbfgs', 'iter=10000']\n",
      "07:19:51 - cmdstanpy - INFO - Chain [1] start processing\n",
      "INFO:cmdstanpy:Chain [1] start processing\n"
     ]
    },
    {
     "name": "stdout",
     "output_type": "stream",
     "text": [
      "MPE: -5.545864711806262e-05\n",
      "{'changepoint_prior_scale': 0.1, 'holidays_prior_scale': 0.1, 'n_changepoints': 5, 'seasonality_mode': 'multiplicative', 'yearly_seasonality': 'auto'}\n"
     ]
    },
    {
     "name": "stderr",
     "output_type": "stream",
     "text": [
      "07:19:51 - cmdstanpy - INFO - Chain [1] done processing\n",
      "INFO:cmdstanpy:Chain [1] done processing\n",
      "INFO:prophet:Disabling weekly seasonality. Run prophet with weekly_seasonality=True to override this.\n",
      "INFO:prophet:Disabling daily seasonality. Run prophet with daily_seasonality=True to override this.\n",
      "DEBUG:cmdstanpy:input tempfile: /tmp/tmp9z4f2c6p/w_pcpid4.json\n",
      "DEBUG:cmdstanpy:input tempfile: /tmp/tmp9z4f2c6p/mwao3_da.json\n",
      "DEBUG:cmdstanpy:idx 0\n",
      "DEBUG:cmdstanpy:running CmdStan, num_threads: None\n",
      "DEBUG:cmdstanpy:CmdStan args: ['/usr/local/lib/python3.10/dist-packages/prophet/stan_model/prophet_model.bin', 'random', 'seed=53704', 'data', 'file=/tmp/tmp9z4f2c6p/w_pcpid4.json', 'init=/tmp/tmp9z4f2c6p/mwao3_da.json', 'output', 'file=/tmp/tmp9z4f2c6p/prophet_models2it67vg/prophet_model-20231125071952.csv', 'method=optimize', 'algorithm=lbfgs', 'iter=10000']\n",
      "07:19:52 - cmdstanpy - INFO - Chain [1] start processing\n",
      "INFO:cmdstanpy:Chain [1] start processing\n"
     ]
    },
    {
     "name": "stdout",
     "output_type": "stream",
     "text": [
      "MPE: 4.877786187687451e-06\n",
      "{'changepoint_prior_scale': 0.1, 'holidays_prior_scale': 0.1, 'n_changepoints': 5, 'seasonality_mode': 'multiplicative', 'yearly_seasonality': True}\n"
     ]
    },
    {
     "name": "stderr",
     "output_type": "stream",
     "text": [
      "07:19:52 - cmdstanpy - INFO - Chain [1] done processing\n",
      "INFO:cmdstanpy:Chain [1] done processing\n",
      "INFO:prophet:Disabling weekly seasonality. Run prophet with weekly_seasonality=True to override this.\n",
      "INFO:prophet:Disabling daily seasonality. Run prophet with daily_seasonality=True to override this.\n",
      "DEBUG:cmdstanpy:input tempfile: /tmp/tmp9z4f2c6p/kb73o46y.json\n",
      "DEBUG:cmdstanpy:input tempfile: /tmp/tmp9z4f2c6p/nwqqecv4.json\n",
      "DEBUG:cmdstanpy:idx 0\n",
      "DEBUG:cmdstanpy:running CmdStan, num_threads: None\n",
      "DEBUG:cmdstanpy:CmdStan args: ['/usr/local/lib/python3.10/dist-packages/prophet/stan_model/prophet_model.bin', 'random', 'seed=39621', 'data', 'file=/tmp/tmp9z4f2c6p/kb73o46y.json', 'init=/tmp/tmp9z4f2c6p/nwqqecv4.json', 'output', 'file=/tmp/tmp9z4f2c6p/prophet_model74spwmh8/prophet_model-20231125071952.csv', 'method=optimize', 'algorithm=lbfgs', 'iter=10000']\n",
      "07:19:52 - cmdstanpy - INFO - Chain [1] start processing\n",
      "INFO:cmdstanpy:Chain [1] start processing\n",
      "07:19:52 - cmdstanpy - INFO - Chain [1] done processing\n",
      "INFO:cmdstanpy:Chain [1] done processing\n"
     ]
    },
    {
     "name": "stdout",
     "output_type": "stream",
     "text": [
      "MPE: 4.877786187687451e-06\n",
      "{'changepoint_prior_scale': 0.1, 'holidays_prior_scale': 0.1, 'n_changepoints': 5, 'seasonality_mode': 'multiplicative', 'yearly_seasonality': False}\n"
     ]
    },
    {
     "name": "stderr",
     "output_type": "stream",
     "text": [
      "INFO:prophet:Disabling weekly seasonality. Run prophet with weekly_seasonality=True to override this.\n",
      "INFO:prophet:Disabling daily seasonality. Run prophet with daily_seasonality=True to override this.\n",
      "DEBUG:cmdstanpy:input tempfile: /tmp/tmp9z4f2c6p/ud5gvps8.json\n",
      "DEBUG:cmdstanpy:input tempfile: /tmp/tmp9z4f2c6p/myz5m05z.json\n",
      "DEBUG:cmdstanpy:idx 0\n",
      "DEBUG:cmdstanpy:running CmdStan, num_threads: None\n",
      "DEBUG:cmdstanpy:CmdStan args: ['/usr/local/lib/python3.10/dist-packages/prophet/stan_model/prophet_model.bin', 'random', 'seed=32887', 'data', 'file=/tmp/tmp9z4f2c6p/ud5gvps8.json', 'init=/tmp/tmp9z4f2c6p/myz5m05z.json', 'output', 'file=/tmp/tmp9z4f2c6p/prophet_modelks1w9tfj/prophet_model-20231125071953.csv', 'method=optimize', 'algorithm=lbfgs', 'iter=10000']\n",
      "07:19:53 - cmdstanpy - INFO - Chain [1] start processing\n",
      "INFO:cmdstanpy:Chain [1] start processing\n"
     ]
    },
    {
     "name": "stdout",
     "output_type": "stream",
     "text": [
      "MPE: 5.434221317446052e-06\n",
      "{'changepoint_prior_scale': 0.1, 'holidays_prior_scale': 0.1, 'n_changepoints': 5, 'seasonality_mode': 'additive', 'yearly_seasonality': 'auto'}\n"
     ]
    },
    {
     "name": "stderr",
     "output_type": "stream",
     "text": [
      "07:19:53 - cmdstanpy - INFO - Chain [1] done processing\n",
      "INFO:cmdstanpy:Chain [1] done processing\n",
      "INFO:prophet:Disabling weekly seasonality. Run prophet with weekly_seasonality=True to override this.\n",
      "INFO:prophet:Disabling daily seasonality. Run prophet with daily_seasonality=True to override this.\n",
      "DEBUG:cmdstanpy:input tempfile: /tmp/tmp9z4f2c6p/uc5z48_1.json\n",
      "DEBUG:cmdstanpy:input tempfile: /tmp/tmp9z4f2c6p/528oluzl.json\n",
      "DEBUG:cmdstanpy:idx 0\n",
      "DEBUG:cmdstanpy:running CmdStan, num_threads: None\n",
      "DEBUG:cmdstanpy:CmdStan args: ['/usr/local/lib/python3.10/dist-packages/prophet/stan_model/prophet_model.bin', 'random', 'seed=97818', 'data', 'file=/tmp/tmp9z4f2c6p/uc5z48_1.json', 'init=/tmp/tmp9z4f2c6p/528oluzl.json', 'output', 'file=/tmp/tmp9z4f2c6p/prophet_model52heqi01/prophet_model-20231125071953.csv', 'method=optimize', 'algorithm=lbfgs', 'iter=10000']\n",
      "07:19:53 - cmdstanpy - INFO - Chain [1] start processing\n",
      "INFO:cmdstanpy:Chain [1] start processing\n"
     ]
    },
    {
     "name": "stdout",
     "output_type": "stream",
     "text": [
      "MPE: 6.0287118284004896e-06\n",
      "{'changepoint_prior_scale': 0.1, 'holidays_prior_scale': 0.1, 'n_changepoints': 5, 'seasonality_mode': 'additive', 'yearly_seasonality': True}\n"
     ]
    },
    {
     "name": "stderr",
     "output_type": "stream",
     "text": [
      "07:19:54 - cmdstanpy - INFO - Chain [1] done processing\n",
      "INFO:cmdstanpy:Chain [1] done processing\n",
      "INFO:prophet:Disabling weekly seasonality. Run prophet with weekly_seasonality=True to override this.\n",
      "INFO:prophet:Disabling daily seasonality. Run prophet with daily_seasonality=True to override this.\n",
      "DEBUG:cmdstanpy:input tempfile: /tmp/tmp9z4f2c6p/qchi1ke7.json\n",
      "DEBUG:cmdstanpy:input tempfile: /tmp/tmp9z4f2c6p/ld48ov08.json\n",
      "DEBUG:cmdstanpy:idx 0\n",
      "DEBUG:cmdstanpy:running CmdStan, num_threads: None\n",
      "DEBUG:cmdstanpy:CmdStan args: ['/usr/local/lib/python3.10/dist-packages/prophet/stan_model/prophet_model.bin', 'random', 'seed=49192', 'data', 'file=/tmp/tmp9z4f2c6p/qchi1ke7.json', 'init=/tmp/tmp9z4f2c6p/ld48ov08.json', 'output', 'file=/tmp/tmp9z4f2c6p/prophet_modelus67xrw1/prophet_model-20231125071954.csv', 'method=optimize', 'algorithm=lbfgs', 'iter=10000']\n",
      "07:19:54 - cmdstanpy - INFO - Chain [1] start processing\n",
      "INFO:cmdstanpy:Chain [1] start processing\n",
      "07:19:54 - cmdstanpy - INFO - Chain [1] done processing\n",
      "INFO:cmdstanpy:Chain [1] done processing\n"
     ]
    },
    {
     "name": "stdout",
     "output_type": "stream",
     "text": [
      "MPE: 6.0287118284004896e-06\n",
      "{'changepoint_prior_scale': 0.1, 'holidays_prior_scale': 0.1, 'n_changepoints': 5, 'seasonality_mode': 'additive', 'yearly_seasonality': False}\n"
     ]
    },
    {
     "name": "stderr",
     "output_type": "stream",
     "text": [
      "INFO:prophet:Disabling weekly seasonality. Run prophet with weekly_seasonality=True to override this.\n",
      "INFO:prophet:Disabling daily seasonality. Run prophet with daily_seasonality=True to override this.\n",
      "DEBUG:cmdstanpy:input tempfile: /tmp/tmp9z4f2c6p/2gkiojwb.json\n",
      "DEBUG:cmdstanpy:input tempfile: /tmp/tmp9z4f2c6p/h7e7nud0.json\n",
      "DEBUG:cmdstanpy:idx 0\n",
      "DEBUG:cmdstanpy:running CmdStan, num_threads: None\n",
      "DEBUG:cmdstanpy:CmdStan args: ['/usr/local/lib/python3.10/dist-packages/prophet/stan_model/prophet_model.bin', 'random', 'seed=7378', 'data', 'file=/tmp/tmp9z4f2c6p/2gkiojwb.json', 'init=/tmp/tmp9z4f2c6p/h7e7nud0.json', 'output', 'file=/tmp/tmp9z4f2c6p/prophet_model67curbd2/prophet_model-20231125071955.csv', 'method=optimize', 'algorithm=lbfgs', 'iter=10000']\n",
      "07:19:55 - cmdstanpy - INFO - Chain [1] start processing\n",
      "INFO:cmdstanpy:Chain [1] start processing\n"
     ]
    },
    {
     "name": "stdout",
     "output_type": "stream",
     "text": [
      "MPE: 5.434221317446052e-06\n",
      "{'changepoint_prior_scale': 0.1, 'holidays_prior_scale': 0.2, 'n_changepoints': 1, 'seasonality_mode': 'multiplicative', 'yearly_seasonality': 'auto'}\n"
     ]
    },
    {
     "name": "stderr",
     "output_type": "stream",
     "text": [
      "07:19:55 - cmdstanpy - INFO - Chain [1] done processing\n",
      "INFO:cmdstanpy:Chain [1] done processing\n",
      "INFO:prophet:Disabling weekly seasonality. Run prophet with weekly_seasonality=True to override this.\n",
      "INFO:prophet:Disabling daily seasonality. Run prophet with daily_seasonality=True to override this.\n",
      "DEBUG:cmdstanpy:input tempfile: /tmp/tmp9z4f2c6p/ngg5xrox.json\n",
      "DEBUG:cmdstanpy:input tempfile: /tmp/tmp9z4f2c6p/sxsc81ed.json\n",
      "DEBUG:cmdstanpy:idx 0\n",
      "DEBUG:cmdstanpy:running CmdStan, num_threads: None\n",
      "DEBUG:cmdstanpy:CmdStan args: ['/usr/local/lib/python3.10/dist-packages/prophet/stan_model/prophet_model.bin', 'random', 'seed=16750', 'data', 'file=/tmp/tmp9z4f2c6p/ngg5xrox.json', 'init=/tmp/tmp9z4f2c6p/sxsc81ed.json', 'output', 'file=/tmp/tmp9z4f2c6p/prophet_model8qf18nj2/prophet_model-20231125071955.csv', 'method=optimize', 'algorithm=lbfgs', 'iter=10000']\n",
      "07:19:55 - cmdstanpy - INFO - Chain [1] start processing\n",
      "INFO:cmdstanpy:Chain [1] start processing\n"
     ]
    },
    {
     "name": "stdout",
     "output_type": "stream",
     "text": [
      "MPE: -5.7174307163500085e-05\n",
      "{'changepoint_prior_scale': 0.1, 'holidays_prior_scale': 0.2, 'n_changepoints': 1, 'seasonality_mode': 'multiplicative', 'yearly_seasonality': True}\n"
     ]
    },
    {
     "name": "stderr",
     "output_type": "stream",
     "text": [
      "07:19:56 - cmdstanpy - INFO - Chain [1] done processing\n",
      "INFO:cmdstanpy:Chain [1] done processing\n",
      "INFO:prophet:Disabling weekly seasonality. Run prophet with weekly_seasonality=True to override this.\n",
      "INFO:prophet:Disabling daily seasonality. Run prophet with daily_seasonality=True to override this.\n",
      "DEBUG:cmdstanpy:input tempfile: /tmp/tmp9z4f2c6p/ddn6rwu5.json\n",
      "DEBUG:cmdstanpy:input tempfile: /tmp/tmp9z4f2c6p/xu7cu14x.json\n",
      "DEBUG:cmdstanpy:idx 0\n",
      "DEBUG:cmdstanpy:running CmdStan, num_threads: None\n",
      "DEBUG:cmdstanpy:CmdStan args: ['/usr/local/lib/python3.10/dist-packages/prophet/stan_model/prophet_model.bin', 'random', 'seed=23275', 'data', 'file=/tmp/tmp9z4f2c6p/ddn6rwu5.json', 'init=/tmp/tmp9z4f2c6p/xu7cu14x.json', 'output', 'file=/tmp/tmp9z4f2c6p/prophet_modelgf8j2wiz/prophet_model-20231125071956.csv', 'method=optimize', 'algorithm=lbfgs', 'iter=10000']\n",
      "07:19:56 - cmdstanpy - INFO - Chain [1] start processing\n",
      "INFO:cmdstanpy:Chain [1] start processing\n",
      "07:19:56 - cmdstanpy - INFO - Chain [1] done processing\n",
      "INFO:cmdstanpy:Chain [1] done processing\n"
     ]
    },
    {
     "name": "stdout",
     "output_type": "stream",
     "text": [
      "MPE: -5.7174307163500085e-05\n",
      "{'changepoint_prior_scale': 0.1, 'holidays_prior_scale': 0.2, 'n_changepoints': 1, 'seasonality_mode': 'multiplicative', 'yearly_seasonality': False}\n"
     ]
    },
    {
     "name": "stderr",
     "output_type": "stream",
     "text": [
      "INFO:prophet:Disabling weekly seasonality. Run prophet with weekly_seasonality=True to override this.\n",
      "INFO:prophet:Disabling daily seasonality. Run prophet with daily_seasonality=True to override this.\n",
      "DEBUG:cmdstanpy:input tempfile: /tmp/tmp9z4f2c6p/7q63p6ej.json\n",
      "DEBUG:cmdstanpy:input tempfile: /tmp/tmp9z4f2c6p/od3sfpno.json\n",
      "DEBUG:cmdstanpy:idx 0\n",
      "DEBUG:cmdstanpy:running CmdStan, num_threads: None\n",
      "DEBUG:cmdstanpy:CmdStan args: ['/usr/local/lib/python3.10/dist-packages/prophet/stan_model/prophet_model.bin', 'random', 'seed=73200', 'data', 'file=/tmp/tmp9z4f2c6p/7q63p6ej.json', 'init=/tmp/tmp9z4f2c6p/od3sfpno.json', 'output', 'file=/tmp/tmp9z4f2c6p/prophet_modelgf2e2_46/prophet_model-20231125071957.csv', 'method=optimize', 'algorithm=lbfgs', 'iter=10000']\n",
      "07:19:57 - cmdstanpy - INFO - Chain [1] start processing\n",
      "INFO:cmdstanpy:Chain [1] start processing\n"
     ]
    },
    {
     "name": "stdout",
     "output_type": "stream",
     "text": [
      "MPE: -5.545864711806262e-05\n",
      "{'changepoint_prior_scale': 0.1, 'holidays_prior_scale': 0.2, 'n_changepoints': 1, 'seasonality_mode': 'additive', 'yearly_seasonality': 'auto'}\n"
     ]
    },
    {
     "name": "stderr",
     "output_type": "stream",
     "text": [
      "07:19:57 - cmdstanpy - INFO - Chain [1] done processing\n",
      "INFO:cmdstanpy:Chain [1] done processing\n",
      "INFO:prophet:Disabling weekly seasonality. Run prophet with weekly_seasonality=True to override this.\n",
      "INFO:prophet:Disabling daily seasonality. Run prophet with daily_seasonality=True to override this.\n",
      "DEBUG:cmdstanpy:input tempfile: /tmp/tmp9z4f2c6p/7byazni8.json\n",
      "DEBUG:cmdstanpy:input tempfile: /tmp/tmp9z4f2c6p/uacje6a3.json\n",
      "DEBUG:cmdstanpy:idx 0\n",
      "DEBUG:cmdstanpy:running CmdStan, num_threads: None\n",
      "DEBUG:cmdstanpy:CmdStan args: ['/usr/local/lib/python3.10/dist-packages/prophet/stan_model/prophet_model.bin', 'random', 'seed=45689', 'data', 'file=/tmp/tmp9z4f2c6p/7byazni8.json', 'init=/tmp/tmp9z4f2c6p/uacje6a3.json', 'output', 'file=/tmp/tmp9z4f2c6p/prophet_modelqs97x8hr/prophet_model-20231125071957.csv', 'method=optimize', 'algorithm=lbfgs', 'iter=10000']\n",
      "07:19:57 - cmdstanpy - INFO - Chain [1] start processing\n",
      "INFO:cmdstanpy:Chain [1] start processing\n"
     ]
    },
    {
     "name": "stdout",
     "output_type": "stream",
     "text": [
      "MPE: -5.581752065574069e-05\n",
      "{'changepoint_prior_scale': 0.1, 'holidays_prior_scale': 0.2, 'n_changepoints': 1, 'seasonality_mode': 'additive', 'yearly_seasonality': True}\n"
     ]
    },
    {
     "name": "stderr",
     "output_type": "stream",
     "text": [
      "07:19:57 - cmdstanpy - INFO - Chain [1] done processing\n",
      "INFO:cmdstanpy:Chain [1] done processing\n",
      "INFO:prophet:Disabling weekly seasonality. Run prophet with weekly_seasonality=True to override this.\n",
      "INFO:prophet:Disabling daily seasonality. Run prophet with daily_seasonality=True to override this.\n",
      "DEBUG:cmdstanpy:input tempfile: /tmp/tmp9z4f2c6p/onw1jhd5.json\n",
      "DEBUG:cmdstanpy:input tempfile: /tmp/tmp9z4f2c6p/xkk0yfk0.json\n",
      "DEBUG:cmdstanpy:idx 0\n",
      "DEBUG:cmdstanpy:running CmdStan, num_threads: None\n",
      "DEBUG:cmdstanpy:CmdStan args: ['/usr/local/lib/python3.10/dist-packages/prophet/stan_model/prophet_model.bin', 'random', 'seed=75084', 'data', 'file=/tmp/tmp9z4f2c6p/onw1jhd5.json', 'init=/tmp/tmp9z4f2c6p/xkk0yfk0.json', 'output', 'file=/tmp/tmp9z4f2c6p/prophet_model42zlpbqe/prophet_model-20231125071958.csv', 'method=optimize', 'algorithm=lbfgs', 'iter=10000']\n",
      "07:19:58 - cmdstanpy - INFO - Chain [1] start processing\n",
      "INFO:cmdstanpy:Chain [1] start processing\n",
      "07:19:58 - cmdstanpy - INFO - Chain [1] done processing\n",
      "INFO:cmdstanpy:Chain [1] done processing\n"
     ]
    },
    {
     "name": "stdout",
     "output_type": "stream",
     "text": [
      "MPE: -5.581752065574069e-05\n",
      "{'changepoint_prior_scale': 0.1, 'holidays_prior_scale': 0.2, 'n_changepoints': 1, 'seasonality_mode': 'additive', 'yearly_seasonality': False}\n"
     ]
    },
    {
     "name": "stderr",
     "output_type": "stream",
     "text": [
      "INFO:prophet:Disabling weekly seasonality. Run prophet with weekly_seasonality=True to override this.\n",
      "INFO:prophet:Disabling daily seasonality. Run prophet with daily_seasonality=True to override this.\n",
      "DEBUG:cmdstanpy:input tempfile: /tmp/tmp9z4f2c6p/kaw7k6_1.json\n",
      "DEBUG:cmdstanpy:input tempfile: /tmp/tmp9z4f2c6p/cd27lfty.json\n",
      "DEBUG:cmdstanpy:idx 0\n",
      "DEBUG:cmdstanpy:running CmdStan, num_threads: None\n",
      "DEBUG:cmdstanpy:CmdStan args: ['/usr/local/lib/python3.10/dist-packages/prophet/stan_model/prophet_model.bin', 'random', 'seed=68335', 'data', 'file=/tmp/tmp9z4f2c6p/kaw7k6_1.json', 'init=/tmp/tmp9z4f2c6p/cd27lfty.json', 'output', 'file=/tmp/tmp9z4f2c6p/prophet_model8yjyskvo/prophet_model-20231125071958.csv', 'method=optimize', 'algorithm=lbfgs', 'iter=10000']\n",
      "07:19:58 - cmdstanpy - INFO - Chain [1] start processing\n",
      "INFO:cmdstanpy:Chain [1] start processing\n",
      "07:19:58 - cmdstanpy - INFO - Chain [1] done processing\n",
      "INFO:cmdstanpy:Chain [1] done processing\n"
     ]
    },
    {
     "name": "stdout",
     "output_type": "stream",
     "text": [
      "MPE: -5.545864711806262e-05\n",
      "{'changepoint_prior_scale': 0.1, 'holidays_prior_scale': 0.2, 'n_changepoints': 5, 'seasonality_mode': 'multiplicative', 'yearly_seasonality': 'auto'}\n"
     ]
    },
    {
     "name": "stderr",
     "output_type": "stream",
     "text": [
      "INFO:prophet:Disabling weekly seasonality. Run prophet with weekly_seasonality=True to override this.\n",
      "INFO:prophet:Disabling daily seasonality. Run prophet with daily_seasonality=True to override this.\n",
      "DEBUG:cmdstanpy:input tempfile: /tmp/tmp9z4f2c6p/3f1f7kj0.json\n",
      "DEBUG:cmdstanpy:input tempfile: /tmp/tmp9z4f2c6p/rvmysfdo.json\n",
      "DEBUG:cmdstanpy:idx 0\n",
      "DEBUG:cmdstanpy:running CmdStan, num_threads: None\n",
      "DEBUG:cmdstanpy:CmdStan args: ['/usr/local/lib/python3.10/dist-packages/prophet/stan_model/prophet_model.bin', 'random', 'seed=76394', 'data', 'file=/tmp/tmp9z4f2c6p/3f1f7kj0.json', 'init=/tmp/tmp9z4f2c6p/rvmysfdo.json', 'output', 'file=/tmp/tmp9z4f2c6p/prophet_modelm9hnc6gr/prophet_model-20231125071959.csv', 'method=optimize', 'algorithm=lbfgs', 'iter=10000']\n",
      "07:19:59 - cmdstanpy - INFO - Chain [1] start processing\n",
      "INFO:cmdstanpy:Chain [1] start processing\n",
      "07:19:59 - cmdstanpy - INFO - Chain [1] done processing\n",
      "INFO:cmdstanpy:Chain [1] done processing\n"
     ]
    },
    {
     "name": "stdout",
     "output_type": "stream",
     "text": [
      "MPE: 4.877786187687451e-06\n",
      "{'changepoint_prior_scale': 0.1, 'holidays_prior_scale': 0.2, 'n_changepoints': 5, 'seasonality_mode': 'multiplicative', 'yearly_seasonality': True}\n"
     ]
    },
    {
     "name": "stderr",
     "output_type": "stream",
     "text": [
      "INFO:prophet:Disabling weekly seasonality. Run prophet with weekly_seasonality=True to override this.\n",
      "INFO:prophet:Disabling daily seasonality. Run prophet with daily_seasonality=True to override this.\n",
      "DEBUG:cmdstanpy:input tempfile: /tmp/tmp9z4f2c6p/z7ink925.json\n",
      "DEBUG:cmdstanpy:input tempfile: /tmp/tmp9z4f2c6p/jj9djim2.json\n",
      "DEBUG:cmdstanpy:idx 0\n",
      "DEBUG:cmdstanpy:running CmdStan, num_threads: None\n",
      "DEBUG:cmdstanpy:CmdStan args: ['/usr/local/lib/python3.10/dist-packages/prophet/stan_model/prophet_model.bin', 'random', 'seed=14899', 'data', 'file=/tmp/tmp9z4f2c6p/z7ink925.json', 'init=/tmp/tmp9z4f2c6p/jj9djim2.json', 'output', 'file=/tmp/tmp9z4f2c6p/prophet_model60l6fyku/prophet_model-20231125071959.csv', 'method=optimize', 'algorithm=lbfgs', 'iter=10000']\n",
      "07:19:59 - cmdstanpy - INFO - Chain [1] start processing\n",
      "INFO:cmdstanpy:Chain [1] start processing\n",
      "07:19:59 - cmdstanpy - INFO - Chain [1] done processing\n",
      "INFO:cmdstanpy:Chain [1] done processing\n"
     ]
    },
    {
     "name": "stdout",
     "output_type": "stream",
     "text": [
      "MPE: 4.877786187687451e-06\n",
      "{'changepoint_prior_scale': 0.1, 'holidays_prior_scale': 0.2, 'n_changepoints': 5, 'seasonality_mode': 'multiplicative', 'yearly_seasonality': False}\n"
     ]
    },
    {
     "name": "stderr",
     "output_type": "stream",
     "text": [
      "INFO:prophet:Disabling weekly seasonality. Run prophet with weekly_seasonality=True to override this.\n",
      "INFO:prophet:Disabling daily seasonality. Run prophet with daily_seasonality=True to override this.\n",
      "DEBUG:cmdstanpy:input tempfile: /tmp/tmp9z4f2c6p/brwhv815.json\n",
      "DEBUG:cmdstanpy:input tempfile: /tmp/tmp9z4f2c6p/wtt5uqcf.json\n",
      "DEBUG:cmdstanpy:idx 0\n",
      "DEBUG:cmdstanpy:running CmdStan, num_threads: None\n",
      "DEBUG:cmdstanpy:CmdStan args: ['/usr/local/lib/python3.10/dist-packages/prophet/stan_model/prophet_model.bin', 'random', 'seed=23485', 'data', 'file=/tmp/tmp9z4f2c6p/brwhv815.json', 'init=/tmp/tmp9z4f2c6p/wtt5uqcf.json', 'output', 'file=/tmp/tmp9z4f2c6p/prophet_modelexeg0787/prophet_model-20231125072000.csv', 'method=optimize', 'algorithm=lbfgs', 'iter=10000']\n",
      "07:20:00 - cmdstanpy - INFO - Chain [1] start processing\n",
      "INFO:cmdstanpy:Chain [1] start processing\n",
      "07:20:00 - cmdstanpy - INFO - Chain [1] done processing\n",
      "INFO:cmdstanpy:Chain [1] done processing\n"
     ]
    },
    {
     "name": "stdout",
     "output_type": "stream",
     "text": [
      "MPE: 5.434221317446052e-06\n",
      "{'changepoint_prior_scale': 0.1, 'holidays_prior_scale': 0.2, 'n_changepoints': 5, 'seasonality_mode': 'additive', 'yearly_seasonality': 'auto'}\n"
     ]
    },
    {
     "name": "stderr",
     "output_type": "stream",
     "text": [
      "INFO:prophet:Disabling weekly seasonality. Run prophet with weekly_seasonality=True to override this.\n",
      "INFO:prophet:Disabling daily seasonality. Run prophet with daily_seasonality=True to override this.\n",
      "DEBUG:cmdstanpy:input tempfile: /tmp/tmp9z4f2c6p/736on9iz.json\n",
      "DEBUG:cmdstanpy:input tempfile: /tmp/tmp9z4f2c6p/kcg6ollc.json\n",
      "DEBUG:cmdstanpy:idx 0\n",
      "DEBUG:cmdstanpy:running CmdStan, num_threads: None\n",
      "DEBUG:cmdstanpy:CmdStan args: ['/usr/local/lib/python3.10/dist-packages/prophet/stan_model/prophet_model.bin', 'random', 'seed=42932', 'data', 'file=/tmp/tmp9z4f2c6p/736on9iz.json', 'init=/tmp/tmp9z4f2c6p/kcg6ollc.json', 'output', 'file=/tmp/tmp9z4f2c6p/prophet_modelgm7zb8fg/prophet_model-20231125072000.csv', 'method=optimize', 'algorithm=lbfgs', 'iter=10000']\n",
      "07:20:00 - cmdstanpy - INFO - Chain [1] start processing\n",
      "INFO:cmdstanpy:Chain [1] start processing\n",
      "07:20:00 - cmdstanpy - INFO - Chain [1] done processing\n",
      "INFO:cmdstanpy:Chain [1] done processing\n"
     ]
    },
    {
     "name": "stdout",
     "output_type": "stream",
     "text": [
      "MPE: 6.0287118284004896e-06\n",
      "{'changepoint_prior_scale': 0.1, 'holidays_prior_scale': 0.2, 'n_changepoints': 5, 'seasonality_mode': 'additive', 'yearly_seasonality': True}\n"
     ]
    },
    {
     "name": "stderr",
     "output_type": "stream",
     "text": [
      "INFO:prophet:Disabling weekly seasonality. Run prophet with weekly_seasonality=True to override this.\n",
      "INFO:prophet:Disabling daily seasonality. Run prophet with daily_seasonality=True to override this.\n",
      "DEBUG:cmdstanpy:input tempfile: /tmp/tmp9z4f2c6p/gcdguz0y.json\n",
      "DEBUG:cmdstanpy:input tempfile: /tmp/tmp9z4f2c6p/bbskgh8p.json\n",
      "DEBUG:cmdstanpy:idx 0\n",
      "DEBUG:cmdstanpy:running CmdStan, num_threads: None\n",
      "DEBUG:cmdstanpy:CmdStan args: ['/usr/local/lib/python3.10/dist-packages/prophet/stan_model/prophet_model.bin', 'random', 'seed=71956', 'data', 'file=/tmp/tmp9z4f2c6p/gcdguz0y.json', 'init=/tmp/tmp9z4f2c6p/bbskgh8p.json', 'output', 'file=/tmp/tmp9z4f2c6p/prophet_modeljd1eeicu/prophet_model-20231125072001.csv', 'method=optimize', 'algorithm=lbfgs', 'iter=10000']\n",
      "07:20:01 - cmdstanpy - INFO - Chain [1] start processing\n",
      "INFO:cmdstanpy:Chain [1] start processing\n",
      "07:20:01 - cmdstanpy - INFO - Chain [1] done processing\n",
      "INFO:cmdstanpy:Chain [1] done processing\n"
     ]
    },
    {
     "name": "stdout",
     "output_type": "stream",
     "text": [
      "MPE: 6.0287118284004896e-06\n",
      "{'changepoint_prior_scale': 0.1, 'holidays_prior_scale': 0.2, 'n_changepoints': 5, 'seasonality_mode': 'additive', 'yearly_seasonality': False}\n"
     ]
    },
    {
     "name": "stderr",
     "output_type": "stream",
     "text": [
      "INFO:prophet:Disabling weekly seasonality. Run prophet with weekly_seasonality=True to override this.\n",
      "INFO:prophet:Disabling daily seasonality. Run prophet with daily_seasonality=True to override this.\n",
      "DEBUG:cmdstanpy:input tempfile: /tmp/tmp9z4f2c6p/v9c2hn5b.json\n",
      "DEBUG:cmdstanpy:input tempfile: /tmp/tmp9z4f2c6p/vylmnhh4.json\n",
      "DEBUG:cmdstanpy:idx 0\n",
      "DEBUG:cmdstanpy:running CmdStan, num_threads: None\n",
      "DEBUG:cmdstanpy:CmdStan args: ['/usr/local/lib/python3.10/dist-packages/prophet/stan_model/prophet_model.bin', 'random', 'seed=91096', 'data', 'file=/tmp/tmp9z4f2c6p/v9c2hn5b.json', 'init=/tmp/tmp9z4f2c6p/vylmnhh4.json', 'output', 'file=/tmp/tmp9z4f2c6p/prophet_modelhdjxfhtk/prophet_model-20231125072001.csv', 'method=optimize', 'algorithm=lbfgs', 'iter=10000']\n",
      "07:20:01 - cmdstanpy - INFO - Chain [1] start processing\n",
      "INFO:cmdstanpy:Chain [1] start processing\n",
      "07:20:01 - cmdstanpy - INFO - Chain [1] done processing\n",
      "INFO:cmdstanpy:Chain [1] done processing\n"
     ]
    },
    {
     "name": "stdout",
     "output_type": "stream",
     "text": [
      "MPE: 5.434221317446052e-06\n",
      "{'changepoint_prior_scale': 0.2, 'holidays_prior_scale': 0.1, 'n_changepoints': 1, 'seasonality_mode': 'multiplicative', 'yearly_seasonality': 'auto'}\n"
     ]
    },
    {
     "name": "stderr",
     "output_type": "stream",
     "text": [
      "INFO:prophet:Disabling weekly seasonality. Run prophet with weekly_seasonality=True to override this.\n",
      "INFO:prophet:Disabling daily seasonality. Run prophet with daily_seasonality=True to override this.\n",
      "DEBUG:cmdstanpy:input tempfile: /tmp/tmp9z4f2c6p/b5dslzq4.json\n",
      "DEBUG:cmdstanpy:input tempfile: /tmp/tmp9z4f2c6p/uodll693.json\n",
      "DEBUG:cmdstanpy:idx 0\n",
      "DEBUG:cmdstanpy:running CmdStan, num_threads: None\n",
      "DEBUG:cmdstanpy:CmdStan args: ['/usr/local/lib/python3.10/dist-packages/prophet/stan_model/prophet_model.bin', 'random', 'seed=52138', 'data', 'file=/tmp/tmp9z4f2c6p/b5dslzq4.json', 'init=/tmp/tmp9z4f2c6p/uodll693.json', 'output', 'file=/tmp/tmp9z4f2c6p/prophet_modeld_cszss1/prophet_model-20231125072001.csv', 'method=optimize', 'algorithm=lbfgs', 'iter=10000']\n",
      "07:20:01 - cmdstanpy - INFO - Chain [1] start processing\n",
      "INFO:cmdstanpy:Chain [1] start processing\n",
      "07:20:01 - cmdstanpy - INFO - Chain [1] done processing\n",
      "INFO:cmdstanpy:Chain [1] done processing\n"
     ]
    },
    {
     "name": "stdout",
     "output_type": "stream",
     "text": [
      "MPE: -5.6072099092356744e-05\n",
      "{'changepoint_prior_scale': 0.2, 'holidays_prior_scale': 0.1, 'n_changepoints': 1, 'seasonality_mode': 'multiplicative', 'yearly_seasonality': True}\n"
     ]
    },
    {
     "name": "stderr",
     "output_type": "stream",
     "text": [
      "INFO:prophet:Disabling weekly seasonality. Run prophet with weekly_seasonality=True to override this.\n",
      "INFO:prophet:Disabling daily seasonality. Run prophet with daily_seasonality=True to override this.\n",
      "DEBUG:cmdstanpy:input tempfile: /tmp/tmp9z4f2c6p/kzylwxxa.json\n",
      "DEBUG:cmdstanpy:input tempfile: /tmp/tmp9z4f2c6p/irq9pzos.json\n",
      "DEBUG:cmdstanpy:idx 0\n",
      "DEBUG:cmdstanpy:running CmdStan, num_threads: None\n",
      "DEBUG:cmdstanpy:CmdStan args: ['/usr/local/lib/python3.10/dist-packages/prophet/stan_model/prophet_model.bin', 'random', 'seed=6687', 'data', 'file=/tmp/tmp9z4f2c6p/kzylwxxa.json', 'init=/tmp/tmp9z4f2c6p/irq9pzos.json', 'output', 'file=/tmp/tmp9z4f2c6p/prophet_modeltlxfhf9p/prophet_model-20231125072002.csv', 'method=optimize', 'algorithm=lbfgs', 'iter=10000']\n",
      "07:20:02 - cmdstanpy - INFO - Chain [1] start processing\n",
      "INFO:cmdstanpy:Chain [1] start processing\n",
      "07:20:02 - cmdstanpy - INFO - Chain [1] done processing\n",
      "INFO:cmdstanpy:Chain [1] done processing\n"
     ]
    },
    {
     "name": "stdout",
     "output_type": "stream",
     "text": [
      "MPE: -5.6072099092356744e-05\n",
      "{'changepoint_prior_scale': 0.2, 'holidays_prior_scale': 0.1, 'n_changepoints': 1, 'seasonality_mode': 'multiplicative', 'yearly_seasonality': False}\n"
     ]
    },
    {
     "name": "stderr",
     "output_type": "stream",
     "text": [
      "INFO:prophet:Disabling weekly seasonality. Run prophet with weekly_seasonality=True to override this.\n",
      "INFO:prophet:Disabling daily seasonality. Run prophet with daily_seasonality=True to override this.\n",
      "DEBUG:cmdstanpy:input tempfile: /tmp/tmp9z4f2c6p/gphiiftm.json\n",
      "DEBUG:cmdstanpy:input tempfile: /tmp/tmp9z4f2c6p/glhujway.json\n",
      "DEBUG:cmdstanpy:idx 0\n",
      "DEBUG:cmdstanpy:running CmdStan, num_threads: None\n",
      "DEBUG:cmdstanpy:CmdStan args: ['/usr/local/lib/python3.10/dist-packages/prophet/stan_model/prophet_model.bin', 'random', 'seed=55655', 'data', 'file=/tmp/tmp9z4f2c6p/gphiiftm.json', 'init=/tmp/tmp9z4f2c6p/glhujway.json', 'output', 'file=/tmp/tmp9z4f2c6p/prophet_modelqzvjus0u/prophet_model-20231125072002.csv', 'method=optimize', 'algorithm=lbfgs', 'iter=10000']\n",
      "07:20:02 - cmdstanpy - INFO - Chain [1] start processing\n",
      "INFO:cmdstanpy:Chain [1] start processing\n",
      "07:20:02 - cmdstanpy - INFO - Chain [1] done processing\n",
      "INFO:cmdstanpy:Chain [1] done processing\n"
     ]
    },
    {
     "name": "stdout",
     "output_type": "stream",
     "text": [
      "MPE: -5.571104134668121e-05\n",
      "{'changepoint_prior_scale': 0.2, 'holidays_prior_scale': 0.1, 'n_changepoints': 1, 'seasonality_mode': 'additive', 'yearly_seasonality': 'auto'}\n"
     ]
    },
    {
     "name": "stderr",
     "output_type": "stream",
     "text": [
      "INFO:prophet:Disabling weekly seasonality. Run prophet with weekly_seasonality=True to override this.\n",
      "INFO:prophet:Disabling daily seasonality. Run prophet with daily_seasonality=True to override this.\n",
      "DEBUG:cmdstanpy:input tempfile: /tmp/tmp9z4f2c6p/ggsjvtff.json\n",
      "DEBUG:cmdstanpy:input tempfile: /tmp/tmp9z4f2c6p/g31m9dbz.json\n",
      "DEBUG:cmdstanpy:idx 0\n",
      "DEBUG:cmdstanpy:running CmdStan, num_threads: None\n",
      "DEBUG:cmdstanpy:CmdStan args: ['/usr/local/lib/python3.10/dist-packages/prophet/stan_model/prophet_model.bin', 'random', 'seed=564', 'data', 'file=/tmp/tmp9z4f2c6p/ggsjvtff.json', 'init=/tmp/tmp9z4f2c6p/g31m9dbz.json', 'output', 'file=/tmp/tmp9z4f2c6p/prophet_model1kdko6s6/prophet_model-20231125072003.csv', 'method=optimize', 'algorithm=lbfgs', 'iter=10000']\n",
      "07:20:03 - cmdstanpy - INFO - Chain [1] start processing\n",
      "INFO:cmdstanpy:Chain [1] start processing\n",
      "07:20:03 - cmdstanpy - INFO - Chain [1] done processing\n",
      "INFO:cmdstanpy:Chain [1] done processing\n"
     ]
    },
    {
     "name": "stdout",
     "output_type": "stream",
     "text": [
      "MPE: -5.525417566676213e-05\n",
      "{'changepoint_prior_scale': 0.2, 'holidays_prior_scale': 0.1, 'n_changepoints': 1, 'seasonality_mode': 'additive', 'yearly_seasonality': True}\n"
     ]
    },
    {
     "name": "stderr",
     "output_type": "stream",
     "text": [
      "INFO:prophet:Disabling weekly seasonality. Run prophet with weekly_seasonality=True to override this.\n",
      "INFO:prophet:Disabling daily seasonality. Run prophet with daily_seasonality=True to override this.\n",
      "DEBUG:cmdstanpy:input tempfile: /tmp/tmp9z4f2c6p/0f3ubtjs.json\n",
      "DEBUG:cmdstanpy:input tempfile: /tmp/tmp9z4f2c6p/61m8gm_0.json\n",
      "DEBUG:cmdstanpy:idx 0\n",
      "DEBUG:cmdstanpy:running CmdStan, num_threads: None\n",
      "DEBUG:cmdstanpy:CmdStan args: ['/usr/local/lib/python3.10/dist-packages/prophet/stan_model/prophet_model.bin', 'random', 'seed=97848', 'data', 'file=/tmp/tmp9z4f2c6p/0f3ubtjs.json', 'init=/tmp/tmp9z4f2c6p/61m8gm_0.json', 'output', 'file=/tmp/tmp9z4f2c6p/prophet_modelwsnkp_4z/prophet_model-20231125072003.csv', 'method=optimize', 'algorithm=lbfgs', 'iter=10000']\n",
      "07:20:03 - cmdstanpy - INFO - Chain [1] start processing\n",
      "INFO:cmdstanpy:Chain [1] start processing\n",
      "07:20:03 - cmdstanpy - INFO - Chain [1] done processing\n",
      "INFO:cmdstanpy:Chain [1] done processing\n"
     ]
    },
    {
     "name": "stdout",
     "output_type": "stream",
     "text": [
      "MPE: -5.525417566676213e-05\n",
      "{'changepoint_prior_scale': 0.2, 'holidays_prior_scale': 0.1, 'n_changepoints': 1, 'seasonality_mode': 'additive', 'yearly_seasonality': False}\n"
     ]
    },
    {
     "name": "stderr",
     "output_type": "stream",
     "text": [
      "INFO:prophet:Disabling weekly seasonality. Run prophet with weekly_seasonality=True to override this.\n",
      "INFO:prophet:Disabling daily seasonality. Run prophet with daily_seasonality=True to override this.\n",
      "DEBUG:cmdstanpy:input tempfile: /tmp/tmp9z4f2c6p/ah9aluk0.json\n",
      "DEBUG:cmdstanpy:input tempfile: /tmp/tmp9z4f2c6p/umuci4pc.json\n",
      "DEBUG:cmdstanpy:idx 0\n",
      "DEBUG:cmdstanpy:running CmdStan, num_threads: None\n",
      "DEBUG:cmdstanpy:CmdStan args: ['/usr/local/lib/python3.10/dist-packages/prophet/stan_model/prophet_model.bin', 'random', 'seed=95597', 'data', 'file=/tmp/tmp9z4f2c6p/ah9aluk0.json', 'init=/tmp/tmp9z4f2c6p/umuci4pc.json', 'output', 'file=/tmp/tmp9z4f2c6p/prophet_modellmdryer_/prophet_model-20231125072003.csv', 'method=optimize', 'algorithm=lbfgs', 'iter=10000']\n",
      "07:20:04 - cmdstanpy - INFO - Chain [1] start processing\n",
      "INFO:cmdstanpy:Chain [1] start processing\n",
      "07:20:04 - cmdstanpy - INFO - Chain [1] done processing\n",
      "INFO:cmdstanpy:Chain [1] done processing\n"
     ]
    },
    {
     "name": "stdout",
     "output_type": "stream",
     "text": [
      "MPE: -5.571104134668121e-05\n",
      "{'changepoint_prior_scale': 0.2, 'holidays_prior_scale': 0.1, 'n_changepoints': 5, 'seasonality_mode': 'multiplicative', 'yearly_seasonality': 'auto'}\n"
     ]
    },
    {
     "name": "stderr",
     "output_type": "stream",
     "text": [
      "INFO:prophet:Disabling weekly seasonality. Run prophet with weekly_seasonality=True to override this.\n",
      "INFO:prophet:Disabling daily seasonality. Run prophet with daily_seasonality=True to override this.\n",
      "DEBUG:cmdstanpy:input tempfile: /tmp/tmp9z4f2c6p/xnzucp6b.json\n",
      "DEBUG:cmdstanpy:input tempfile: /tmp/tmp9z4f2c6p/6wf_8wsh.json\n",
      "DEBUG:cmdstanpy:idx 0\n",
      "DEBUG:cmdstanpy:running CmdStan, num_threads: None\n",
      "DEBUG:cmdstanpy:CmdStan args: ['/usr/local/lib/python3.10/dist-packages/prophet/stan_model/prophet_model.bin', 'random', 'seed=76004', 'data', 'file=/tmp/tmp9z4f2c6p/xnzucp6b.json', 'init=/tmp/tmp9z4f2c6p/6wf_8wsh.json', 'output', 'file=/tmp/tmp9z4f2c6p/prophet_model67s5tu7n/prophet_model-20231125072004.csv', 'method=optimize', 'algorithm=lbfgs', 'iter=10000']\n",
      "07:20:04 - cmdstanpy - INFO - Chain [1] start processing\n",
      "INFO:cmdstanpy:Chain [1] start processing\n",
      "07:20:04 - cmdstanpy - INFO - Chain [1] done processing\n",
      "INFO:cmdstanpy:Chain [1] done processing\n"
     ]
    },
    {
     "name": "stdout",
     "output_type": "stream",
     "text": [
      "MPE: 5.481082852918557e-06\n",
      "{'changepoint_prior_scale': 0.2, 'holidays_prior_scale': 0.1, 'n_changepoints': 5, 'seasonality_mode': 'multiplicative', 'yearly_seasonality': True}\n"
     ]
    },
    {
     "name": "stderr",
     "output_type": "stream",
     "text": [
      "INFO:prophet:Disabling weekly seasonality. Run prophet with weekly_seasonality=True to override this.\n",
      "INFO:prophet:Disabling daily seasonality. Run prophet with daily_seasonality=True to override this.\n",
      "DEBUG:cmdstanpy:input tempfile: /tmp/tmp9z4f2c6p/f7z3h2jx.json\n",
      "DEBUG:cmdstanpy:input tempfile: /tmp/tmp9z4f2c6p/wqoi3lgt.json\n",
      "DEBUG:cmdstanpy:idx 0\n",
      "DEBUG:cmdstanpy:running CmdStan, num_threads: None\n",
      "DEBUG:cmdstanpy:CmdStan args: ['/usr/local/lib/python3.10/dist-packages/prophet/stan_model/prophet_model.bin', 'random', 'seed=42271', 'data', 'file=/tmp/tmp9z4f2c6p/f7z3h2jx.json', 'init=/tmp/tmp9z4f2c6p/wqoi3lgt.json', 'output', 'file=/tmp/tmp9z4f2c6p/prophet_modelaufvwt1d/prophet_model-20231125072004.csv', 'method=optimize', 'algorithm=lbfgs', 'iter=10000']\n",
      "07:20:04 - cmdstanpy - INFO - Chain [1] start processing\n",
      "INFO:cmdstanpy:Chain [1] start processing\n",
      "07:20:05 - cmdstanpy - INFO - Chain [1] done processing\n",
      "INFO:cmdstanpy:Chain [1] done processing\n"
     ]
    },
    {
     "name": "stdout",
     "output_type": "stream",
     "text": [
      "MPE: 5.481082852918557e-06\n",
      "{'changepoint_prior_scale': 0.2, 'holidays_prior_scale': 0.1, 'n_changepoints': 5, 'seasonality_mode': 'multiplicative', 'yearly_seasonality': False}\n"
     ]
    },
    {
     "name": "stderr",
     "output_type": "stream",
     "text": [
      "INFO:prophet:Disabling weekly seasonality. Run prophet with weekly_seasonality=True to override this.\n",
      "INFO:prophet:Disabling daily seasonality. Run prophet with daily_seasonality=True to override this.\n",
      "DEBUG:cmdstanpy:input tempfile: /tmp/tmp9z4f2c6p/ywaddsdr.json\n",
      "DEBUG:cmdstanpy:input tempfile: /tmp/tmp9z4f2c6p/k0bkto35.json\n",
      "DEBUG:cmdstanpy:idx 0\n",
      "DEBUG:cmdstanpy:running CmdStan, num_threads: None\n",
      "DEBUG:cmdstanpy:CmdStan args: ['/usr/local/lib/python3.10/dist-packages/prophet/stan_model/prophet_model.bin', 'random', 'seed=30336', 'data', 'file=/tmp/tmp9z4f2c6p/ywaddsdr.json', 'init=/tmp/tmp9z4f2c6p/k0bkto35.json', 'output', 'file=/tmp/tmp9z4f2c6p/prophet_modelh4t5gs3s/prophet_model-20231125072005.csv', 'method=optimize', 'algorithm=lbfgs', 'iter=10000']\n",
      "07:20:05 - cmdstanpy - INFO - Chain [1] start processing\n",
      "INFO:cmdstanpy:Chain [1] start processing\n"
     ]
    },
    {
     "name": "stdout",
     "output_type": "stream",
     "text": [
      "MPE: 5.612231300286949e-06\n",
      "{'changepoint_prior_scale': 0.2, 'holidays_prior_scale': 0.1, 'n_changepoints': 5, 'seasonality_mode': 'additive', 'yearly_seasonality': 'auto'}\n"
     ]
    },
    {
     "name": "stderr",
     "output_type": "stream",
     "text": [
      "07:20:05 - cmdstanpy - INFO - Chain [1] done processing\n",
      "INFO:cmdstanpy:Chain [1] done processing\n",
      "INFO:prophet:Disabling weekly seasonality. Run prophet with weekly_seasonality=True to override this.\n",
      "INFO:prophet:Disabling daily seasonality. Run prophet with daily_seasonality=True to override this.\n",
      "DEBUG:cmdstanpy:input tempfile: /tmp/tmp9z4f2c6p/z15hc3f7.json\n",
      "DEBUG:cmdstanpy:input tempfile: /tmp/tmp9z4f2c6p/q504mn5k.json\n",
      "DEBUG:cmdstanpy:idx 0\n",
      "DEBUG:cmdstanpy:running CmdStan, num_threads: None\n",
      "DEBUG:cmdstanpy:CmdStan args: ['/usr/local/lib/python3.10/dist-packages/prophet/stan_model/prophet_model.bin', 'random', 'seed=13187', 'data', 'file=/tmp/tmp9z4f2c6p/z15hc3f7.json', 'init=/tmp/tmp9z4f2c6p/q504mn5k.json', 'output', 'file=/tmp/tmp9z4f2c6p/prophet_model5ahnj3cy/prophet_model-20231125072005.csv', 'method=optimize', 'algorithm=lbfgs', 'iter=10000']\n",
      "07:20:05 - cmdstanpy - INFO - Chain [1] start processing\n",
      "INFO:cmdstanpy:Chain [1] start processing\n",
      "07:20:05 - cmdstanpy - INFO - Chain [1] done processing\n",
      "INFO:cmdstanpy:Chain [1] done processing\n"
     ]
    },
    {
     "name": "stdout",
     "output_type": "stream",
     "text": [
      "MPE: 4.845691422396693e-06\n",
      "{'changepoint_prior_scale': 0.2, 'holidays_prior_scale': 0.1, 'n_changepoints': 5, 'seasonality_mode': 'additive', 'yearly_seasonality': True}\n"
     ]
    },
    {
     "name": "stderr",
     "output_type": "stream",
     "text": [
      "INFO:prophet:Disabling weekly seasonality. Run prophet with weekly_seasonality=True to override this.\n",
      "INFO:prophet:Disabling daily seasonality. Run prophet with daily_seasonality=True to override this.\n",
      "DEBUG:cmdstanpy:input tempfile: /tmp/tmp9z4f2c6p/mho9azfc.json\n",
      "DEBUG:cmdstanpy:input tempfile: /tmp/tmp9z4f2c6p/dxru7r2_.json\n",
      "DEBUG:cmdstanpy:idx 0\n",
      "DEBUG:cmdstanpy:running CmdStan, num_threads: None\n",
      "DEBUG:cmdstanpy:CmdStan args: ['/usr/local/lib/python3.10/dist-packages/prophet/stan_model/prophet_model.bin', 'random', 'seed=95504', 'data', 'file=/tmp/tmp9z4f2c6p/mho9azfc.json', 'init=/tmp/tmp9z4f2c6p/dxru7r2_.json', 'output', 'file=/tmp/tmp9z4f2c6p/prophet_modelkqw163jb/prophet_model-20231125072006.csv', 'method=optimize', 'algorithm=lbfgs', 'iter=10000']\n",
      "07:20:06 - cmdstanpy - INFO - Chain [1] start processing\n",
      "INFO:cmdstanpy:Chain [1] start processing\n",
      "07:20:06 - cmdstanpy - INFO - Chain [1] done processing\n",
      "INFO:cmdstanpy:Chain [1] done processing\n"
     ]
    },
    {
     "name": "stdout",
     "output_type": "stream",
     "text": [
      "MPE: 4.845691422396693e-06\n",
      "{'changepoint_prior_scale': 0.2, 'holidays_prior_scale': 0.1, 'n_changepoints': 5, 'seasonality_mode': 'additive', 'yearly_seasonality': False}\n"
     ]
    },
    {
     "name": "stderr",
     "output_type": "stream",
     "text": [
      "INFO:prophet:Disabling weekly seasonality. Run prophet with weekly_seasonality=True to override this.\n",
      "INFO:prophet:Disabling daily seasonality. Run prophet with daily_seasonality=True to override this.\n",
      "DEBUG:cmdstanpy:input tempfile: /tmp/tmp9z4f2c6p/wwtlk61a.json\n",
      "DEBUG:cmdstanpy:input tempfile: /tmp/tmp9z4f2c6p/_s1w2bwg.json\n",
      "DEBUG:cmdstanpy:idx 0\n",
      "DEBUG:cmdstanpy:running CmdStan, num_threads: None\n",
      "DEBUG:cmdstanpy:CmdStan args: ['/usr/local/lib/python3.10/dist-packages/prophet/stan_model/prophet_model.bin', 'random', 'seed=58990', 'data', 'file=/tmp/tmp9z4f2c6p/wwtlk61a.json', 'init=/tmp/tmp9z4f2c6p/_s1w2bwg.json', 'output', 'file=/tmp/tmp9z4f2c6p/prophet_modelwk5ei67s/prophet_model-20231125072006.csv', 'method=optimize', 'algorithm=lbfgs', 'iter=10000']\n",
      "07:20:06 - cmdstanpy - INFO - Chain [1] start processing\n",
      "INFO:cmdstanpy:Chain [1] start processing\n",
      "07:20:06 - cmdstanpy - INFO - Chain [1] done processing\n",
      "INFO:cmdstanpy:Chain [1] done processing\n"
     ]
    },
    {
     "name": "stdout",
     "output_type": "stream",
     "text": [
      "MPE: 5.612231300286949e-06\n",
      "{'changepoint_prior_scale': 0.2, 'holidays_prior_scale': 0.2, 'n_changepoints': 1, 'seasonality_mode': 'multiplicative', 'yearly_seasonality': 'auto'}\n"
     ]
    },
    {
     "name": "stderr",
     "output_type": "stream",
     "text": [
      "INFO:prophet:Disabling weekly seasonality. Run prophet with weekly_seasonality=True to override this.\n",
      "INFO:prophet:Disabling daily seasonality. Run prophet with daily_seasonality=True to override this.\n",
      "DEBUG:cmdstanpy:input tempfile: /tmp/tmp9z4f2c6p/x4e__hov.json\n",
      "DEBUG:cmdstanpy:input tempfile: /tmp/tmp9z4f2c6p/r8us12zk.json\n",
      "DEBUG:cmdstanpy:idx 0\n",
      "DEBUG:cmdstanpy:running CmdStan, num_threads: None\n",
      "DEBUG:cmdstanpy:CmdStan args: ['/usr/local/lib/python3.10/dist-packages/prophet/stan_model/prophet_model.bin', 'random', 'seed=62722', 'data', 'file=/tmp/tmp9z4f2c6p/x4e__hov.json', 'init=/tmp/tmp9z4f2c6p/r8us12zk.json', 'output', 'file=/tmp/tmp9z4f2c6p/prophet_modellq55nxn5/prophet_model-20231125072007.csv', 'method=optimize', 'algorithm=lbfgs', 'iter=10000']\n",
      "07:20:07 - cmdstanpy - INFO - Chain [1] start processing\n",
      "INFO:cmdstanpy:Chain [1] start processing\n",
      "07:20:07 - cmdstanpy - INFO - Chain [1] done processing\n",
      "INFO:cmdstanpy:Chain [1] done processing\n"
     ]
    },
    {
     "name": "stdout",
     "output_type": "stream",
     "text": [
      "MPE: -5.6072099092356744e-05\n",
      "{'changepoint_prior_scale': 0.2, 'holidays_prior_scale': 0.2, 'n_changepoints': 1, 'seasonality_mode': 'multiplicative', 'yearly_seasonality': True}\n"
     ]
    },
    {
     "name": "stderr",
     "output_type": "stream",
     "text": [
      "INFO:prophet:Disabling weekly seasonality. Run prophet with weekly_seasonality=True to override this.\n",
      "INFO:prophet:Disabling daily seasonality. Run prophet with daily_seasonality=True to override this.\n",
      "DEBUG:cmdstanpy:input tempfile: /tmp/tmp9z4f2c6p/qmg_snkn.json\n",
      "DEBUG:cmdstanpy:input tempfile: /tmp/tmp9z4f2c6p/ffszao6f.json\n",
      "DEBUG:cmdstanpy:idx 0\n",
      "DEBUG:cmdstanpy:running CmdStan, num_threads: None\n",
      "DEBUG:cmdstanpy:CmdStan args: ['/usr/local/lib/python3.10/dist-packages/prophet/stan_model/prophet_model.bin', 'random', 'seed=55992', 'data', 'file=/tmp/tmp9z4f2c6p/qmg_snkn.json', 'init=/tmp/tmp9z4f2c6p/ffszao6f.json', 'output', 'file=/tmp/tmp9z4f2c6p/prophet_model7swn0yr7/prophet_model-20231125072007.csv', 'method=optimize', 'algorithm=lbfgs', 'iter=10000']\n",
      "07:20:07 - cmdstanpy - INFO - Chain [1] start processing\n",
      "INFO:cmdstanpy:Chain [1] start processing\n",
      "07:20:07 - cmdstanpy - INFO - Chain [1] done processing\n",
      "INFO:cmdstanpy:Chain [1] done processing\n"
     ]
    },
    {
     "name": "stdout",
     "output_type": "stream",
     "text": [
      "MPE: -5.6072099092356744e-05\n",
      "{'changepoint_prior_scale': 0.2, 'holidays_prior_scale': 0.2, 'n_changepoints': 1, 'seasonality_mode': 'multiplicative', 'yearly_seasonality': False}\n"
     ]
    },
    {
     "name": "stderr",
     "output_type": "stream",
     "text": [
      "INFO:prophet:Disabling weekly seasonality. Run prophet with weekly_seasonality=True to override this.\n",
      "INFO:prophet:Disabling daily seasonality. Run prophet with daily_seasonality=True to override this.\n",
      "DEBUG:cmdstanpy:input tempfile: /tmp/tmp9z4f2c6p/59n18t99.json\n",
      "DEBUG:cmdstanpy:input tempfile: /tmp/tmp9z4f2c6p/8di_6rib.json\n",
      "DEBUG:cmdstanpy:idx 0\n",
      "DEBUG:cmdstanpy:running CmdStan, num_threads: None\n",
      "DEBUG:cmdstanpy:CmdStan args: ['/usr/local/lib/python3.10/dist-packages/prophet/stan_model/prophet_model.bin', 'random', 'seed=54618', 'data', 'file=/tmp/tmp9z4f2c6p/59n18t99.json', 'init=/tmp/tmp9z4f2c6p/8di_6rib.json', 'output', 'file=/tmp/tmp9z4f2c6p/prophet_modelv4qzxrsm/prophet_model-20231125072007.csv', 'method=optimize', 'algorithm=lbfgs', 'iter=10000']\n",
      "07:20:07 - cmdstanpy - INFO - Chain [1] start processing\n",
      "INFO:cmdstanpy:Chain [1] start processing\n",
      "07:20:08 - cmdstanpy - INFO - Chain [1] done processing\n",
      "INFO:cmdstanpy:Chain [1] done processing\n"
     ]
    },
    {
     "name": "stdout",
     "output_type": "stream",
     "text": [
      "MPE: -5.571104134668121e-05\n",
      "{'changepoint_prior_scale': 0.2, 'holidays_prior_scale': 0.2, 'n_changepoints': 1, 'seasonality_mode': 'additive', 'yearly_seasonality': 'auto'}\n"
     ]
    },
    {
     "name": "stderr",
     "output_type": "stream",
     "text": [
      "INFO:prophet:Disabling weekly seasonality. Run prophet with weekly_seasonality=True to override this.\n",
      "INFO:prophet:Disabling daily seasonality. Run prophet with daily_seasonality=True to override this.\n",
      "DEBUG:cmdstanpy:input tempfile: /tmp/tmp9z4f2c6p/wwsyi3zw.json\n",
      "DEBUG:cmdstanpy:input tempfile: /tmp/tmp9z4f2c6p/7nkmvuzj.json\n",
      "DEBUG:cmdstanpy:idx 0\n",
      "DEBUG:cmdstanpy:running CmdStan, num_threads: None\n",
      "DEBUG:cmdstanpy:CmdStan args: ['/usr/local/lib/python3.10/dist-packages/prophet/stan_model/prophet_model.bin', 'random', 'seed=80412', 'data', 'file=/tmp/tmp9z4f2c6p/wwsyi3zw.json', 'init=/tmp/tmp9z4f2c6p/7nkmvuzj.json', 'output', 'file=/tmp/tmp9z4f2c6p/prophet_modeljt920lkm/prophet_model-20231125072008.csv', 'method=optimize', 'algorithm=lbfgs', 'iter=10000']\n",
      "07:20:08 - cmdstanpy - INFO - Chain [1] start processing\n",
      "INFO:cmdstanpy:Chain [1] start processing\n"
     ]
    },
    {
     "name": "stdout",
     "output_type": "stream",
     "text": [
      "MPE: -5.525417566676213e-05\n",
      "{'changepoint_prior_scale': 0.2, 'holidays_prior_scale': 0.2, 'n_changepoints': 1, 'seasonality_mode': 'additive', 'yearly_seasonality': True}\n"
     ]
    },
    {
     "name": "stderr",
     "output_type": "stream",
     "text": [
      "07:20:08 - cmdstanpy - INFO - Chain [1] done processing\n",
      "INFO:cmdstanpy:Chain [1] done processing\n",
      "INFO:prophet:Disabling weekly seasonality. Run prophet with weekly_seasonality=True to override this.\n",
      "INFO:prophet:Disabling daily seasonality. Run prophet with daily_seasonality=True to override this.\n",
      "DEBUG:cmdstanpy:input tempfile: /tmp/tmp9z4f2c6p/4frjzqum.json\n",
      "DEBUG:cmdstanpy:input tempfile: /tmp/tmp9z4f2c6p/n_8cib56.json\n",
      "DEBUG:cmdstanpy:idx 0\n",
      "DEBUG:cmdstanpy:running CmdStan, num_threads: None\n",
      "DEBUG:cmdstanpy:CmdStan args: ['/usr/local/lib/python3.10/dist-packages/prophet/stan_model/prophet_model.bin', 'random', 'seed=57924', 'data', 'file=/tmp/tmp9z4f2c6p/4frjzqum.json', 'init=/tmp/tmp9z4f2c6p/n_8cib56.json', 'output', 'file=/tmp/tmp9z4f2c6p/prophet_modele6d2e0e8/prophet_model-20231125072009.csv', 'method=optimize', 'algorithm=lbfgs', 'iter=10000']\n",
      "07:20:09 - cmdstanpy - INFO - Chain [1] start processing\n",
      "INFO:cmdstanpy:Chain [1] start processing\n",
      "07:20:09 - cmdstanpy - INFO - Chain [1] done processing\n",
      "INFO:cmdstanpy:Chain [1] done processing\n"
     ]
    },
    {
     "name": "stdout",
     "output_type": "stream",
     "text": [
      "MPE: -5.525417566676213e-05\n",
      "{'changepoint_prior_scale': 0.2, 'holidays_prior_scale': 0.2, 'n_changepoints': 1, 'seasonality_mode': 'additive', 'yearly_seasonality': False}\n"
     ]
    },
    {
     "name": "stderr",
     "output_type": "stream",
     "text": [
      "INFO:prophet:Disabling weekly seasonality. Run prophet with weekly_seasonality=True to override this.\n",
      "INFO:prophet:Disabling daily seasonality. Run prophet with daily_seasonality=True to override this.\n",
      "DEBUG:cmdstanpy:input tempfile: /tmp/tmp9z4f2c6p/fo133zpp.json\n",
      "DEBUG:cmdstanpy:input tempfile: /tmp/tmp9z4f2c6p/33vlb6xm.json\n",
      "DEBUG:cmdstanpy:idx 0\n",
      "DEBUG:cmdstanpy:running CmdStan, num_threads: None\n",
      "DEBUG:cmdstanpy:CmdStan args: ['/usr/local/lib/python3.10/dist-packages/prophet/stan_model/prophet_model.bin', 'random', 'seed=8350', 'data', 'file=/tmp/tmp9z4f2c6p/fo133zpp.json', 'init=/tmp/tmp9z4f2c6p/33vlb6xm.json', 'output', 'file=/tmp/tmp9z4f2c6p/prophet_modelti7uotgi/prophet_model-20231125072009.csv', 'method=optimize', 'algorithm=lbfgs', 'iter=10000']\n",
      "07:20:09 - cmdstanpy - INFO - Chain [1] start processing\n",
      "INFO:cmdstanpy:Chain [1] start processing\n"
     ]
    },
    {
     "name": "stdout",
     "output_type": "stream",
     "text": [
      "MPE: -5.571104134668121e-05\n",
      "{'changepoint_prior_scale': 0.2, 'holidays_prior_scale': 0.2, 'n_changepoints': 5, 'seasonality_mode': 'multiplicative', 'yearly_seasonality': 'auto'}\n"
     ]
    },
    {
     "name": "stderr",
     "output_type": "stream",
     "text": [
      "07:20:09 - cmdstanpy - INFO - Chain [1] done processing\n",
      "INFO:cmdstanpy:Chain [1] done processing\n",
      "INFO:prophet:Disabling weekly seasonality. Run prophet with weekly_seasonality=True to override this.\n",
      "INFO:prophet:Disabling daily seasonality. Run prophet with daily_seasonality=True to override this.\n",
      "DEBUG:cmdstanpy:input tempfile: /tmp/tmp9z4f2c6p/13zmnqtf.json\n",
      "DEBUG:cmdstanpy:input tempfile: /tmp/tmp9z4f2c6p/k5xdxadn.json\n",
      "DEBUG:cmdstanpy:idx 0\n",
      "DEBUG:cmdstanpy:running CmdStan, num_threads: None\n",
      "DEBUG:cmdstanpy:CmdStan args: ['/usr/local/lib/python3.10/dist-packages/prophet/stan_model/prophet_model.bin', 'random', 'seed=24000', 'data', 'file=/tmp/tmp9z4f2c6p/13zmnqtf.json', 'init=/tmp/tmp9z4f2c6p/k5xdxadn.json', 'output', 'file=/tmp/tmp9z4f2c6p/prophet_model2njvtbv4/prophet_model-20231125072010.csv', 'method=optimize', 'algorithm=lbfgs', 'iter=10000']\n",
      "07:20:10 - cmdstanpy - INFO - Chain [1] start processing\n",
      "INFO:cmdstanpy:Chain [1] start processing\n"
     ]
    },
    {
     "name": "stdout",
     "output_type": "stream",
     "text": [
      "MPE: 5.481082852918557e-06\n",
      "{'changepoint_prior_scale': 0.2, 'holidays_prior_scale': 0.2, 'n_changepoints': 5, 'seasonality_mode': 'multiplicative', 'yearly_seasonality': True}\n"
     ]
    },
    {
     "name": "stderr",
     "output_type": "stream",
     "text": [
      "07:20:10 - cmdstanpy - INFO - Chain [1] done processing\n",
      "INFO:cmdstanpy:Chain [1] done processing\n",
      "INFO:prophet:Disabling weekly seasonality. Run prophet with weekly_seasonality=True to override this.\n",
      "INFO:prophet:Disabling daily seasonality. Run prophet with daily_seasonality=True to override this.\n",
      "DEBUG:cmdstanpy:input tempfile: /tmp/tmp9z4f2c6p/yycb1abm.json\n",
      "DEBUG:cmdstanpy:input tempfile: /tmp/tmp9z4f2c6p/13ifndnq.json\n",
      "DEBUG:cmdstanpy:idx 0\n",
      "DEBUG:cmdstanpy:running CmdStan, num_threads: None\n",
      "DEBUG:cmdstanpy:CmdStan args: ['/usr/local/lib/python3.10/dist-packages/prophet/stan_model/prophet_model.bin', 'random', 'seed=52358', 'data', 'file=/tmp/tmp9z4f2c6p/yycb1abm.json', 'init=/tmp/tmp9z4f2c6p/13ifndnq.json', 'output', 'file=/tmp/tmp9z4f2c6p/prophet_modeli9s0qqs7/prophet_model-20231125072010.csv', 'method=optimize', 'algorithm=lbfgs', 'iter=10000']\n",
      "07:20:10 - cmdstanpy - INFO - Chain [1] start processing\n",
      "INFO:cmdstanpy:Chain [1] start processing\n",
      "07:20:11 - cmdstanpy - INFO - Chain [1] done processing\n",
      "INFO:cmdstanpy:Chain [1] done processing\n"
     ]
    },
    {
     "name": "stdout",
     "output_type": "stream",
     "text": [
      "MPE: 5.481082852918557e-06\n",
      "{'changepoint_prior_scale': 0.2, 'holidays_prior_scale': 0.2, 'n_changepoints': 5, 'seasonality_mode': 'multiplicative', 'yearly_seasonality': False}\n"
     ]
    },
    {
     "name": "stderr",
     "output_type": "stream",
     "text": [
      "INFO:prophet:Disabling weekly seasonality. Run prophet with weekly_seasonality=True to override this.\n",
      "INFO:prophet:Disabling daily seasonality. Run prophet with daily_seasonality=True to override this.\n",
      "DEBUG:cmdstanpy:input tempfile: /tmp/tmp9z4f2c6p/wgtdzev0.json\n",
      "DEBUG:cmdstanpy:input tempfile: /tmp/tmp9z4f2c6p/y6cb5jw1.json\n",
      "DEBUG:cmdstanpy:idx 0\n",
      "DEBUG:cmdstanpy:running CmdStan, num_threads: None\n",
      "DEBUG:cmdstanpy:CmdStan args: ['/usr/local/lib/python3.10/dist-packages/prophet/stan_model/prophet_model.bin', 'random', 'seed=79252', 'data', 'file=/tmp/tmp9z4f2c6p/wgtdzev0.json', 'init=/tmp/tmp9z4f2c6p/y6cb5jw1.json', 'output', 'file=/tmp/tmp9z4f2c6p/prophet_modelt4ewycw5/prophet_model-20231125072011.csv', 'method=optimize', 'algorithm=lbfgs', 'iter=10000']\n",
      "07:20:11 - cmdstanpy - INFO - Chain [1] start processing\n",
      "INFO:cmdstanpy:Chain [1] start processing\n"
     ]
    },
    {
     "name": "stdout",
     "output_type": "stream",
     "text": [
      "MPE: 5.612231300286949e-06\n",
      "{'changepoint_prior_scale': 0.2, 'holidays_prior_scale': 0.2, 'n_changepoints': 5, 'seasonality_mode': 'additive', 'yearly_seasonality': 'auto'}\n"
     ]
    },
    {
     "name": "stderr",
     "output_type": "stream",
     "text": [
      "07:20:11 - cmdstanpy - INFO - Chain [1] done processing\n",
      "INFO:cmdstanpy:Chain [1] done processing\n",
      "INFO:prophet:Disabling weekly seasonality. Run prophet with weekly_seasonality=True to override this.\n",
      "INFO:prophet:Disabling daily seasonality. Run prophet with daily_seasonality=True to override this.\n",
      "DEBUG:cmdstanpy:input tempfile: /tmp/tmp9z4f2c6p/pfr1vtjx.json\n",
      "DEBUG:cmdstanpy:input tempfile: /tmp/tmp9z4f2c6p/88zklbl7.json\n",
      "DEBUG:cmdstanpy:idx 0\n",
      "DEBUG:cmdstanpy:running CmdStan, num_threads: None\n",
      "DEBUG:cmdstanpy:CmdStan args: ['/usr/local/lib/python3.10/dist-packages/prophet/stan_model/prophet_model.bin', 'random', 'seed=65794', 'data', 'file=/tmp/tmp9z4f2c6p/pfr1vtjx.json', 'init=/tmp/tmp9z4f2c6p/88zklbl7.json', 'output', 'file=/tmp/tmp9z4f2c6p/prophet_model2m2jgz7_/prophet_model-20231125072012.csv', 'method=optimize', 'algorithm=lbfgs', 'iter=10000']\n",
      "07:20:12 - cmdstanpy - INFO - Chain [1] start processing\n",
      "INFO:cmdstanpy:Chain [1] start processing\n"
     ]
    },
    {
     "name": "stdout",
     "output_type": "stream",
     "text": [
      "MPE: 4.845691422396693e-06\n",
      "{'changepoint_prior_scale': 0.2, 'holidays_prior_scale': 0.2, 'n_changepoints': 5, 'seasonality_mode': 'additive', 'yearly_seasonality': True}\n"
     ]
    },
    {
     "name": "stderr",
     "output_type": "stream",
     "text": [
      "07:20:12 - cmdstanpy - INFO - Chain [1] done processing\n",
      "INFO:cmdstanpy:Chain [1] done processing\n",
      "INFO:prophet:Disabling weekly seasonality. Run prophet with weekly_seasonality=True to override this.\n",
      "INFO:prophet:Disabling daily seasonality. Run prophet with daily_seasonality=True to override this.\n",
      "DEBUG:cmdstanpy:input tempfile: /tmp/tmp9z4f2c6p/ha9ir93r.json\n",
      "DEBUG:cmdstanpy:input tempfile: /tmp/tmp9z4f2c6p/eavdpmbd.json\n",
      "DEBUG:cmdstanpy:idx 0\n",
      "DEBUG:cmdstanpy:running CmdStan, num_threads: None\n",
      "DEBUG:cmdstanpy:CmdStan args: ['/usr/local/lib/python3.10/dist-packages/prophet/stan_model/prophet_model.bin', 'random', 'seed=35824', 'data', 'file=/tmp/tmp9z4f2c6p/ha9ir93r.json', 'init=/tmp/tmp9z4f2c6p/eavdpmbd.json', 'output', 'file=/tmp/tmp9z4f2c6p/prophet_modelk6uy3yth/prophet_model-20231125072012.csv', 'method=optimize', 'algorithm=lbfgs', 'iter=10000']\n",
      "07:20:12 - cmdstanpy - INFO - Chain [1] start processing\n",
      "INFO:cmdstanpy:Chain [1] start processing\n",
      "07:20:13 - cmdstanpy - INFO - Chain [1] done processing\n",
      "INFO:cmdstanpy:Chain [1] done processing\n"
     ]
    },
    {
     "name": "stdout",
     "output_type": "stream",
     "text": [
      "MPE: 4.845691422396693e-06\n",
      "{'changepoint_prior_scale': 0.2, 'holidays_prior_scale': 0.2, 'n_changepoints': 5, 'seasonality_mode': 'additive', 'yearly_seasonality': False}\n"
     ]
    },
    {
     "name": "stderr",
     "output_type": "stream",
     "text": [
      "INFO:prophet:Disabling weekly seasonality. Run prophet with weekly_seasonality=True to override this.\n",
      "INFO:prophet:Disabling daily seasonality. Run prophet with daily_seasonality=True to override this.\n",
      "DEBUG:cmdstanpy:input tempfile: /tmp/tmp9z4f2c6p/_z6u9216.json\n",
      "DEBUG:cmdstanpy:input tempfile: /tmp/tmp9z4f2c6p/y_0j4ixd.json\n",
      "DEBUG:cmdstanpy:idx 0\n",
      "DEBUG:cmdstanpy:running CmdStan, num_threads: None\n",
      "DEBUG:cmdstanpy:CmdStan args: ['/usr/local/lib/python3.10/dist-packages/prophet/stan_model/prophet_model.bin', 'random', 'seed=60102', 'data', 'file=/tmp/tmp9z4f2c6p/_z6u9216.json', 'init=/tmp/tmp9z4f2c6p/y_0j4ixd.json', 'output', 'file=/tmp/tmp9z4f2c6p/prophet_modelo9qbu65i/prophet_model-20231125072013.csv', 'method=optimize', 'algorithm=lbfgs', 'iter=10000']\n",
      "07:20:13 - cmdstanpy - INFO - Chain [1] start processing\n",
      "INFO:cmdstanpy:Chain [1] start processing\n",
      "07:20:13 - cmdstanpy - INFO - Chain [1] done processing\n",
      "INFO:cmdstanpy:Chain [1] done processing\n"
     ]
    },
    {
     "name": "stdout",
     "output_type": "stream",
     "text": [
      "MPE: 5.612231300286949e-06\n"
     ]
    },
    {
     "data": {
      "image/png": "[encoded data removed]",
      "text/plain": [
       "<Figure size 900x600 with 2 Axes>"
      ]
     },
     "metadata": {},
     "output_type": "display_data"
    },
    {
     "data": {
      "image/png": "[encoded data removed]",
      "text/plain": [
       "<Figure size 1200x600 with 1 Axes>"
      ]
     },
     "metadata": {},
     "output_type": "display_data"
    }
   ],
   "source": [
    "from prophet import Prophet\n",
    "from sklearn.model_selection import ParameterGrid\n",
    "import numpy as np\n",
    "import pandas as pd\n",
    "import matplotlib.pyplot as plt\n",
    "\n",
    "\n",
    "\n",
    "parameters = {\n",
    "    \"changepoint_prior_scale\": [0.1, 0.2],\n",
    "    \"n_changepoints\": [1, 5],\n",
    "    \"holidays_prior_scale\": [0.1, 0.2],\n",
    "    \"seasonality_mode\": [\"multiplicative\", \"additive\"],\n",
    "    \"yearly_seasonality\": [\"auto\", True, False]\n",
    "}\n",
    "\n",
    "parameter_grid = ParameterGrid(parameters)\n",
    "\n",
    "parameter_list = []\n",
    "\n",
    "for p in parameter_grid:\n",
    "    print(p)\n",
    "    model = Prophet(\n",
    "        changepoint_prior_scale=p[\"changepoint_prior_scale\"],\n",
    "        n_changepoints=p[\"n_changepoints\"],\n",
    "        holidays_prior_scale=p[\"holidays_prior_scale\"],\n",
    "        seasonality_mode=p[\"seasonality_mode\"],\n",
    "        yearly_seasonality=p[\"yearly_seasonality\"],\n",
    "        interval_width=0.95\n",
    "    )\n",
    "\n",
    "    model.fit(df)\n",
    "    future = model.make_future_dataframe(periods=100, freq=\"D\")\n",
    "    forecast = model.predict(future)\n",
    "\n",
    "    predicted = forecast[[\"ds\", \"yhat\"]]\n",
    "    actual = df\n",
    "\n",
    "    mpe = np.mean((predicted[\"yhat\"] - actual[\"y\"]) / actual[\"y\"])\n",
    "    print(\"MPE:\", mpe)\n",
    "    parameter_list.append([mpe, p])\n",
    "\n",
    "best_params = min(parameter_list, key=lambda x: x[0])[1]\n",
    "\n",
    "best_model = Prophet(\n",
    "    changepoint_prior_scale=best_params[\"changepoint_prior_scale\"],\n",
    "    n_changepoints=best_params[\"n_changepoints\"],\n",
    "    holidays_prior_scale=best_params[\"holidays_prior_scale\"],\n",
    "    seasonality_mode=best_params[\"seasonality_mode\"],\n",
    "    yearly_seasonality=best_params[\"yearly_seasonality\"],\n",
    "    interval_width=0.95\n",
    ")\n",
    "\n",
    "best_model.fit(df)\n",
    "future = best_model.make_future_dataframe(periods=100, freq=\"D\")\n",
    "best_forecast = best_model.predict(future)\n",
    "\n",
    "# Visualize components of the Prophet model\n",
    "best_model.plot_components(best_forecast)\n",
    "plt.show()\n",
    "\n",
    "# Visualize predicted vs. actual values\n",
    "plt.figure(figsize=(12, 6))\n",
    "plt.plot(actual['ds'], actual['y'], label='Actual', color='blue')\n",
    "plt.plot(best_forecast['ds'], best_forecast['yhat'], label='Predicted', color='red')\n",
    "plt.fill_between(best_forecast['ds'], best_forecast['yhat_lower'], best_forecast['yhat_upper'], color='gray', alpha=0.2)\n",
    "plt.xlabel('Date')\n",
    "plt.ylabel('Value')\n",
    "plt.title('Prophet Model: Predicted vs. Actual')\n",
    "plt.legend()\n",
    "plt.show()\n"
   ]
  },
  {
   "cell_type": "code",
   "execution_count": null,
   "metadata": {
    "id": "ZuNQRlQ0UZT8"
   },
   "outputs": [],
   "source": []
  },
  {
   "cell_type": "code",
   "execution_count": null,
   "metadata": {
    "id": "l002B0Th01h-"
   },
   "outputs": [],
   "source": []
  }
 ],
 "metadata": {
  "accelerator": "TPU",
  "colab": {
   "provenance": []
  },
  "kernelspec": {
   "display_name": "Python 3 (ipykernel)",
   "language": "python",
   "name": "python3"
  },
  "language_info": {
   "codemirror_mode": {
    "name": "ipython",
    "version": 3
   },
   "file_extension": ".py",
   "mimetype": "text/x-python",
   "name": "python",
   "nbconvert_exporter": "python",
   "pygments_lexer": "ipython3",
   "version": "3.9.7"
  }
 },
 "nbformat": 4,
 "nbformat_minor": 1
}
